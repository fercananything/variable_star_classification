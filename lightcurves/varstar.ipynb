{
 "cells": [
  {
   "cell_type": "markdown",
   "metadata": {},
   "source": [
    "### **imports**"
   ]
  },
  {
   "cell_type": "code",
   "execution_count": 1,
   "metadata": {},
   "outputs": [
    {
     "name": "stdout",
     "output_type": "stream",
     "text": [
      "-------------------\n",
      "| pyFFTW detected |\n",
      "-------------------\n"
     ]
    }
   ],
   "source": [
    "import pandas as pd\n",
    "import numpy as np\n",
    "from astropy.io import ascii\n",
    "from astropy.table import QTable, Table, Column\n",
    "from astropy import units as u\n",
    "import string\n",
    "import upsilon"
   ]
  },
  {
   "cell_type": "markdown",
   "metadata": {},
   "source": [
    "### **making a table of all of the stars in the txt file**"
   ]
  },
  {
   "cell_type": "code",
   "execution_count": 2,
   "metadata": {},
   "outputs": [],
   "source": [
    "column1 = []\n",
    "column2 = []\n",
    "column3 = []\n",
    "column4 = []\n",
    "\n",
    "with open('rrlyr_vsx_clean.txt', 'r') as file:\n",
    "    for line in file:\n",
    "        empty = []\n",
    "        components = line.split(' ', 3)\n",
    "    \n",
    "        column1.append(components[0])\n",
    "        column2.append(float(components[1]))\n",
    "        column3.append(float(components[2]))\n",
    "        column4.append(components[3].strip())\n",
    "\n",
    "# column2 = column2 * u.deg\n",
    "# column3 = column3 * u.deg\n",
    "\n",
    "final_table = QTable([column1, column2, column3, column4], names = (\"Star Type\", \"RA\", \"Dec\", \"Other Info\"))"
   ]
  },
  {
   "cell_type": "code",
   "execution_count": 3,
   "metadata": {},
   "outputs": [
    {
     "data": {
      "text/html": [
       "<div><i>QTable length=145154</i>\n",
       "<table id=\"table5673995792\" class=\"table-striped table-bordered table-condensed\">\n",
       "<thead><tr><th>Star Type</th><th>RA</th><th>Dec</th><th>Other Info</th></tr></thead>\n",
       "<thead><tr><th>str24</th><th>float64</th><th>float64</th><th>str30</th></tr></thead>\n",
       "<tr><td>RRAB</td><td>0.01307</td><td>-2.43007</td><td>PS1-3PI J000003.12-022548.2</td></tr>\n",
       "<tr><td>RRAB</td><td>0.01521</td><td>35.36286</td><td>GM And</td></tr>\n",
       "<tr><td>RRAB</td><td>0.01669</td><td>18.40698</td><td>CSS_J000004.0+182425</td></tr>\n",
       "<tr><td>RRAB</td><td>0.02771</td><td>56.65331</td><td>V1023 Cas</td></tr>\n",
       "<tr><td>RRAB</td><td>0.03171</td><td>34.67397</td><td>SERIV 27</td></tr>\n",
       "<tr><td>RRAB</td><td>0.03901</td><td>5.58986</td><td>CSS_J000009.3+053523</td></tr>\n",
       "<tr><td>RRAB</td><td>0.04274</td><td>-2.51629</td><td>PS1-3PI J000010.25-023058.6</td></tr>\n",
       "<tr><td>RRAB</td><td>0.04331</td><td>-21.92086</td><td>CSS 120828:000010-215515</td></tr>\n",
       "<tr><td>RRAB</td><td>0.04782</td><td>62.71524</td><td>Gaia DR2 430046902041301376</td></tr>\n",
       "<tr><td>RRAB</td><td>0.06821</td><td>-72.77875</td><td>BP Tuc</td></tr>\n",
       "<tr><td>...</td><td>...</td><td>...</td><td>...</td></tr>\n",
       "<tr><td>RRC</td><td>359.93862</td><td>-28.19131</td><td>SSS_J235945.0-281126</td></tr>\n",
       "<tr><td>RRAB</td><td>359.942</td><td>46.45651</td><td>PS1-3PI J235946.07+462723.4</td></tr>\n",
       "<tr><td>RRAB</td><td>359.94269</td><td>-60.26738</td><td>ASASSN-V J235946.37-601602.6</td></tr>\n",
       "<tr><td>RRC</td><td>359.94528</td><td>37.18602</td><td>CSS_J235946.8+371110</td></tr>\n",
       "<tr><td>RRAB</td><td>359.95981</td><td>-18.15708</td><td>PS1-3PI J235950.34-180925.4</td></tr>\n",
       "<tr><td>RRC</td><td>359.96926</td><td>-7.01093</td><td>PS1-3PI J235952.62-070039.3</td></tr>\n",
       "<tr><td>RRAB</td><td>359.97391</td><td>17.33493</td><td>PS1-3PI J235953.72+172005.7</td></tr>\n",
       "<tr><td>RRAB</td><td>359.97879</td><td>-24.95662</td><td>PS1-3PI J235954.90-245723.8</td></tr>\n",
       "<tr><td>RRC</td><td>359.99107</td><td>-7.45278</td><td>PS1-3PI J235957.85-072710.0</td></tr>\n",
       "<tr><td>RRC</td><td>359.99135</td><td>40.38302</td><td>PS1-3PI J235957.93+402258.8</td></tr>\n",
       "</table></div>"
      ],
      "text/plain": [
       "<QTable length=145154>\n",
       "Star Type     RA       Dec             Other Info         \n",
       "  str24    float64   float64             str30            \n",
       "--------- --------- --------- ----------------------------\n",
       "     RRAB   0.01307  -2.43007  PS1-3PI J000003.12-022548.2\n",
       "     RRAB   0.01521  35.36286                       GM And\n",
       "     RRAB   0.01669  18.40698         CSS_J000004.0+182425\n",
       "     RRAB   0.02771  56.65331                    V1023 Cas\n",
       "     RRAB   0.03171  34.67397                     SERIV 27\n",
       "     RRAB   0.03901   5.58986         CSS_J000009.3+053523\n",
       "     RRAB   0.04274  -2.51629  PS1-3PI J000010.25-023058.6\n",
       "     RRAB   0.04331 -21.92086     CSS 120828:000010-215515\n",
       "     RRAB   0.04782  62.71524  Gaia DR2 430046902041301376\n",
       "     RRAB   0.06821 -72.77875                       BP Tuc\n",
       "      ...       ...       ...                          ...\n",
       "      RRC 359.93862 -28.19131         SSS_J235945.0-281126\n",
       "     RRAB   359.942  46.45651  PS1-3PI J235946.07+462723.4\n",
       "     RRAB 359.94269 -60.26738 ASASSN-V J235946.37-601602.6\n",
       "      RRC 359.94528  37.18602         CSS_J235946.8+371110\n",
       "     RRAB 359.95981 -18.15708  PS1-3PI J235950.34-180925.4\n",
       "      RRC 359.96926  -7.01093  PS1-3PI J235952.62-070039.3\n",
       "     RRAB 359.97391  17.33493  PS1-3PI J235953.72+172005.7\n",
       "     RRAB 359.97879 -24.95662  PS1-3PI J235954.90-245723.8\n",
       "      RRC 359.99107  -7.45278  PS1-3PI J235957.85-072710.0\n",
       "      RRC 359.99135  40.38302  PS1-3PI J235957.93+402258.8"
      ]
     },
     "execution_count": 3,
     "metadata": {},
     "output_type": "execute_result"
    }
   ],
   "source": [
    "final_table"
   ]
  },
  {
   "cell_type": "markdown",
   "metadata": {},
   "source": [
    "### **importing the asassn client**"
   ]
  },
  {
   "cell_type": "code",
   "execution_count": 4,
   "metadata": {},
   "outputs": [
    {
     "name": "stdout",
     "output_type": "stream",
     "text": [
      "Welcome to ASAS-SN Skypatrol!\n",
      "\n",
      "Current Deployment Version: 0.6.17 (26 JAN 2024)\n",
      "Please upgrade your client if not up to date.\n",
      "\n"
     ]
    }
   ],
   "source": [
    "from pyasassn.client import SkyPatrolClient\t\n",
    "client = SkyPatrolClient()"
   ]
  },
  {
   "cell_type": "markdown",
   "metadata": {},
   "source": [
    "### **downloading a csv file with the data from the star at a specified index**"
   ]
  },
  {
   "cell_type": "code",
   "execution_count": 5,
   "metadata": {},
   "outputs": [],
   "source": [
    "folder_path = \"/Users/zoesurles/Desktop/variable_star_classification/downloaded_lightcurves/\""
   ]
  },
  {
   "cell_type": "code",
   "execution_count": 6,
   "metadata": {},
   "outputs": [],
   "source": [
    "def classification_model(path, ra, dec, vsx_id, asassn_id):\n",
    "  # Load a classification model.\n",
    "  # (takes time, do only once if processing multiple lcs)\n",
    "  rf_model = upsilon.load_rf_model()\n",
    "\n",
    "\n",
    "  ############# Read input lc data #############\n",
    "  # Read the input lightcurve file\n",
    "  f = open(path, 'r')\n",
    "  data = np.loadtxt(f, dtype={'names': ('JD', 'mag', 'err'),'formats': ('float64', 'float64', 'float64')})\n",
    "  f.close()\n",
    "\n",
    "  # Split it into three arrays\n",
    "  date=data['JD']\n",
    "  mag=data['mag']\n",
    "  err=data['err']\n",
    "\n",
    "  # Sigma-clip the input lightcurve\n",
    "  date, mag, err = upsilon.utils.sigma_clipping(date, mag, err,  threshold=3, iteration=1)\n",
    "\n",
    "  ############# Extract lightcurve features #############\n",
    "  e_features = upsilon.ExtractFeatures(date, mag, err)\n",
    "  e_features.run()\n",
    "  features = e_features.get_features()\n",
    "\n",
    "  ############# Classify #############\n",
    "  # Classify the light curve\n",
    "  label, probability, flag = upsilon.predict(rf_model, features)\n",
    "\n",
    "  # Print results\n",
    "\n",
    "  output_file = open(path.replace('.txt', '_classification.txt'), 'w')\n",
    "  output_file.write(\"\\n\\n######### Classification results #########\\n\")\n",
    "  output_file.write(\"flag = \" + str(flag) + \" (0 - classification success, 1 - suspicious period)\\n\")\n",
    "  output_file.write(\"class = \" + str(label) + \"\\n\")\n",
    "  output_file.write(\"class_probability = \" + str(probability) + \"\\n\")\n",
    "  output_file.write(\"position = \" + str(ra) + \" \" + str(dec) + \"\\n\")\n",
    "  output_file.write(\"vsx_id = \" + str(vsx_id) + \"\\n\")\n",
    "  output_file.write(\"asassn_id = \" + str(asassn_id) + \"\\n\")\n",
    "  output_file.close()\n",
    "\n",
    "  print(\"\\n\\n######### Classification results #########\\n\")\n",
    "  print(\"flag = \" + str(flag) + \" (0 - classification success, 1 - suspicious period)\")\n",
    "  print(\"class = \" + str(label) )\n",
    "  print(\"class_probability = \" + str(probability) )\n",
    "  print(\"\\n\\n######### Lightcurve features #########\\n\")\n",
    "\n",
    "  for feature in features:\n",
    "    print( str(feature) + \" = \" + str(features[feature]) )\n",
    "  #  print feature,\" = \",features[feature]"
   ]
  },
  {
   "cell_type": "code",
   "execution_count": 11,
   "metadata": {},
   "outputs": [
    {
     "name": "stdout",
     "output_type": "stream",
     "text": [
      "Downloading Curves...\n",
      "Pulled 1 of 1\n"
     ]
    },
    {
     "name": "stderr",
     "output_type": "stream",
     "text": [
      "/Users/zoesurles/miniconda3/lib/python3.11/site-packages/sklearn/base.py:318: UserWarning: Trying to unpickle estimator DecisionTreeClassifier from version 0.24.1 when using version 1.2.2. This might lead to breaking code or invalid results. Use at your own risk. For more info please refer to:\n",
      "https://scikit-learn.org/stable/model_persistence.html#security-maintainability-limitations\n",
      "  warnings.warn(\n",
      "/Users/zoesurles/miniconda3/lib/python3.11/site-packages/sklearn/base.py:318: UserWarning: Trying to unpickle estimator RandomForestClassifier from version 0.24.1 when using version 1.2.2. This might lead to breaking code or invalid results. Use at your own risk. For more info please refer to:\n",
      "https://scikit-learn.org/stable/model_persistence.html#security-maintainability-limitations\n",
      "  warnings.warn(\n"
     ]
    },
    {
     "name": "stdout",
     "output_type": "stream",
     "text": [
      "\n",
      "\n",
      "######### Classification results #########\n",
      "\n",
      "flag = 0 (0 - classification success, 1 - suspicious period)\n",
      "class = RRL_ab\n",
      "class_probability = 1.0\n",
      "\n",
      "\n",
      "######### Lightcurve features #########\n",
      "\n",
      "amplitude = 0.2983202321187974\n",
      "cusum = 0.17799895701815555\n",
      "eta = 2.2729342085018343\n",
      "hl_amp_ratio = 0.44285351655523775\n",
      "kurtosis = -0.3816686813179335\n",
      "n_points = 961\n",
      "period = 0.5759936800099591\n",
      "period_SNR = 178.18256606351062\n",
      "period_log10FAP = -103.07279697227928\n",
      "period_uncertainty = 0.0001196497099851257\n",
      "phase_cusum = 0.23441219081288817\n",
      "phase_eta = 0.8182009227899499\n",
      "phi21 = 0.7194378560183168\n",
      "phi31 = 1.7335944003732617\n",
      "quartile31 = 0.41417612650111835\n",
      "r21 = 0.4207716724920455\n",
      "r31 = 0.22984094482928333\n",
      "shapiro_w = 0.9670776724815369\n",
      "skewness = -0.4354867264363516\n",
      "slope_per10 = -0.024314310257161277\n",
      "slope_per90 = 0.024630556667586373\n",
      "stetson_k = 0.6884985297621655\n",
      "weighted_mean = 16.23619334938714\n",
      "weighted_std = 0.27471906407814256\n",
      "Downloading Curves...\n",
      "Pulled 1 of 1\n"
     ]
    },
    {
     "name": "stderr",
     "output_type": "stream",
     "text": [
      "/Users/zoesurles/miniconda3/lib/python3.11/site-packages/sklearn/base.py:318: UserWarning: Trying to unpickle estimator DecisionTreeClassifier from version 0.24.1 when using version 1.2.2. This might lead to breaking code or invalid results. Use at your own risk. For more info please refer to:\n",
      "https://scikit-learn.org/stable/model_persistence.html#security-maintainability-limitations\n",
      "  warnings.warn(\n",
      "/Users/zoesurles/miniconda3/lib/python3.11/site-packages/sklearn/base.py:318: UserWarning: Trying to unpickle estimator RandomForestClassifier from version 0.24.1 when using version 1.2.2. This might lead to breaking code or invalid results. Use at your own risk. For more info please refer to:\n",
      "https://scikit-learn.org/stable/model_persistence.html#security-maintainability-limitations\n",
      "  warnings.warn(\n"
     ]
    },
    {
     "name": "stdout",
     "output_type": "stream",
     "text": [
      "\n",
      "\n",
      "######### Classification results #########\n",
      "\n",
      "flag = 1 (0 - classification success, 1 - suspicious period)\n",
      "class = CEPH_F\n",
      "class_probability = 0.48\n",
      "\n",
      "\n",
      "######### Lightcurve features #########\n",
      "\n",
      "amplitude = 0.5674361762625245\n",
      "cusum = 0.17192562694446986\n",
      "eta = 1.3270652816380162\n",
      "hl_amp_ratio = 0.6344677280552167\n",
      "kurtosis = -0.4173344252831428\n",
      "n_points = 873\n",
      "period = 29.600766106407185\n",
      "period_SNR = 119.31542776436908\n",
      "period_log10FAP = -56.95415684735496\n",
      "period_uncertainty = 0.31493613000596987\n",
      "phase_cusum = 0.2149105897955252\n",
      "phase_eta = 1.561787358414874\n",
      "phi21 = -2.936030166098245\n",
      "phi31 = -2.760858772364091\n",
      "quartile31 = 1.0560889024042162\n",
      "r21 = 0.3745373123456555\n",
      "r31 = 0.1778819663819481\n",
      "shapiro_w = 0.9556871652603149\n",
      "skewness = -0.569874295430106\n",
      "slope_per10 = -0.42046349202090366\n",
      "slope_per90 = 0.31016119751359744\n",
      "stetson_k = 0.13132276344462493\n",
      "weighted_mean = 17.93311056395681\n",
      "weighted_std = 0.6070411482891993\n",
      "Downloading Curves...\n",
      "Pulled 1 of 1\n"
     ]
    },
    {
     "name": "stderr",
     "output_type": "stream",
     "text": [
      "/Users/zoesurles/miniconda3/lib/python3.11/site-packages/sklearn/base.py:318: UserWarning: Trying to unpickle estimator DecisionTreeClassifier from version 0.24.1 when using version 1.2.2. This might lead to breaking code or invalid results. Use at your own risk. For more info please refer to:\n",
      "https://scikit-learn.org/stable/model_persistence.html#security-maintainability-limitations\n",
      "  warnings.warn(\n",
      "/Users/zoesurles/miniconda3/lib/python3.11/site-packages/sklearn/base.py:318: UserWarning: Trying to unpickle estimator RandomForestClassifier from version 0.24.1 when using version 1.2.2. This might lead to breaking code or invalid results. Use at your own risk. For more info please refer to:\n",
      "https://scikit-learn.org/stable/model_persistence.html#security-maintainability-limitations\n",
      "  warnings.warn(\n"
     ]
    },
    {
     "name": "stdout",
     "output_type": "stream",
     "text": [
      "\n",
      "\n",
      "######### Classification results #########\n",
      "\n",
      "flag = 0 (0 - classification success, 1 - suspicious period)\n",
      "class = RRL_ab\n",
      "class_probability = 0.9\n",
      "\n",
      "\n",
      "######### Lightcurve features #########\n",
      "\n",
      "amplitude = 0.3559657322203219\n",
      "cusum = 0.10753393695918277\n",
      "eta = 1.4697394307836915\n",
      "hl_amp_ratio = 0.6023852422999114\n",
      "kurtosis = -0.7095748308524703\n",
      "n_points = 879\n",
      "period = 0.5047530969540037\n",
      "period_SNR = 106.63396025464299\n",
      "period_log10FAP = -49.87638056245587\n",
      "period_uncertainty = 9.194715699406553e-05\n",
      "phase_cusum = 0.22247417418088664\n",
      "phase_eta = 1.3317470074905482\n",
      "phi21 = -2.704882110003022\n",
      "phi31 = -1.862556647350471\n",
      "quartile31 = 0.7072286713658968\n",
      "r21 = 0.5079965438989301\n",
      "r31 = 0.24121391743814052\n",
      "shapiro_w = 0.9761942625045776\n",
      "skewness = -0.3280184239631997\n",
      "slope_per10 = -0.012078389638241632\n",
      "slope_per90 = 0.011705945148283789\n",
      "stetson_k = 0.6172692543542503\n",
      "weighted_mean = 17.44664896945939\n",
      "weighted_std = 0.44127232420929663\n",
      "Downloading Curves...\n",
      "Pulled 1 of 1\n"
     ]
    },
    {
     "name": "stderr",
     "output_type": "stream",
     "text": [
      "/Users/zoesurles/miniconda3/lib/python3.11/site-packages/sklearn/base.py:318: UserWarning: Trying to unpickle estimator DecisionTreeClassifier from version 0.24.1 when using version 1.2.2. This might lead to breaking code or invalid results. Use at your own risk. For more info please refer to:\n",
      "https://scikit-learn.org/stable/model_persistence.html#security-maintainability-limitations\n",
      "  warnings.warn(\n",
      "/Users/zoesurles/miniconda3/lib/python3.11/site-packages/sklearn/base.py:318: UserWarning: Trying to unpickle estimator RandomForestClassifier from version 0.24.1 when using version 1.2.2. This might lead to breaking code or invalid results. Use at your own risk. For more info please refer to:\n",
      "https://scikit-learn.org/stable/model_persistence.html#security-maintainability-limitations\n",
      "  warnings.warn(\n"
     ]
    },
    {
     "name": "stdout",
     "output_type": "stream",
     "text": [
      "\n",
      "\n",
      "######### Classification results #########\n",
      "\n",
      "flag = 0 (0 - classification success, 1 - suspicious period)\n",
      "class = RRL_ab\n",
      "class_probability = 1.0\n",
      "\n",
      "\n",
      "######### Lightcurve features #########\n",
      "\n",
      "amplitude = 0.19424881679051437\n",
      "cusum = 0.10203171570624923\n",
      "eta = 2.1385363382664044\n",
      "hl_amp_ratio = 0.34783602651267503\n",
      "kurtosis = -0.425316126805952\n",
      "n_points = 1345\n",
      "period = 0.5946316313563619\n",
      "period_SNR = 190.3815055463475\n",
      "period_log10FAP = -154.61411390613216\n",
      "period_uncertainty = 0.00012776786800899886\n",
      "phase_cusum = 0.22778930507736841\n",
      "phase_eta = 0.6449250545463119\n",
      "phi21 = 0.6221185914306218\n",
      "phi31 = 1.5312682374527329\n",
      "quartile31 = 0.272544941719552\n",
      "r21 = 0.4554864187272973\n",
      "r31 = 0.21240426867259737\n",
      "shapiro_w = 0.917834460735321\n",
      "skewness = -0.7488185263220661\n",
      "slope_per10 = -0.038623994788294834\n",
      "slope_per90 = 0.03716606990882367\n",
      "stetson_k = 0.690935119329278\n",
      "weighted_mean = 14.789870649314969\n",
      "weighted_std = 0.18273211269978998\n"
     ]
    }
   ],
   "source": [
    "num_iterations = 10\n",
    "empty_list = []\n",
    "for i in range(5, 10):\n",
    "    if i == 8:\n",
    "        continue\n",
    "    search = client.cone_search(ra_deg = final_table[\"RA\"][i], dec_deg = final_table[\"Dec\"][i], radius=0.0003, catalog='aavsovsx', download=True)\n",
    "\n",
    "    savecsv = search.save(save_dir = folder_path, file_format=\"csv\")[1]\n",
    "    empty_list.append(savecsv)\n",
    "\n",
    "    new_file = pd.read_csv(savecsv, skiprows=1)\n",
    "\n",
    "    g_filter = new_file[new_file['phot_filter'] == 'g']\n",
    "    web_format = g_filter[[\"jd\", \"mag\", \"mag_err\"]]\n",
    "    web_format.to_csv(savecsv.replace(\".csv\", \".txt\"), sep='\\t', index=False, header = False)\n",
    "\n",
    "    classification_model(savecsv.replace(\".csv\", \".txt\"), final_table[\"RA\"][i], final_table[\"Dec\"][i], final_table[\"Other Info\"][i], new_file[\"asas_sn_id\"][0])"
   ]
  },
  {
   "cell_type": "code",
   "execution_count": null,
   "metadata": {},
   "outputs": [],
   "source": []
  }
 ],
 "metadata": {
  "kernelspec": {
   "display_name": "base",
   "language": "python",
   "name": "python3"
  },
  "language_info": {
   "codemirror_mode": {
    "name": "ipython",
    "version": 3
   },
   "file_extension": ".py",
   "mimetype": "text/x-python",
   "name": "python",
   "nbconvert_exporter": "python",
   "pygments_lexer": "ipython3",
   "version": "3.11.7"
  }
 },
 "nbformat": 4,
 "nbformat_minor": 2
}
