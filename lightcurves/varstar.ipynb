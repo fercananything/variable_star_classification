{
 "cells": [
  {
   "cell_type": "code",
   "execution_count": 1,
   "metadata": {},
   "outputs": [],
   "source": [
    "import pandas as pd\n",
    "import numpy as np\n",
    "from astropy.io import ascii\n",
    "from astropy.table import QTable, Table, Column\n",
    "from astropy import units as u"
   ]
  },
  {
   "cell_type": "code",
   "execution_count": 2,
   "metadata": {},
   "outputs": [
    {
     "data": {
      "text/html": [
       "<div>\n",
       "<style scoped>\n",
       "    .dataframe tbody tr th:only-of-type {\n",
       "        vertical-align: middle;\n",
       "    }\n",
       "\n",
       "    .dataframe tbody tr th {\n",
       "        vertical-align: top;\n",
       "    }\n",
       "\n",
       "    .dataframe thead th {\n",
       "        text-align: right;\n",
       "    }\n",
       "</style>\n",
       "<table border=\"1\" class=\"dataframe\">\n",
       "  <thead>\n",
       "    <tr style=\"text-align: right;\">\n",
       "      <th></th>\n",
       "      <th>RRAB 0.01307 -2.43007 PS1-3PI J000003.12-022548.2</th>\n",
       "    </tr>\n",
       "  </thead>\n",
       "  <tbody>\n",
       "    <tr>\n",
       "      <th>0</th>\n",
       "      <td>RRAB 0.01521 +35.36286 GM And</td>\n",
       "    </tr>\n",
       "    <tr>\n",
       "      <th>1</th>\n",
       "      <td>RRAB 0.01669 +18.40698 CSS_J000004.0+182425</td>\n",
       "    </tr>\n",
       "    <tr>\n",
       "      <th>2</th>\n",
       "      <td>RRAB 0.02771 +56.65331 V1023 Cas</td>\n",
       "    </tr>\n",
       "    <tr>\n",
       "      <th>3</th>\n",
       "      <td>RRAB 0.03171 +34.67397 SERIV 27</td>\n",
       "    </tr>\n",
       "    <tr>\n",
       "      <th>4</th>\n",
       "      <td>RRAB 0.03901 +5.58986 CSS_J000009.3+053523</td>\n",
       "    </tr>\n",
       "    <tr>\n",
       "      <th>...</th>\n",
       "      <td>...</td>\n",
       "    </tr>\n",
       "    <tr>\n",
       "      <th>145148</th>\n",
       "      <td>RRC 359.96926 -7.01093 PS1-3PI J235952.62-0700...</td>\n",
       "    </tr>\n",
       "    <tr>\n",
       "      <th>145149</th>\n",
       "      <td>RRAB 359.97391 +17.33493 PS1-3PI J235953.72+17...</td>\n",
       "    </tr>\n",
       "    <tr>\n",
       "      <th>145150</th>\n",
       "      <td>RRAB 359.97879 -24.95662 PS1-3PI J235954.90-24...</td>\n",
       "    </tr>\n",
       "    <tr>\n",
       "      <th>145151</th>\n",
       "      <td>RRC 359.99107 -7.45278 PS1-3PI J235957.85-0727...</td>\n",
       "    </tr>\n",
       "    <tr>\n",
       "      <th>145152</th>\n",
       "      <td>RRC 359.99135 +40.38302 PS1-3PI J235957.93+402...</td>\n",
       "    </tr>\n",
       "  </tbody>\n",
       "</table>\n",
       "<p>145153 rows × 1 columns</p>\n",
       "</div>"
      ],
      "text/plain": [
       "        RRAB 0.01307 -2.43007 PS1-3PI J000003.12-022548.2\n",
       "0                           RRAB 0.01521 +35.36286 GM And\n",
       "1             RRAB 0.01669 +18.40698 CSS_J000004.0+182425\n",
       "2                        RRAB 0.02771 +56.65331 V1023 Cas\n",
       "3                         RRAB 0.03171 +34.67397 SERIV 27\n",
       "4              RRAB 0.03901 +5.58986 CSS_J000009.3+053523\n",
       "...                                                   ...\n",
       "145148  RRC 359.96926 -7.01093 PS1-3PI J235952.62-0700...\n",
       "145149  RRAB 359.97391 +17.33493 PS1-3PI J235953.72+17...\n",
       "145150  RRAB 359.97879 -24.95662 PS1-3PI J235954.90-24...\n",
       "145151  RRC 359.99107 -7.45278 PS1-3PI J235957.85-0727...\n",
       "145152  RRC 359.99135 +40.38302 PS1-3PI J235957.93+402...\n",
       "\n",
       "[145153 rows x 1 columns]"
      ]
     },
     "execution_count": 2,
     "metadata": {},
     "output_type": "execute_result"
    }
   ],
   "source": [
    "rrlyr = pd.read_table(\"rrlyr_vsx_clean.txt\")\n",
    "rrlyr"
   ]
  },
  {
   "cell_type": "code",
   "execution_count": 3,
   "metadata": {},
   "outputs": [],
   "source": [
    "column1 = []\n",
    "column2 = []\n",
    "column3 = []\n",
    "column4 = []\n",
    "\n",
    "with open('rrlyr_vsx_clean.txt', 'r') as file:\n",
    "    for line in file:\n",
    "        empty = []\n",
    "        components = line.split(' ', 3)\n",
    "    \n",
    "        column1.append(components[0])\n",
    "        column2.append(float(components[1]))\n",
    "        column3.append(float(components[2]))\n",
    "        column4.append(components[3].strip())\n",
    "\n",
    "# column2 = column2 * u.deg\n",
    "# column3 = column3 * u.deg\n",
    "\n",
    "final_table = QTable([column1, column2, column3, column4], names = (\"Star Type\", \"RA\", \"Dec\", \"Other Info\"))"
   ]
  },
  {
   "cell_type": "code",
   "execution_count": 4,
   "metadata": {},
   "outputs": [
    {
     "data": {
      "text/html": [
       "<div><i>QTable length=145154</i>\n",
       "<table id=\"table5689765392\" class=\"table-striped table-bordered table-condensed\">\n",
       "<thead><tr><th>Star Type</th><th>RA</th><th>Dec</th><th>Other Info</th></tr></thead>\n",
       "<thead><tr><th>str24</th><th>float64</th><th>float64</th><th>str30</th></tr></thead>\n",
       "<tr><td>RRAB</td><td>0.01307</td><td>-2.43007</td><td>PS1-3PI J000003.12-022548.2</td></tr>\n",
       "<tr><td>RRAB</td><td>0.01521</td><td>35.36286</td><td>GM And</td></tr>\n",
       "<tr><td>RRAB</td><td>0.01669</td><td>18.40698</td><td>CSS_J000004.0+182425</td></tr>\n",
       "<tr><td>RRAB</td><td>0.02771</td><td>56.65331</td><td>V1023 Cas</td></tr>\n",
       "<tr><td>RRAB</td><td>0.03171</td><td>34.67397</td><td>SERIV 27</td></tr>\n",
       "<tr><td>RRAB</td><td>0.03901</td><td>5.58986</td><td>CSS_J000009.3+053523</td></tr>\n",
       "<tr><td>RRAB</td><td>0.04274</td><td>-2.51629</td><td>PS1-3PI J000010.25-023058.6</td></tr>\n",
       "<tr><td>RRAB</td><td>0.04331</td><td>-21.92086</td><td>CSS 120828:000010-215515</td></tr>\n",
       "<tr><td>RRAB</td><td>0.04782</td><td>62.71524</td><td>Gaia DR2 430046902041301376</td></tr>\n",
       "<tr><td>RRAB</td><td>0.06821</td><td>-72.77875</td><td>BP Tuc</td></tr>\n",
       "<tr><td>...</td><td>...</td><td>...</td><td>...</td></tr>\n",
       "<tr><td>RRC</td><td>359.93862</td><td>-28.19131</td><td>SSS_J235945.0-281126</td></tr>\n",
       "<tr><td>RRAB</td><td>359.942</td><td>46.45651</td><td>PS1-3PI J235946.07+462723.4</td></tr>\n",
       "<tr><td>RRAB</td><td>359.94269</td><td>-60.26738</td><td>ASASSN-V J235946.37-601602.6</td></tr>\n",
       "<tr><td>RRC</td><td>359.94528</td><td>37.18602</td><td>CSS_J235946.8+371110</td></tr>\n",
       "<tr><td>RRAB</td><td>359.95981</td><td>-18.15708</td><td>PS1-3PI J235950.34-180925.4</td></tr>\n",
       "<tr><td>RRC</td><td>359.96926</td><td>-7.01093</td><td>PS1-3PI J235952.62-070039.3</td></tr>\n",
       "<tr><td>RRAB</td><td>359.97391</td><td>17.33493</td><td>PS1-3PI J235953.72+172005.7</td></tr>\n",
       "<tr><td>RRAB</td><td>359.97879</td><td>-24.95662</td><td>PS1-3PI J235954.90-245723.8</td></tr>\n",
       "<tr><td>RRC</td><td>359.99107</td><td>-7.45278</td><td>PS1-3PI J235957.85-072710.0</td></tr>\n",
       "<tr><td>RRC</td><td>359.99135</td><td>40.38302</td><td>PS1-3PI J235957.93+402258.8</td></tr>\n",
       "</table></div>"
      ],
      "text/plain": [
       "<QTable length=145154>\n",
       "Star Type     RA       Dec             Other Info         \n",
       "  str24    float64   float64             str30            \n",
       "--------- --------- --------- ----------------------------\n",
       "     RRAB   0.01307  -2.43007  PS1-3PI J000003.12-022548.2\n",
       "     RRAB   0.01521  35.36286                       GM And\n",
       "     RRAB   0.01669  18.40698         CSS_J000004.0+182425\n",
       "     RRAB   0.02771  56.65331                    V1023 Cas\n",
       "     RRAB   0.03171  34.67397                     SERIV 27\n",
       "     RRAB   0.03901   5.58986         CSS_J000009.3+053523\n",
       "     RRAB   0.04274  -2.51629  PS1-3PI J000010.25-023058.6\n",
       "     RRAB   0.04331 -21.92086     CSS 120828:000010-215515\n",
       "     RRAB   0.04782  62.71524  Gaia DR2 430046902041301376\n",
       "     RRAB   0.06821 -72.77875                       BP Tuc\n",
       "      ...       ...       ...                          ...\n",
       "      RRC 359.93862 -28.19131         SSS_J235945.0-281126\n",
       "     RRAB   359.942  46.45651  PS1-3PI J235946.07+462723.4\n",
       "     RRAB 359.94269 -60.26738 ASASSN-V J235946.37-601602.6\n",
       "      RRC 359.94528  37.18602         CSS_J235946.8+371110\n",
       "     RRAB 359.95981 -18.15708  PS1-3PI J235950.34-180925.4\n",
       "      RRC 359.96926  -7.01093  PS1-3PI J235952.62-070039.3\n",
       "     RRAB 359.97391  17.33493  PS1-3PI J235953.72+172005.7\n",
       "     RRAB 359.97879 -24.95662  PS1-3PI J235954.90-245723.8\n",
       "      RRC 359.99107  -7.45278  PS1-3PI J235957.85-072710.0\n",
       "      RRC 359.99135  40.38302  PS1-3PI J235957.93+402258.8"
      ]
     },
     "execution_count": 4,
     "metadata": {},
     "output_type": "execute_result"
    }
   ],
   "source": [
    "final_table"
   ]
  },
  {
   "cell_type": "code",
   "execution_count": 5,
   "metadata": {},
   "outputs": [
    {
     "name": "stdout",
     "output_type": "stream",
     "text": [
      "Welcome to ASAS-SN Skypatrol!\n",
      "\n",
      "Current Deployment Version: 0.6.17 (26 JAN 2024)\n",
      "Please upgrade your client if not up to date.\n",
      "\n"
     ]
    }
   ],
   "source": [
    "from pyasassn.client import SkyPatrolClient\t\n",
    "client = SkyPatrolClient()"
   ]
  },
  {
   "cell_type": "code",
   "execution_count": 6,
   "metadata": {},
   "outputs": [
    {
     "data": {
      "text/plain": [
       "0.01307"
      ]
     },
     "execution_count": 6,
     "metadata": {},
     "output_type": "execute_result"
    }
   ],
   "source": [
    "final_table[\"RA\"][0]"
   ]
  },
  {
   "cell_type": "code",
   "execution_count": 7,
   "metadata": {},
   "outputs": [
    {
     "name": "stdout",
     "output_type": "stream",
     "text": [
      "Downloading Curves...\n",
      "Pulled 1 of 1\n",
      "LightCurveCollection with 1 light curves \n",
      "   asas_sn_id    ra_deg    dec_deg                catalog_sources\n",
      "0  8590948612  0.015352  35.362782  [stellar_main, tic, aavsovsx]\n"
     ]
    }
   ],
   "source": [
    "# search = client.cone_search(ra_deg=270, dec_deg=88, radius=0.1, catalog='master_list', download=True)\n",
    "search = client.cone_search(ra_deg = final_table[\"RA\"][1], dec_deg = final_table[\"Dec\"][1], radius=0.0003, catalog='master_list', download=True)\n",
    "print(search)\n",
    "\n",
    "\n",
    "# print(search[8590476870].data)\n",
    "\n",
    "path = search.save(save_dir='/Users/zoesurles/Desktop/variable_star_classification/downloaded_lightcurves/', file_format=\"csv\")[1]"
   ]
  },
  {
   "cell_type": "code",
   "execution_count": null,
   "metadata": {},
   "outputs": [],
   "source": []
  }
 ],
 "metadata": {
  "kernelspec": {
   "display_name": "base",
   "language": "python",
   "name": "python3"
  },
  "language_info": {
   "codemirror_mode": {
    "name": "ipython",
    "version": 3
   },
   "file_extension": ".py",
   "mimetype": "text/x-python",
   "name": "python",
   "nbconvert_exporter": "python",
   "pygments_lexer": "ipython3",
   "version": "3.11.7"
  }
 },
 "nbformat": 4,
 "nbformat_minor": 2
}
