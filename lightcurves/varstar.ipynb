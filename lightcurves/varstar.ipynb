{
 "cells": [
  {
   "cell_type": "markdown",
   "metadata": {},
   "source": [
    "### **imports**"
   ]
  },
  {
   "cell_type": "code",
   "execution_count": 1,
   "metadata": {},
   "outputs": [
    {
     "name": "stdout",
     "output_type": "stream",
     "text": [
      "-------------------\n",
      "| pyFFTW detected |\n",
      "-------------------\n"
     ]
    }
   ],
   "source": [
    "import pandas as pd\n",
    "import numpy as np\n",
    "from astropy.io import ascii\n",
    "from astropy.table import QTable, Table, Column\n",
    "from astropy import units as u\n",
    "import string\n",
    "import os\n",
    "import upsilon"
   ]
  },
  {
   "cell_type": "markdown",
   "metadata": {},
   "source": [
    "### **making a table of all of the stars in the txt file**"
   ]
  },
  {
   "cell_type": "code",
   "execution_count": 2,
   "metadata": {},
   "outputs": [],
   "source": [
    "column1 = []\n",
    "column2 = []\n",
    "column3 = []\n",
    "column4 = []\n",
    "column5 = []\n",
    "\n",
    "with open('rrlyr_vsx_clean2.txt', 'r') as file:\n",
    "    for line in file:\n",
    "        components = line.split(' ', 4)\n",
    "    \n",
    "        try:\n",
    "            magnitude = float(components[3])  # Try to convert the 4th component to float\n",
    "        except ValueError:\n",
    "            continue\n",
    "\n",
    "        if magnitude < 15.5:\n",
    "            column1.append(components[0])\n",
    "            column2.append(float(components[1]))\n",
    "            column3.append(float(components[2]))\n",
    "            column4.append(magnitude)\n",
    "            column5.append(components[4].strip())\n",
    "\n",
    "final_table = QTable([column1, column2, column3, column4, column5], names = (\"Star Type\", \"RA\", \"Dec\", \"Magnitude\", \"Other Info\"))"
   ]
  },
  {
   "cell_type": "code",
   "execution_count": 3,
   "metadata": {},
   "outputs": [
    {
     "data": {
      "text/html": [
       "<div><i>QTable length=29417</i>\n",
       "<table id=\"table5828078480\" class=\"table-striped table-bordered table-condensed\">\n",
       "<thead><tr><th>Star Type</th><th>RA</th><th>Dec</th><th>Magnitude</th><th>Other Info</th></tr></thead>\n",
       "<thead><tr><th>str24</th><th>float64</th><th>float64</th><th>float64</th><th>str29</th></tr></thead>\n",
       "<tr><td>RRAB</td><td>0.01521</td><td>35.36286</td><td>12.43</td><td>GM And</td></tr>\n",
       "<tr><td>RRAB</td><td>0.01669</td><td>18.40698</td><td>15.171</td><td>CSS_J000004.0+182425</td></tr>\n",
       "<tr><td>RRAB</td><td>0.03171</td><td>34.67397</td><td>14.95</td><td>SERIV 27</td></tr>\n",
       "<tr><td>RRAB</td><td>0.06821</td><td>-72.77875</td><td>15.1</td><td>BP Tuc</td></tr>\n",
       "<tr><td>RRAB</td><td>0.099</td><td>36.3287</td><td>14.46</td><td>NSVS 6313844</td></tr>\n",
       "<tr><td>RRAB</td><td>0.1338</td><td>22.99388</td><td>14.671</td><td>CSS_J000032.1+225937</td></tr>\n",
       "<tr><td>RRAB</td><td>0.13423</td><td>-54.29512</td><td>15.26</td><td>ASASSN-V J000032.21-541742.4</td></tr>\n",
       "<tr><td>RRAB</td><td>0.14829</td><td>26.66375</td><td>12.96</td><td>GV Peg</td></tr>\n",
       "<tr><td>RRC</td><td>0.15377</td><td>-60.98439</td><td>15.18</td><td>ASASSN-V J000036.92-605903.9</td></tr>\n",
       "<tr><td>RRC</td><td>0.18471</td><td>37.84283</td><td>13.1</td><td>ROTSE1 J000044.33 +375034.2</td></tr>\n",
       "<tr><td>...</td><td>...</td><td>...</td><td>...</td><td>...</td></tr>\n",
       "<tr><td>RRAB/BL:</td><td>359.67567</td><td>41.48881</td><td>12.73</td><td>DY And</td></tr>\n",
       "<tr><td>RRC</td><td>359.73579</td><td>-44.67078</td><td>14.3</td><td>DV Phe</td></tr>\n",
       "<tr><td>RRC</td><td>359.77146</td><td>54.01686</td><td>14.2</td><td>QY Cas</td></tr>\n",
       "<tr><td>RRC</td><td>359.80239</td><td>53.94432</td><td>14.97</td><td>PS1-3PI J235912.57+535639.5</td></tr>\n",
       "<tr><td>RRAB</td><td>359.90512</td><td>-72.08878</td><td>15.29</td><td>ASASSN-V J235937.21-720519.4</td></tr>\n",
       "<tr><td>RRC</td><td>359.93546</td><td>17.65683</td><td>13.66</td><td>ASAS J235945+1739.5</td></tr>\n",
       "<tr><td>RRC</td><td>359.93652</td><td>-11.75557</td><td>14.42</td><td>ASASSN-V J235944.77-114520.0</td></tr>\n",
       "<tr><td>RRC</td><td>359.93862</td><td>-28.19131</td><td>14.93</td><td>SSS_J235945.0-281126</td></tr>\n",
       "<tr><td>RRAB</td><td>359.94269</td><td>-60.26738</td><td>15.02</td><td>ASASSN-V J235946.37-601602.6</td></tr>\n",
       "<tr><td>RRC</td><td>359.94528</td><td>37.18602</td><td>15.215</td><td>CSS_J235946.8+371110</td></tr>\n",
       "</table></div>"
      ],
      "text/plain": [
       "<QTable length=29417>\n",
       "Star Type     RA       Dec    Magnitude          Other Info         \n",
       "  str24    float64   float64   float64             str29            \n",
       "--------- --------- --------- --------- ----------------------------\n",
       "     RRAB   0.01521  35.36286     12.43                       GM And\n",
       "     RRAB   0.01669  18.40698    15.171         CSS_J000004.0+182425\n",
       "     RRAB   0.03171  34.67397     14.95                     SERIV 27\n",
       "     RRAB   0.06821 -72.77875      15.1                       BP Tuc\n",
       "     RRAB     0.099   36.3287     14.46                 NSVS 6313844\n",
       "     RRAB    0.1338  22.99388    14.671         CSS_J000032.1+225937\n",
       "     RRAB   0.13423 -54.29512     15.26 ASASSN-V J000032.21-541742.4\n",
       "     RRAB   0.14829  26.66375     12.96                       GV Peg\n",
       "      RRC   0.15377 -60.98439     15.18 ASASSN-V J000036.92-605903.9\n",
       "      RRC   0.18471  37.84283      13.1  ROTSE1 J000044.33 +375034.2\n",
       "      ...       ...       ...       ...                          ...\n",
       " RRAB/BL: 359.67567  41.48881     12.73                       DY And\n",
       "      RRC 359.73579 -44.67078      14.3                       DV Phe\n",
       "      RRC 359.77146  54.01686      14.2                       QY Cas\n",
       "      RRC 359.80239  53.94432     14.97  PS1-3PI J235912.57+535639.5\n",
       "     RRAB 359.90512 -72.08878     15.29 ASASSN-V J235937.21-720519.4\n",
       "      RRC 359.93546  17.65683     13.66          ASAS J235945+1739.5\n",
       "      RRC 359.93652 -11.75557     14.42 ASASSN-V J235944.77-114520.0\n",
       "      RRC 359.93862 -28.19131     14.93         SSS_J235945.0-281126\n",
       "     RRAB 359.94269 -60.26738     15.02 ASASSN-V J235946.37-601602.6\n",
       "      RRC 359.94528  37.18602    15.215         CSS_J235946.8+371110"
      ]
     },
     "execution_count": 3,
     "metadata": {},
     "output_type": "execute_result"
    }
   ],
   "source": [
    "final_table"
   ]
  },
  {
   "cell_type": "markdown",
   "metadata": {},
   "source": [
    "### **importing the asassn client**"
   ]
  },
  {
   "cell_type": "code",
   "execution_count": 4,
   "metadata": {},
   "outputs": [
    {
     "name": "stdout",
     "output_type": "stream",
     "text": [
      "Welcome to ASAS-SN Skypatrol!\n",
      "\n",
      "Current Deployment Version: 0.6.17 (26 JAN 2024)\n",
      "Please upgrade your client if not up to date.\n",
      "\n"
     ]
    }
   ],
   "source": [
    "from pyasassn.client import SkyPatrolClient\t\n",
    "client = SkyPatrolClient()"
   ]
  },
  {
   "cell_type": "markdown",
   "metadata": {},
   "source": [
    "### **downloading a csv file with the data from the star at a specified index**"
   ]
  },
  {
   "cell_type": "code",
   "execution_count": 5,
   "metadata": {},
   "outputs": [],
   "source": [
    "def classification_model(path, ra, dec, magnitude1, vsx_id, asassn_id):\n",
    "  # Load a classification model.\n",
    "  # (takes time, do only once if processing multiple lcs)\n",
    "  rf_model = upsilon.load_rf_model()\n",
    "\n",
    "\n",
    "  ############# Read input lc data #############\n",
    "  # Read the input lightcurve file\n",
    "  f = open(path, 'r')\n",
    "  data = np.loadtxt(f, dtype={'names': ('JD', 'mag', 'err'),'formats': ('float64', 'float64', 'float64')})\n",
    "  f.close()\n",
    "\n",
    "  # Split it into three arrays\n",
    "  date=data['JD']\n",
    "  mag=data['mag']\n",
    "  err=data['err']\n",
    "\n",
    "  # Sigma-clip the input lightcurve\n",
    "  date, mag, err = upsilon.utils.sigma_clipping(date, mag, err,  threshold=3, iteration=1)\n",
    "\n",
    "  ############# Extract lightcurve features #############\n",
    "  e_features = upsilon.ExtractFeatures(date, mag, err)\n",
    "  e_features.run()\n",
    "  features = e_features.get_features()\n",
    "\n",
    "  ############# Classify #############\n",
    "  # Classify the light curve\n",
    "  label, probability, flag = upsilon.predict(rf_model, features)\n",
    "\n",
    "  # Print results\n",
    "\n",
    "  output_file = open(path.replace('.txt', '_classification.txt'), 'w')\n",
    "  output_file.write(\"\\n\\n######### Classification results #########\\n\")\n",
    "  output_file.write(\"flag = \" + str(flag) + \" (0 - classification success, 1 - suspicious period)\\n\")\n",
    "  output_file.write(\"class = \" + str(label) + \"\\n\")\n",
    "  output_file.write(\"class_probability = \" + str(probability) + \"\\n\")\n",
    "  output_file.write(\"position = \" + str(ra) + \" \" + str(dec) + \"\\n\")\n",
    "  output_file.write(\"magnitude = \" + str(magnitude1) + \"\\n\")\n",
    "  output_file.write(\"vsx_id = \" + str(vsx_id) + \"\\n\")\n",
    "  output_file.write(\"asassn_id = \" + str(asassn_id) + \"\\n\")\n",
    "  output_file.close()\n",
    "\n",
    "  print(\"\\n\\n######### Classification results #########\\n\")\n",
    "  print(\"flag = \" + str(flag) + \" (0 - classification success, 1 - suspicious period)\")\n",
    "  print(\"class = \" + str(label) )\n",
    "  print(\"class_probability = \" + str(probability) )\n",
    "  print(\"\\n\\n######### Lightcurve features #########\\n\")\n",
    "\n",
    "  for feature in features:\n",
    "    print( str(feature) + \" = \" + str(features[feature]) )\n",
    "  #  print feature,\" = \",features[feature]"
   ]
  },
  {
   "cell_type": "code",
   "execution_count": 8,
   "metadata": {},
   "outputs": [],
   "source": [
    "folder_path = \"/Users/zoesurles/Desktop/variable_star_classification/downloaded_lightcurves/\""
   ]
  },
  {
   "cell_type": "code",
   "execution_count": 18,
   "metadata": {},
   "outputs": [
    {
     "name": "stdout",
     "output_type": "stream",
     "text": [
      "Downloading Curves...\n",
      "Pulled 1 of 1\n"
     ]
    },
    {
     "name": "stderr",
     "output_type": "stream",
     "text": [
      "/Users/zoesurles/miniconda3/lib/python3.11/site-packages/sklearn/base.py:318: UserWarning: Trying to unpickle estimator DecisionTreeClassifier from version 0.24.1 when using version 1.2.2. This might lead to breaking code or invalid results. Use at your own risk. For more info please refer to:\n",
      "https://scikit-learn.org/stable/model_persistence.html#security-maintainability-limitations\n",
      "  warnings.warn(\n",
      "/Users/zoesurles/miniconda3/lib/python3.11/site-packages/sklearn/base.py:318: UserWarning: Trying to unpickle estimator RandomForestClassifier from version 0.24.1 when using version 1.2.2. This might lead to breaking code or invalid results. Use at your own risk. For more info please refer to:\n",
      "https://scikit-learn.org/stable/model_persistence.html#security-maintainability-limitations\n",
      "  warnings.warn(\n"
     ]
    },
    {
     "name": "stdout",
     "output_type": "stream",
     "text": [
      "\n",
      "\n",
      "######### Classification results #########\n",
      "\n",
      "flag = 0 (0 - classification success, 1 - suspicious period)\n",
      "class = RRL_ab\n",
      "class_probability = 1.0\n",
      "\n",
      "\n",
      "######### Lightcurve features #########\n",
      "\n",
      "amplitude = 0.3578559194440024\n",
      "cusum = 0.19437883553230248\n",
      "eta = 1.8144527324160695\n",
      "hl_amp_ratio = 0.37841778626459055\n",
      "kurtosis = -0.4932732192268854\n",
      "n_points = 474\n",
      "period = 0.5226797498201469\n",
      "period_SNR = 114.34159285835382\n",
      "period_log10FAP = -55.23578197999286\n",
      "period_uncertainty = 0.0001175089424996778\n",
      "phase_cusum = 0.33288814144704365\n",
      "phase_eta = 0.5007709080327583\n",
      "phi21 = 3.729865747967814\n",
      "phi31 = 4.694749469357085\n",
      "quartile31 = 0.47782938372161965\n",
      "r21 = 0.4052683640914904\n",
      "r31 = 0.2812904283313019\n",
      "shapiro_w = 0.9388086795806885\n",
      "skewness = -0.637818363838849\n",
      "slope_per10 = -0.04989320472117837\n",
      "slope_per90 = 0.06740197501055324\n",
      "stetson_k = 0.6850163974425751\n",
      "weighted_mean = 16.132214261484854\n",
      "weighted_std = 0.31692470030396885\n",
      "Downloading Curves...\n",
      "Pulled 1 of 1\n"
     ]
    },
    {
     "name": "stderr",
     "output_type": "stream",
     "text": [
      "/Users/zoesurles/miniconda3/lib/python3.11/site-packages/sklearn/base.py:318: UserWarning: Trying to unpickle estimator DecisionTreeClassifier from version 0.24.1 when using version 1.2.2. This might lead to breaking code or invalid results. Use at your own risk. For more info please refer to:\n",
      "https://scikit-learn.org/stable/model_persistence.html#security-maintainability-limitations\n",
      "  warnings.warn(\n",
      "/Users/zoesurles/miniconda3/lib/python3.11/site-packages/sklearn/base.py:318: UserWarning: Trying to unpickle estimator RandomForestClassifier from version 0.24.1 when using version 1.2.2. This might lead to breaking code or invalid results. Use at your own risk. For more info please refer to:\n",
      "https://scikit-learn.org/stable/model_persistence.html#security-maintainability-limitations\n",
      "  warnings.warn(\n"
     ]
    },
    {
     "name": "stdout",
     "output_type": "stream",
     "text": [
      "\n",
      "\n",
      "######### Classification results #########\n",
      "\n",
      "flag = 0 (0 - classification success, 1 - suspicious period)\n",
      "class = RRL_ab\n",
      "class_probability = 1.0\n",
      "\n",
      "\n",
      "######### Lightcurve features #########\n",
      "\n",
      "amplitude = 0.2816974245870616\n",
      "cusum = 0.19687912149231207\n",
      "eta = 2.2179247774137085\n",
      "hl_amp_ratio = 0.70082754635357\n",
      "kurtosis = -0.9041858225131936\n",
      "n_points = 1120\n",
      "period = 0.7162757703511912\n",
      "period_SNR = 181.56375232651894\n",
      "period_log10FAP = -159.21523410476755\n",
      "period_uncertainty = 0.00022260722248024223\n",
      "phase_cusum = 0.3223926761942543\n",
      "phase_eta = 0.3059993014451714\n",
      "phi21 = 0.9698187914918608\n",
      "phi31 = 2.198537065487421\n",
      "quartile31 = 0.39127033057365246\n",
      "r21 = 0.4602613208719272\n",
      "r31 = 0.2557660515559555\n",
      "shapiro_w = 0.9614452719688416\n",
      "skewness = -0.3468288041919201\n",
      "slope_per10 = -0.06486742791948318\n",
      "slope_per90 = 0.0675191354929587\n",
      "stetson_k = 0.7804079198948897\n",
      "weighted_mean = 14.619101619407722\n",
      "weighted_std = 0.22600189574000287\n",
      "Downloading Curves...\n",
      "Pulled 1 of 1\n"
     ]
    },
    {
     "name": "stderr",
     "output_type": "stream",
     "text": [
      "/Users/zoesurles/miniconda3/lib/python3.11/site-packages/sklearn/base.py:318: UserWarning: Trying to unpickle estimator DecisionTreeClassifier from version 0.24.1 when using version 1.2.2. This might lead to breaking code or invalid results. Use at your own risk. For more info please refer to:\n",
      "https://scikit-learn.org/stable/model_persistence.html#security-maintainability-limitations\n",
      "  warnings.warn(\n",
      "/Users/zoesurles/miniconda3/lib/python3.11/site-packages/sklearn/base.py:318: UserWarning: Trying to unpickle estimator RandomForestClassifier from version 0.24.1 when using version 1.2.2. This might lead to breaking code or invalid results. Use at your own risk. For more info please refer to:\n",
      "https://scikit-learn.org/stable/model_persistence.html#security-maintainability-limitations\n",
      "  warnings.warn(\n"
     ]
    },
    {
     "name": "stdout",
     "output_type": "stream",
     "text": [
      "\n",
      "\n",
      "######### Classification results #########\n",
      "\n",
      "flag = 0 (0 - classification success, 1 - suspicious period)\n",
      "class = NonVar\n",
      "class_probability = 0.41\n",
      "\n",
      "\n",
      "######### Lightcurve features #########\n",
      "\n",
      "amplitude = 0.217051030580504\n",
      "cusum = 0.1502357115925691\n",
      "eta = 3.0862164982660127\n",
      "hl_amp_ratio = 0.527427869881265\n",
      "kurtosis = 11.740063501628445\n",
      "n_points = 1096\n",
      "period = 0.6375620164831584\n",
      "period_SNR = 124.89234059951805\n",
      "period_log10FAP = -61.536684571271174\n",
      "period_uncertainty = 0.0001754436061534026\n",
      "phase_cusum = 0.2166340604527311\n",
      "phase_eta = 2.2470180341665893\n",
      "phi21 = 0.9208926758225926\n",
      "phi31 = -1.2993503137877478\n",
      "quartile31 = 0.2962149387158135\n",
      "r21 = 0.3585657079844812\n",
      "r31 = 0.29098866161370224\n",
      "shapiro_w = 0.8170841932296753\n",
      "skewness = 1.669953779828974\n",
      "slope_per10 = -0.04689401562258232\n",
      "slope_per90 = 0.052539702372914714\n",
      "stetson_k = 0.7376108460977834\n",
      "weighted_mean = 14.016832290089692\n",
      "weighted_std = 0.22137909885868862\n",
      "Downloading Curves...\n",
      "Pulled 1 of 1\n"
     ]
    },
    {
     "name": "stderr",
     "output_type": "stream",
     "text": [
      "/Users/zoesurles/miniconda3/lib/python3.11/site-packages/sklearn/base.py:318: UserWarning: Trying to unpickle estimator DecisionTreeClassifier from version 0.24.1 when using version 1.2.2. This might lead to breaking code or invalid results. Use at your own risk. For more info please refer to:\n",
      "https://scikit-learn.org/stable/model_persistence.html#security-maintainability-limitations\n",
      "  warnings.warn(\n",
      "/Users/zoesurles/miniconda3/lib/python3.11/site-packages/sklearn/base.py:318: UserWarning: Trying to unpickle estimator RandomForestClassifier from version 0.24.1 when using version 1.2.2. This might lead to breaking code or invalid results. Use at your own risk. For more info please refer to:\n",
      "https://scikit-learn.org/stable/model_persistence.html#security-maintainability-limitations\n",
      "  warnings.warn(\n"
     ]
    },
    {
     "name": "stdout",
     "output_type": "stream",
     "text": [
      "\n",
      "\n",
      "######### Classification results #########\n",
      "\n",
      "flag = 0 (0 - classification success, 1 - suspicious period)\n",
      "class = RRL_ab\n",
      "class_probability = 1.0\n",
      "\n",
      "\n",
      "######### Lightcurve features #########\n",
      "\n",
      "amplitude = 0.26403588091132374\n",
      "cusum = 0.12156223223534074\n",
      "eta = 1.9575755460981463\n",
      "hl_amp_ratio = 0.5193599740943874\n",
      "kurtosis = -0.8510438382564116\n",
      "n_points = 1714\n",
      "period = 0.6263047258072663\n",
      "period_SNR = 261.17285559360323\n",
      "period_log10FAP = -242.57395367317758\n",
      "period_uncertainty = 0.0001699605893974998\n",
      "phase_cusum = 0.2770304212975489\n",
      "phase_eta = 0.2965150867403576\n",
      "phi21 = 0.8645315412906511\n",
      "phi31 = 2.082337116116318\n",
      "quartile31 = 0.35981341503529407\n",
      "r21 = 0.4340427556589501\n",
      "r31 = 0.2515803186956928\n",
      "shapiro_w = 0.9573363661766052\n",
      "skewness = -0.3849603251647678\n",
      "slope_per10 = -0.03224398101699912\n",
      "slope_per90 = 0.028381443216173148\n",
      "stetson_k = 0.7544553879241495\n",
      "weighted_mean = 15.061558998043674\n",
      "weighted_std = 0.21741010256557547\n",
      "Downloading Curves...\n",
      "Pulled 1 of 1\n"
     ]
    },
    {
     "name": "stderr",
     "output_type": "stream",
     "text": [
      "/Users/zoesurles/miniconda3/lib/python3.11/site-packages/sklearn/base.py:318: UserWarning: Trying to unpickle estimator DecisionTreeClassifier from version 0.24.1 when using version 1.2.2. This might lead to breaking code or invalid results. Use at your own risk. For more info please refer to:\n",
      "https://scikit-learn.org/stable/model_persistence.html#security-maintainability-limitations\n",
      "  warnings.warn(\n",
      "/Users/zoesurles/miniconda3/lib/python3.11/site-packages/sklearn/base.py:318: UserWarning: Trying to unpickle estimator RandomForestClassifier from version 0.24.1 when using version 1.2.2. This might lead to breaking code or invalid results. Use at your own risk. For more info please refer to:\n",
      "https://scikit-learn.org/stable/model_persistence.html#security-maintainability-limitations\n",
      "  warnings.warn(\n"
     ]
    },
    {
     "name": "stdout",
     "output_type": "stream",
     "text": [
      "\n",
      "\n",
      "######### Classification results #########\n",
      "\n",
      "flag = 1 (0 - classification success, 1 - suspicious period)\n",
      "class = NonVar\n",
      "class_probability = 0.95\n",
      "\n",
      "\n",
      "######### Lightcurve features #########\n",
      "\n",
      "amplitude = 0.007265117168731676\n",
      "cusum = 0.10181671318612016\n",
      "eta = 2.5312461143977134\n",
      "hl_amp_ratio = 0.765042410735131\n",
      "kurtosis = 0.4929494251560498\n",
      "n_points = 1100\n",
      "period = 0.9977502288220532\n",
      "period_SNR = 22.275136478537476\n",
      "period_log10FAP = -5.018873688823101\n",
      "period_uncertainty = 0.000481694783412534\n",
      "phase_cusum = 0.09093518431143502\n",
      "phase_eta = 2.417113861387148\n",
      "phi21 = 0.5736140896738697\n",
      "phi31 = 2.7776222511429065\n",
      "quartile31 = 0.030762445207798805\n",
      "r21 = 0.10624537763517654\n",
      "r31 = 0.19354241021235216\n",
      "shapiro_w = 0.9909902811050415\n",
      "skewness = -0.2800680145223931\n",
      "slope_per10 = -0.17463526648701494\n",
      "slope_per90 = 0.2638376513265947\n",
      "stetson_k = 0.7816318815551636\n",
      "weighted_mean = 14.147707489278027\n",
      "weighted_std = 0.021820108055007583\n"
     ]
    }
   ],
   "source": [
    "num_iterations = 1\n",
    "empty_list = []\n",
    "for i in range(22, 32):\n",
    "    if i == 8:\n",
    "        continue\n",
    "    search = client.cone_search(ra_deg = final_table[\"RA\"][i], dec_deg = final_table[\"Dec\"][i], radius=0.0003, catalog='aavsovsx', download=True)\n",
    "\n",
    "    savecsv = search.save(save_dir = folder_path, file_format=\"csv\")[1]\n",
    "    empty_list.append(savecsv)\n",
    "\n",
    "    new_file = pd.read_csv(savecsv, skiprows=1)\n",
    "\n",
    "    g_filter = new_file[new_file['phot_filter'] == 'g']\n",
    "    web_format = g_filter[[\"jd\", \"mag\", \"mag_err\"]]\n",
    "    web_format.to_csv(savecsv.replace(\".csv\", \".txt\"), sep='\\t', index=False, header = False)\n",
    "\n",
    "    classification_model(savecsv.replace(\".csv\", \".txt\"), final_table[\"RA\"][i], final_table[\"Dec\"][i], final_table[\"Magnitude\"][i], final_table[\"Other Info\"][i], new_file[\"asas_sn_id\"][0])"
   ]
  },
  {
   "cell_type": "code",
   "execution_count": null,
   "metadata": {},
   "outputs": [],
   "source": []
  }
 ],
 "metadata": {
  "kernelspec": {
   "display_name": "base",
   "language": "python",
   "name": "python3"
  },
  "language_info": {
   "codemirror_mode": {
    "name": "ipython",
    "version": 3
   },
   "file_extension": ".py",
   "mimetype": "text/x-python",
   "name": "python",
   "nbconvert_exporter": "python",
   "pygments_lexer": "ipython3",
   "version": "3.11.7"
  }
 },
 "nbformat": 4,
 "nbformat_minor": 2
}
