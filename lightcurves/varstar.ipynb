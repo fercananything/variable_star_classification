{
 "cells": [
  {
   "cell_type": "markdown",
   "metadata": {},
   "source": [
    "### **imports**"
   ]
  },
  {
   "cell_type": "code",
   "execution_count": 1,
   "metadata": {},
   "outputs": [
    {
     "name": "stdout",
     "output_type": "stream",
     "text": [
      "-------------------\n",
      "| pyFFTW detected |\n",
      "-------------------\n"
     ]
    }
   ],
   "source": [
    "import pandas as pd\n",
    "import numpy as np\n",
    "from astropy.io import ascii\n",
    "from astropy.table import QTable, Table, Column\n",
    "from astropy import units as u\n",
    "import string\n",
    "import os\n",
    "import upsilon"
   ]
  },
  {
   "cell_type": "markdown",
   "metadata": {},
   "source": [
    "### **making a table of all of the stars in the txt file**"
   ]
  },
  {
   "cell_type": "code",
   "execution_count": 2,
   "metadata": {},
   "outputs": [],
   "source": [
    "column1 = []\n",
    "column2 = []\n",
    "column3 = []\n",
    "column4 = []\n",
    "column5 = []\n",
    "\n",
    "with open('rrlyr_vsx_clean2.txt', 'r') as file:\n",
    "    for line in file:\n",
    "        components = line.split(' ', 4)\n",
    "    \n",
    "        try:\n",
    "            magnitude = float(components[3])  # Try to convert the 4th component to float\n",
    "        except ValueError:\n",
    "            continue\n",
    "\n",
    "        if magnitude < 15.5:\n",
    "            column1.append(components[0])\n",
    "            column2.append(float(components[1]))\n",
    "            column3.append(float(components[2]))\n",
    "            column4.append(magnitude)\n",
    "            column5.append(components[4].strip())\n",
    "\n",
    "final_table = QTable([column1, column2, column3, column4, column5], names = (\"Star Type\", \"RA\", \"Dec\", \"Magnitude\", \"Other Info\"))"
   ]
  },
  {
   "cell_type": "code",
   "execution_count": 3,
   "metadata": {},
   "outputs": [
    {
     "data": {
      "text/html": [
       "<div><i>QTable length=29417</i>\n",
       "<table id=\"table5828078480\" class=\"table-striped table-bordered table-condensed\">\n",
       "<thead><tr><th>Star Type</th><th>RA</th><th>Dec</th><th>Magnitude</th><th>Other Info</th></tr></thead>\n",
       "<thead><tr><th>str24</th><th>float64</th><th>float64</th><th>float64</th><th>str29</th></tr></thead>\n",
       "<tr><td>RRAB</td><td>0.01521</td><td>35.36286</td><td>12.43</td><td>GM And</td></tr>\n",
       "<tr><td>RRAB</td><td>0.01669</td><td>18.40698</td><td>15.171</td><td>CSS_J000004.0+182425</td></tr>\n",
       "<tr><td>RRAB</td><td>0.03171</td><td>34.67397</td><td>14.95</td><td>SERIV 27</td></tr>\n",
       "<tr><td>RRAB</td><td>0.06821</td><td>-72.77875</td><td>15.1</td><td>BP Tuc</td></tr>\n",
       "<tr><td>RRAB</td><td>0.099</td><td>36.3287</td><td>14.46</td><td>NSVS 6313844</td></tr>\n",
       "<tr><td>RRAB</td><td>0.1338</td><td>22.99388</td><td>14.671</td><td>CSS_J000032.1+225937</td></tr>\n",
       "<tr><td>RRAB</td><td>0.13423</td><td>-54.29512</td><td>15.26</td><td>ASASSN-V J000032.21-541742.4</td></tr>\n",
       "<tr><td>RRAB</td><td>0.14829</td><td>26.66375</td><td>12.96</td><td>GV Peg</td></tr>\n",
       "<tr><td>RRC</td><td>0.15377</td><td>-60.98439</td><td>15.18</td><td>ASASSN-V J000036.92-605903.9</td></tr>\n",
       "<tr><td>RRC</td><td>0.18471</td><td>37.84283</td><td>13.1</td><td>ROTSE1 J000044.33 +375034.2</td></tr>\n",
       "<tr><td>...</td><td>...</td><td>...</td><td>...</td><td>...</td></tr>\n",
       "<tr><td>RRAB/BL:</td><td>359.67567</td><td>41.48881</td><td>12.73</td><td>DY And</td></tr>\n",
       "<tr><td>RRC</td><td>359.73579</td><td>-44.67078</td><td>14.3</td><td>DV Phe</td></tr>\n",
       "<tr><td>RRC</td><td>359.77146</td><td>54.01686</td><td>14.2</td><td>QY Cas</td></tr>\n",
       "<tr><td>RRC</td><td>359.80239</td><td>53.94432</td><td>14.97</td><td>PS1-3PI J235912.57+535639.5</td></tr>\n",
       "<tr><td>RRAB</td><td>359.90512</td><td>-72.08878</td><td>15.29</td><td>ASASSN-V J235937.21-720519.4</td></tr>\n",
       "<tr><td>RRC</td><td>359.93546</td><td>17.65683</td><td>13.66</td><td>ASAS J235945+1739.5</td></tr>\n",
       "<tr><td>RRC</td><td>359.93652</td><td>-11.75557</td><td>14.42</td><td>ASASSN-V J235944.77-114520.0</td></tr>\n",
       "<tr><td>RRC</td><td>359.93862</td><td>-28.19131</td><td>14.93</td><td>SSS_J235945.0-281126</td></tr>\n",
       "<tr><td>RRAB</td><td>359.94269</td><td>-60.26738</td><td>15.02</td><td>ASASSN-V J235946.37-601602.6</td></tr>\n",
       "<tr><td>RRC</td><td>359.94528</td><td>37.18602</td><td>15.215</td><td>CSS_J235946.8+371110</td></tr>\n",
       "</table></div>"
      ],
      "text/plain": [
       "<QTable length=29417>\n",
       "Star Type     RA       Dec    Magnitude          Other Info         \n",
       "  str24    float64   float64   float64             str29            \n",
       "--------- --------- --------- --------- ----------------------------\n",
       "     RRAB   0.01521  35.36286     12.43                       GM And\n",
       "     RRAB   0.01669  18.40698    15.171         CSS_J000004.0+182425\n",
       "     RRAB   0.03171  34.67397     14.95                     SERIV 27\n",
       "     RRAB   0.06821 -72.77875      15.1                       BP Tuc\n",
       "     RRAB     0.099   36.3287     14.46                 NSVS 6313844\n",
       "     RRAB    0.1338  22.99388    14.671         CSS_J000032.1+225937\n",
       "     RRAB   0.13423 -54.29512     15.26 ASASSN-V J000032.21-541742.4\n",
       "     RRAB   0.14829  26.66375     12.96                       GV Peg\n",
       "      RRC   0.15377 -60.98439     15.18 ASASSN-V J000036.92-605903.9\n",
       "      RRC   0.18471  37.84283      13.1  ROTSE1 J000044.33 +375034.2\n",
       "      ...       ...       ...       ...                          ...\n",
       " RRAB/BL: 359.67567  41.48881     12.73                       DY And\n",
       "      RRC 359.73579 -44.67078      14.3                       DV Phe\n",
       "      RRC 359.77146  54.01686      14.2                       QY Cas\n",
       "      RRC 359.80239  53.94432     14.97  PS1-3PI J235912.57+535639.5\n",
       "     RRAB 359.90512 -72.08878     15.29 ASASSN-V J235937.21-720519.4\n",
       "      RRC 359.93546  17.65683     13.66          ASAS J235945+1739.5\n",
       "      RRC 359.93652 -11.75557     14.42 ASASSN-V J235944.77-114520.0\n",
       "      RRC 359.93862 -28.19131     14.93         SSS_J235945.0-281126\n",
       "     RRAB 359.94269 -60.26738     15.02 ASASSN-V J235946.37-601602.6\n",
       "      RRC 359.94528  37.18602    15.215         CSS_J235946.8+371110"
      ]
     },
     "execution_count": 3,
     "metadata": {},
     "output_type": "execute_result"
    }
   ],
   "source": [
    "final_table"
   ]
  },
  {
   "cell_type": "markdown",
   "metadata": {},
   "source": [
    "### **importing the asassn client**"
   ]
  },
  {
   "cell_type": "code",
   "execution_count": 4,
   "metadata": {},
   "outputs": [
    {
     "name": "stdout",
     "output_type": "stream",
     "text": [
      "Welcome to ASAS-SN Skypatrol!\n",
      "\n",
      "Current Deployment Version: 0.6.17 (26 JAN 2024)\n",
      "Please upgrade your client if not up to date.\n",
      "\n"
     ]
    }
   ],
   "source": [
    "from pyasassn.client import SkyPatrolClient\t\n",
    "client = SkyPatrolClient()"
   ]
  },
  {
   "cell_type": "markdown",
   "metadata": {},
   "source": [
    "### **downloading a csv file with the data from the star at a specified index**"
   ]
  },
  {
   "cell_type": "code",
   "execution_count": 5,
   "metadata": {},
   "outputs": [],
   "source": [
    "def classification_model(path, ra, dec, magnitude1, vsx_id, asassn_id):\n",
    "  # Load a classification model.\n",
    "  # (takes time, do only once if processing multiple lcs)\n",
    "  rf_model = upsilon.load_rf_model()\n",
    "\n",
    "\n",
    "  ############# Read input lc data #############\n",
    "  # Read the input lightcurve file\n",
    "  f = open(path, 'r')\n",
    "  data = np.loadtxt(f, dtype={'names': ('JD', 'mag', 'err'),'formats': ('float64', 'float64', 'float64')})\n",
    "  f.close()\n",
    "\n",
    "  # Split it into three arrays\n",
    "  date=data['JD']\n",
    "  mag=data['mag']\n",
    "  err=data['err']\n",
    "\n",
    "  # Sigma-clip the input lightcurve\n",
    "  date, mag, err = upsilon.utils.sigma_clipping(date, mag, err,  threshold=3, iteration=1)\n",
    "\n",
    "  ############# Extract lightcurve features #############\n",
    "  e_features = upsilon.ExtractFeatures(date, mag, err)\n",
    "  e_features.run()\n",
    "  features = e_features.get_features()\n",
    "\n",
    "  ############# Classify #############\n",
    "  # Classify the light curve\n",
    "  label, probability, flag = upsilon.predict(rf_model, features)\n",
    "\n",
    "  # Print results\n",
    "\n",
    "  output_file = open(path.replace('.txt', '_classification.txt'), 'w')\n",
    "  output_file.write(\"\\n\\n######### Classification results #########\\n\")\n",
    "  output_file.write(\"flag = \" + str(flag) + \" (0 - classification success, 1 - suspicious period)\\n\")\n",
    "  output_file.write(\"class = \" + str(label) + \"\\n\")\n",
    "  output_file.write(\"class_probability = \" + str(probability) + \"\\n\")\n",
    "  output_file.write(\"position = \" + str(ra) + \" \" + str(dec) + \"\\n\")\n",
    "  output_file.write(\"magnitude = \" + str(magnitude1) + \"\\n\")\n",
    "  output_file.write(\"vsx_id = \" + str(vsx_id) + \"\\n\")\n",
    "  output_file.write(\"asassn_id = \" + str(asassn_id) + \"\\n\")\n",
    "  output_file.close()\n",
    "\n",
    "  print(\"\\n\\n######### Classification results #########\\n\")\n",
    "  print(\"flag = \" + str(flag) + \" (0 - classification success, 1 - suspicious period)\")\n",
    "  print(\"class = \" + str(label) )\n",
    "  print(\"class_probability = \" + str(probability) )\n",
    "  print(\"\\n\\n######### Lightcurve features #########\\n\")\n",
    "\n",
    "  for feature in features:\n",
    "    print( str(feature) + \" = \" + str(features[feature]) )\n",
    "  #  print feature,\" = \",features[feature]"
   ]
  },
  {
   "cell_type": "code",
   "execution_count": 8,
   "metadata": {},
   "outputs": [],
   "source": [
    "folder_path = \"/Users/zoesurles/Desktop/variable_star_classification/downloaded_lightcurves/\""
   ]
  },
  {
   "cell_type": "code",
   "execution_count": 17,
   "metadata": {},
   "outputs": [
    {
     "name": "stdout",
     "output_type": "stream",
     "text": [
      "Downloading Curves...\n",
      "Pulled 1 of 1\n"
     ]
    },
    {
     "name": "stderr",
     "output_type": "stream",
     "text": [
      "/Users/zoesurles/miniconda3/lib/python3.11/site-packages/sklearn/base.py:318: UserWarning: Trying to unpickle estimator DecisionTreeClassifier from version 0.24.1 when using version 1.2.2. This might lead to breaking code or invalid results. Use at your own risk. For more info please refer to:\n",
      "https://scikit-learn.org/stable/model_persistence.html#security-maintainability-limitations\n",
      "  warnings.warn(\n",
      "/Users/zoesurles/miniconda3/lib/python3.11/site-packages/sklearn/base.py:318: UserWarning: Trying to unpickle estimator RandomForestClassifier from version 0.24.1 when using version 1.2.2. This might lead to breaking code or invalid results. Use at your own risk. For more info please refer to:\n",
      "https://scikit-learn.org/stable/model_persistence.html#security-maintainability-limitations\n",
      "  warnings.warn(\n"
     ]
    },
    {
     "name": "stdout",
     "output_type": "stream",
     "text": [
      "\n",
      "\n",
      "######### Classification results #########\n",
      "\n",
      "flag = 0 (0 - classification success, 1 - suspicious period)\n",
      "class = RRL_ab\n",
      "class_probability = 1.0\n",
      "\n",
      "\n",
      "######### Lightcurve features #########\n",
      "\n",
      "amplitude = 0.28399082758168637\n",
      "cusum = 0.05721359056243869\n",
      "eta = 2.3179301765464833\n",
      "hl_amp_ratio = 0.4024947034892876\n",
      "kurtosis = -0.2626460675749649\n",
      "n_points = 451\n",
      "period = 0.540405033280329\n",
      "period_SNR = 115.06380590559186\n",
      "period_log10FAP = -57.39012655416996\n",
      "period_uncertainty = 0.00014296430452420683\n",
      "phase_cusum = 0.23490460808150543\n",
      "phase_eta = 0.4251584205916919\n",
      "phi21 = 0.8297619100693845\n",
      "phi31 = 1.91741478690491\n",
      "quartile31 = 0.34665867146890506\n",
      "r21 = 0.41897375818170934\n",
      "r31 = 0.24012230871245\n",
      "shapiro_w = 0.94781494140625\n",
      "skewness = -0.6965091882910406\n",
      "slope_per10 = -0.060459943459194004\n",
      "slope_per90 = 0.0902216851322205\n",
      "stetson_k = 0.7478114049210987\n",
      "weighted_mean = 14.216313977039217\n",
      "weighted_std = 0.22618426595576677\n",
      "Downloading Curves...\n",
      "Pulled 1 of 1\n"
     ]
    },
    {
     "name": "stderr",
     "output_type": "stream",
     "text": [
      "/Users/zoesurles/miniconda3/lib/python3.11/site-packages/sklearn/base.py:318: UserWarning: Trying to unpickle estimator DecisionTreeClassifier from version 0.24.1 when using version 1.2.2. This might lead to breaking code or invalid results. Use at your own risk. For more info please refer to:\n",
      "https://scikit-learn.org/stable/model_persistence.html#security-maintainability-limitations\n",
      "  warnings.warn(\n",
      "/Users/zoesurles/miniconda3/lib/python3.11/site-packages/sklearn/base.py:318: UserWarning: Trying to unpickle estimator RandomForestClassifier from version 0.24.1 when using version 1.2.2. This might lead to breaking code or invalid results. Use at your own risk. For more info please refer to:\n",
      "https://scikit-learn.org/stable/model_persistence.html#security-maintainability-limitations\n",
      "  warnings.warn(\n"
     ]
    },
    {
     "name": "stdout",
     "output_type": "stream",
     "text": [
      "\n",
      "\n",
      "######### Classification results #########\n",
      "\n",
      "flag = 0 (0 - classification success, 1 - suspicious period)\n",
      "class = RRL_c\n",
      "class_probability = 0.98\n",
      "\n",
      "\n",
      "######### Lightcurve features #########\n",
      "\n",
      "amplitude = 0.13949436751359698\n",
      "cusum = 0.09405608411483704\n",
      "eta = 2.175508647526293\n",
      "hl_amp_ratio = 1.023674438650023\n",
      "kurtosis = -0.7610700567735802\n",
      "n_points = 1112\n",
      "period = 0.30550999910812254\n",
      "period_SNR = 165.28877359680823\n",
      "period_log10FAP = -149.79649406498154\n",
      "period_uncertainty = 3.7637363075826435e-05\n",
      "phase_cusum = 0.2576835529125052\n",
      "phase_eta = 0.7755863240103243\n",
      "phi21 = -1.6608479417108013\n",
      "phi31 = -3.563786265080089\n",
      "quartile31 = 0.20472368184754863\n",
      "r21 = 0.11832084500575656\n",
      "r31 = 0.044377664152432564\n",
      "shapiro_w = 0.9852181077003479\n",
      "skewness = 0.006756277837516903\n",
      "slope_per10 = -0.020843532481369536\n",
      "slope_per90 = 0.02059080156335378\n",
      "stetson_k = 0.8309428391911695\n",
      "weighted_mean = 15.2316065738242\n",
      "weighted_std = 0.11634583046038519\n",
      "Downloading Curves...\n",
      "Pulled 1 of 1\n"
     ]
    },
    {
     "name": "stderr",
     "output_type": "stream",
     "text": [
      "/Users/zoesurles/miniconda3/lib/python3.11/site-packages/sklearn/base.py:318: UserWarning: Trying to unpickle estimator DecisionTreeClassifier from version 0.24.1 when using version 1.2.2. This might lead to breaking code or invalid results. Use at your own risk. For more info please refer to:\n",
      "https://scikit-learn.org/stable/model_persistence.html#security-maintainability-limitations\n",
      "  warnings.warn(\n",
      "/Users/zoesurles/miniconda3/lib/python3.11/site-packages/sklearn/base.py:318: UserWarning: Trying to unpickle estimator RandomForestClassifier from version 0.24.1 when using version 1.2.2. This might lead to breaking code or invalid results. Use at your own risk. For more info please refer to:\n",
      "https://scikit-learn.org/stable/model_persistence.html#security-maintainability-limitations\n",
      "  warnings.warn(\n"
     ]
    },
    {
     "name": "stdout",
     "output_type": "stream",
     "text": [
      "\n",
      "\n",
      "######### Classification results #########\n",
      "\n",
      "flag = 0 (0 - classification success, 1 - suspicious period)\n",
      "class = RRL_ab\n",
      "class_probability = 0.97\n",
      "\n",
      "\n",
      "######### Lightcurve features #########\n",
      "\n",
      "amplitude = 0.26817396211872796\n",
      "cusum = 0.16506228661309996\n",
      "eta = 1.7864309732892216\n",
      "hl_amp_ratio = 0.48238661044275677\n",
      "kurtosis = -0.03054801826163045\n",
      "n_points = 1835\n",
      "period = 0.555636465533753\n",
      "period_SNR = 270.51588109111594\n",
      "period_log10FAP = -238.14950173008256\n",
      "period_uncertainty = 0.00011057882635301386\n",
      "phase_cusum = 0.25917265386780225\n",
      "phase_eta = 0.5999132809566455\n",
      "phi21 = 0.7214479875539469\n",
      "phi31 = 1.678792553398814\n",
      "quartile31 = 0.3365262279537333\n",
      "r21 = 0.37220645092126514\n",
      "r31 = 0.1725641380475861\n",
      "shapiro_w = 0.9561096429824829\n",
      "skewness = -0.6942330663018528\n",
      "slope_per10 = -0.015192039918820732\n",
      "slope_per90 = 0.015718412399882184\n",
      "stetson_k = 0.693621509941304\n",
      "weighted_mean = 14.917730932631015\n",
      "weighted_std = 0.23936047761184726\n",
      "Downloading Curves...\n",
      "Pulled 1 of 1\n"
     ]
    },
    {
     "name": "stderr",
     "output_type": "stream",
     "text": [
      "/Users/zoesurles/miniconda3/lib/python3.11/site-packages/sklearn/base.py:318: UserWarning: Trying to unpickle estimator DecisionTreeClassifier from version 0.24.1 when using version 1.2.2. This might lead to breaking code or invalid results. Use at your own risk. For more info please refer to:\n",
      "https://scikit-learn.org/stable/model_persistence.html#security-maintainability-limitations\n",
      "  warnings.warn(\n",
      "/Users/zoesurles/miniconda3/lib/python3.11/site-packages/sklearn/base.py:318: UserWarning: Trying to unpickle estimator RandomForestClassifier from version 0.24.1 when using version 1.2.2. This might lead to breaking code or invalid results. Use at your own risk. For more info please refer to:\n",
      "https://scikit-learn.org/stable/model_persistence.html#security-maintainability-limitations\n",
      "  warnings.warn(\n"
     ]
    },
    {
     "name": "stdout",
     "output_type": "stream",
     "text": [
      "\n",
      "\n",
      "######### Classification results #########\n",
      "\n",
      "flag = 0 (0 - classification success, 1 - suspicious period)\n",
      "class = RRL_ab\n",
      "class_probability = 1.0\n",
      "\n",
      "\n",
      "######### Lightcurve features #########\n",
      "\n",
      "amplitude = 0.43993733205701935\n",
      "cusum = 0.2625617858776915\n",
      "eta = 1.3928703464770895\n",
      "hl_amp_ratio = 0.3317130422850503\n",
      "kurtosis = -0.5182641703589765\n",
      "n_points = 2239\n",
      "period = 0.5058775936653525\n",
      "period_SNR = 279.6739537097334\n",
      "period_log10FAP = -304.9741267826213\n",
      "period_uncertainty = 0.00011050188243838521\n",
      "phase_cusum = 0.3016755478315001\n",
      "phase_eta = 0.2418821666624599\n",
      "phi21 = -2.514216710482801\n",
      "phi31 = -1.5184212916458777\n",
      "quartile31 = 0.5768474642988402\n",
      "r21 = 0.4580569762868193\n",
      "r31 = 0.32801657742915796\n",
      "shapiro_w = 0.9114194512367249\n",
      "skewness = -0.7539927709585739\n",
      "slope_per10 = -0.013640821401202749\n",
      "slope_per90 = 0.012808683114646701\n",
      "stetson_k = 0.6518506226251092\n",
      "weighted_mean = 15.118964885719265\n",
      "weighted_std = 0.39454781928057175\n",
      "Downloading Curves...\n",
      "Pulled 1 of 1\n"
     ]
    },
    {
     "name": "stderr",
     "output_type": "stream",
     "text": [
      "/Users/zoesurles/miniconda3/lib/python3.11/site-packages/sklearn/base.py:318: UserWarning: Trying to unpickle estimator DecisionTreeClassifier from version 0.24.1 when using version 1.2.2. This might lead to breaking code or invalid results. Use at your own risk. For more info please refer to:\n",
      "https://scikit-learn.org/stable/model_persistence.html#security-maintainability-limitations\n",
      "  warnings.warn(\n"
     ]
    },
    {
     "name": "stdout",
     "output_type": "stream",
     "text": [
      "\n",
      "\n",
      "######### Classification results #########\n",
      "\n",
      "flag = 0 (0 - classification success, 1 - suspicious period)\n",
      "class = RRL_d\n",
      "class_probability = 0.89\n",
      "\n",
      "\n",
      "######### Lightcurve features #########\n",
      "\n",
      "amplitude = 0.21275303129629525\n",
      "cusum = 0.16662252610455353\n",
      "eta = 2.0353270957699956\n",
      "hl_amp_ratio = 0.8861886720987744\n",
      "kurtosis = -0.4455625300518795\n",
      "n_points = 1687\n",
      "period = 0.3687396416634942\n",
      "period_SNR = 226.26535962950194\n",
      "period_log10FAP = -192.38287793219476\n",
      "period_uncertainty = 4.9375957151875927e-05\n",
      "phase_cusum = 0.30405948814035394\n",
      "phase_eta = 1.0334907304886\n",
      "phi21 = 1.4581181044760132\n",
      "phi31 = -0.763898772342307\n",
      "quartile31 = 0.30173227760721133\n",
      "r21 = 0.1672266140178455\n",
      "r31 = 0.06458762383480723\n",
      "shapiro_w = 0.9933198094367981\n",
      "skewness = -0.07470608485574937\n",
      "slope_per10 = -0.010278773126172536\n",
      "slope_per90 = 0.0096140350875362\n",
      "stetson_k = 0.7680697216831229\n",
      "weighted_mean = 15.677961976962461\n",
      "weighted_std = 0.1869816238913165\n"
     ]
    },
    {
     "name": "stderr",
     "output_type": "stream",
     "text": [
      "/Users/zoesurles/miniconda3/lib/python3.11/site-packages/sklearn/base.py:318: UserWarning: Trying to unpickle estimator RandomForestClassifier from version 0.24.1 when using version 1.2.2. This might lead to breaking code or invalid results. Use at your own risk. For more info please refer to:\n",
      "https://scikit-learn.org/stable/model_persistence.html#security-maintainability-limitations\n",
      "  warnings.warn(\n"
     ]
    }
   ],
   "source": [
    "num_iterations = 1\n",
    "empty_list = []\n",
    "for i in range(12, 17):\n",
    "    if i == 8:\n",
    "        continue\n",
    "    search = client.cone_search(ra_deg = final_table[\"RA\"][i], dec_deg = final_table[\"Dec\"][i], radius=0.0003, catalog='aavsovsx', download=True)\n",
    "\n",
    "    savecsv = search.save(save_dir = folder_path, file_format=\"csv\")[1]\n",
    "    empty_list.append(savecsv)\n",
    "\n",
    "    new_file = pd.read_csv(savecsv, skiprows=1)\n",
    "\n",
    "    g_filter = new_file[new_file['phot_filter'] == 'g']\n",
    "    web_format = g_filter[[\"jd\", \"mag\", \"mag_err\"]]\n",
    "    web_format.to_csv(savecsv.replace(\".csv\", \".txt\"), sep='\\t', index=False, header = False)\n",
    "\n",
    "    classification_model(savecsv.replace(\".csv\", \".txt\"), final_table[\"RA\"][i], final_table[\"Dec\"][i], final_table[\"Magnitude\"][i], final_table[\"Other Info\"][i], new_file[\"asas_sn_id\"][0])"
   ]
  },
  {
   "cell_type": "code",
   "execution_count": null,
   "metadata": {},
   "outputs": [],
   "source": []
  }
 ],
 "metadata": {
  "kernelspec": {
   "display_name": "base",
   "language": "python",
   "name": "python3"
  },
  "language_info": {
   "codemirror_mode": {
    "name": "ipython",
    "version": 3
   },
   "file_extension": ".py",
   "mimetype": "text/x-python",
   "name": "python",
   "nbconvert_exporter": "python",
   "pygments_lexer": "ipython3",
   "version": "3.11.7"
  }
 },
 "nbformat": 4,
 "nbformat_minor": 2
}
