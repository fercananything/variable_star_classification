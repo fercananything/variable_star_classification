{
 "cells": [
  {
   "cell_type": "markdown",
   "metadata": {},
   "source": [
    "### **imports**"
   ]
  },
  {
   "cell_type": "code",
   "execution_count": 25,
   "metadata": {},
   "outputs": [],
   "source": [
    "import pandas as pd\n",
    "import numpy as np\n",
    "from astropy.io import ascii\n",
    "from astropy.table import QTable, Table, Column\n",
    "from astropy import units as u\n",
    "import string\n",
    "import os\n",
    "import upsilon"
   ]
  },
  {
   "cell_type": "markdown",
   "metadata": {},
   "source": [
    "### **making a table of all of the stars in the txt file**"
   ]
  },
  {
   "cell_type": "code",
   "execution_count": 26,
   "metadata": {},
   "outputs": [],
   "source": [
    "column1 = []\n",
    "column2 = []\n",
    "column3 = []\n",
    "column4 = []\n",
    "column5 = []\n",
    "\n",
    "with open('rrlyr_vsx_clean2.txt', 'r') as file:\n",
    "    for line in file:\n",
    "        components = line.split(' ', 4)\n",
    "    \n",
    "        try:\n",
    "            magnitude = float(components[3])  # Try to convert the 4th component to float\n",
    "        except ValueError:\n",
    "            continue\n",
    "\n",
    "        if magnitude < 15.5:\n",
    "            column1.append(components[0])\n",
    "            column2.append(float(components[1]))\n",
    "            column3.append(float(components[2]))\n",
    "            column4.append(magnitude)\n",
    "            column5.append(components[4].strip())\n",
    "\n",
    "final_table = QTable([column1, column2, column3, column4, column5], names = (\"Star Type\", \"RA\", \"Dec\", \"Magnitude\", \"Other Info\"))"
   ]
  },
  {
   "cell_type": "code",
   "execution_count": 27,
   "metadata": {},
   "outputs": [
    {
     "data": {
      "text/html": [
       "<div><i>QTable length=29417</i>\n",
       "<table id=\"table5824550416\" class=\"table-striped table-bordered table-condensed\">\n",
       "<thead><tr><th>Star Type</th><th>RA</th><th>Dec</th><th>Magnitude</th><th>Other Info</th></tr></thead>\n",
       "<thead><tr><th>str24</th><th>float64</th><th>float64</th><th>float64</th><th>str29</th></tr></thead>\n",
       "<tr><td>RRAB</td><td>0.01521</td><td>35.36286</td><td>12.43</td><td>GM And</td></tr>\n",
       "<tr><td>RRAB</td><td>0.01669</td><td>18.40698</td><td>15.171</td><td>CSS_J000004.0+182425</td></tr>\n",
       "<tr><td>RRAB</td><td>0.03171</td><td>34.67397</td><td>14.95</td><td>SERIV 27</td></tr>\n",
       "<tr><td>RRAB</td><td>0.06821</td><td>-72.77875</td><td>15.1</td><td>BP Tuc</td></tr>\n",
       "<tr><td>RRAB</td><td>0.099</td><td>36.3287</td><td>14.46</td><td>NSVS 6313844</td></tr>\n",
       "<tr><td>RRAB</td><td>0.1338</td><td>22.99388</td><td>14.671</td><td>CSS_J000032.1+225937</td></tr>\n",
       "<tr><td>RRAB</td><td>0.13423</td><td>-54.29512</td><td>15.26</td><td>ASASSN-V J000032.21-541742.4</td></tr>\n",
       "<tr><td>RRAB</td><td>0.14829</td><td>26.66375</td><td>12.96</td><td>GV Peg</td></tr>\n",
       "<tr><td>RRC</td><td>0.15377</td><td>-60.98439</td><td>15.18</td><td>ASASSN-V J000036.92-605903.9</td></tr>\n",
       "<tr><td>RRC</td><td>0.18471</td><td>37.84283</td><td>13.1</td><td>ROTSE1 J000044.33 +375034.2</td></tr>\n",
       "<tr><td>...</td><td>...</td><td>...</td><td>...</td><td>...</td></tr>\n",
       "<tr><td>RRAB/BL:</td><td>359.67567</td><td>41.48881</td><td>12.73</td><td>DY And</td></tr>\n",
       "<tr><td>RRC</td><td>359.73579</td><td>-44.67078</td><td>14.3</td><td>DV Phe</td></tr>\n",
       "<tr><td>RRC</td><td>359.77146</td><td>54.01686</td><td>14.2</td><td>QY Cas</td></tr>\n",
       "<tr><td>RRC</td><td>359.80239</td><td>53.94432</td><td>14.97</td><td>PS1-3PI J235912.57+535639.5</td></tr>\n",
       "<tr><td>RRAB</td><td>359.90512</td><td>-72.08878</td><td>15.29</td><td>ASASSN-V J235937.21-720519.4</td></tr>\n",
       "<tr><td>RRC</td><td>359.93546</td><td>17.65683</td><td>13.66</td><td>ASAS J235945+1739.5</td></tr>\n",
       "<tr><td>RRC</td><td>359.93652</td><td>-11.75557</td><td>14.42</td><td>ASASSN-V J235944.77-114520.0</td></tr>\n",
       "<tr><td>RRC</td><td>359.93862</td><td>-28.19131</td><td>14.93</td><td>SSS_J235945.0-281126</td></tr>\n",
       "<tr><td>RRAB</td><td>359.94269</td><td>-60.26738</td><td>15.02</td><td>ASASSN-V J235946.37-601602.6</td></tr>\n",
       "<tr><td>RRC</td><td>359.94528</td><td>37.18602</td><td>15.215</td><td>CSS_J235946.8+371110</td></tr>\n",
       "</table></div>"
      ],
      "text/plain": [
       "<QTable length=29417>\n",
       "Star Type     RA       Dec    Magnitude          Other Info         \n",
       "  str24    float64   float64   float64             str29            \n",
       "--------- --------- --------- --------- ----------------------------\n",
       "     RRAB   0.01521  35.36286     12.43                       GM And\n",
       "     RRAB   0.01669  18.40698    15.171         CSS_J000004.0+182425\n",
       "     RRAB   0.03171  34.67397     14.95                     SERIV 27\n",
       "     RRAB   0.06821 -72.77875      15.1                       BP Tuc\n",
       "     RRAB     0.099   36.3287     14.46                 NSVS 6313844\n",
       "     RRAB    0.1338  22.99388    14.671         CSS_J000032.1+225937\n",
       "     RRAB   0.13423 -54.29512     15.26 ASASSN-V J000032.21-541742.4\n",
       "     RRAB   0.14829  26.66375     12.96                       GV Peg\n",
       "      RRC   0.15377 -60.98439     15.18 ASASSN-V J000036.92-605903.9\n",
       "      RRC   0.18471  37.84283      13.1  ROTSE1 J000044.33 +375034.2\n",
       "      ...       ...       ...       ...                          ...\n",
       " RRAB/BL: 359.67567  41.48881     12.73                       DY And\n",
       "      RRC 359.73579 -44.67078      14.3                       DV Phe\n",
       "      RRC 359.77146  54.01686      14.2                       QY Cas\n",
       "      RRC 359.80239  53.94432     14.97  PS1-3PI J235912.57+535639.5\n",
       "     RRAB 359.90512 -72.08878     15.29 ASASSN-V J235937.21-720519.4\n",
       "      RRC 359.93546  17.65683     13.66          ASAS J235945+1739.5\n",
       "      RRC 359.93652 -11.75557     14.42 ASASSN-V J235944.77-114520.0\n",
       "      RRC 359.93862 -28.19131     14.93         SSS_J235945.0-281126\n",
       "     RRAB 359.94269 -60.26738     15.02 ASASSN-V J235946.37-601602.6\n",
       "      RRC 359.94528  37.18602    15.215         CSS_J235946.8+371110"
      ]
     },
     "execution_count": 27,
     "metadata": {},
     "output_type": "execute_result"
    }
   ],
   "source": [
    "final_table"
   ]
  },
  {
   "cell_type": "markdown",
   "metadata": {},
   "source": [
    "### **importing the asassn client**"
   ]
  },
  {
   "cell_type": "code",
   "execution_count": 28,
   "metadata": {},
   "outputs": [
    {
     "name": "stdout",
     "output_type": "stream",
     "text": [
      "Welcome to ASAS-SN Skypatrol!\n",
      "\n",
      "Current Deployment Version: 0.6.17 (26 JAN 2024)\n",
      "Please upgrade your client if not up to date.\n",
      "\n"
     ]
    }
   ],
   "source": [
    "from pyasassn.client import SkyPatrolClient\t\n",
    "client = SkyPatrolClient()"
   ]
  },
  {
   "cell_type": "markdown",
   "metadata": {},
   "source": [
    "### **downloading a csv file with the data from the star at a specified index**"
   ]
  },
  {
   "cell_type": "code",
   "execution_count": 29,
   "metadata": {},
   "outputs": [],
   "source": [
    "def classification_model(path, ra, dec, magnitude1, vsx_id, asassn_id):\n",
    "  # Load a classification model.\n",
    "  # (takes time, do only once if processing multiple lcs)\n",
    "  rf_model = upsilon.load_rf_model()\n",
    "\n",
    "\n",
    "  ############# Read input lc data #############\n",
    "  # Read the input lightcurve file\n",
    "  f = open(path, 'r')\n",
    "  data = np.loadtxt(f, dtype={'names': ('JD', 'mag', 'err'),'formats': ('float64', 'float64', 'float64')})\n",
    "  f.close()\n",
    "\n",
    "  # Split it into three arrays\n",
    "  date=data['JD']\n",
    "  mag=data['mag']\n",
    "  err=data['err']\n",
    "\n",
    "  # Sigma-clip the input lightcurve\n",
    "  date, mag, err = upsilon.utils.sigma_clipping(date, mag, err,  threshold=3, iteration=1)\n",
    "\n",
    "  ############# Extract lightcurve features #############\n",
    "  e_features = upsilon.ExtractFeatures(date, mag, err)\n",
    "  e_features.run()\n",
    "  features = e_features.get_features()\n",
    "\n",
    "  ############# Classify #############\n",
    "  # Classify the light curve\n",
    "  label, probability, flag = upsilon.predict(rf_model, features)\n",
    "\n",
    "  # Print results\n",
    "\n",
    "  output_file = open(path.replace('.txt', '_classification.txt'), 'w')\n",
    "  output_file.write(\"\\n\\n######### Classification results #########\\n\")\n",
    "  output_file.write(\"flag = \" + str(flag) + \" (0 - classification success, 1 - suspicious period)\\n\")\n",
    "  output_file.write(\"class = \" + str(label) + \"\\n\")\n",
    "  output_file.write(\"class_probability = \" + str(probability) + \"\\n\")\n",
    "  output_file.write(\"position = \" + str(ra) + \" \" + str(dec) + \"\\n\")\n",
    "  output_file.write(\"magnitude = \" + str(magnitude1) + \"\\n\")\n",
    "  output_file.write(\"vsx_id = \" + str(vsx_id) + \"\\n\")\n",
    "  output_file.write(\"asassn_id = \" + str(asassn_id) + \"\\n\")\n",
    "  output_file.close()\n",
    "\n",
    "  print(\"\\n\\n######### Classification results #########\\n\")\n",
    "  print(\"flag = \" + str(flag) + \" (0 - classification success, 1 - suspicious period)\")\n",
    "  print(\"class = \" + str(label) )\n",
    "  print(\"class_probability = \" + str(probability) )\n",
    "  print(\"\\n\\n######### Lightcurve features #########\\n\")\n",
    "\n",
    "  for feature in features:\n",
    "    print( str(feature) + \" = \" + str(features[feature]) )\n",
    "  #  print feature,\" = \",features[feature]"
   ]
  },
  {
   "cell_type": "code",
   "execution_count": 30,
   "metadata": {},
   "outputs": [],
   "source": [
    "folder_path = \"/Users/zoesurles/Desktop/variable_star_classification/downloaded_lightcurves/\""
   ]
  },
  {
   "cell_type": "code",
   "execution_count": 41,
   "metadata": {},
   "outputs": [
    {
     "name": "stdout",
     "output_type": "stream",
     "text": [
      "Downloading Curves...\n",
      "Pulled 1 of 1\n"
     ]
    },
    {
     "name": "stderr",
     "output_type": "stream",
     "text": [
      "/Users/zoesurles/miniconda3/lib/python3.11/site-packages/sklearn/base.py:318: UserWarning: Trying to unpickle estimator DecisionTreeClassifier from version 0.24.1 when using version 1.2.2. This might lead to breaking code or invalid results. Use at your own risk. For more info please refer to:\n",
      "https://scikit-learn.org/stable/model_persistence.html#security-maintainability-limitations\n",
      "  warnings.warn(\n",
      "/Users/zoesurles/miniconda3/lib/python3.11/site-packages/sklearn/base.py:318: UserWarning: Trying to unpickle estimator RandomForestClassifier from version 0.24.1 when using version 1.2.2. This might lead to breaking code or invalid results. Use at your own risk. For more info please refer to:\n",
      "https://scikit-learn.org/stable/model_persistence.html#security-maintainability-limitations\n",
      "  warnings.warn(\n"
     ]
    },
    {
     "name": "stdout",
     "output_type": "stream",
     "text": [
      "\n",
      "\n",
      "######### Classification results #########\n",
      "\n",
      "flag = 1 (0 - classification success, 1 - suspicious period)\n",
      "class = EB_ED\n",
      "class_probability = 0.44\n",
      "\n",
      "\n",
      "######### Lightcurve features #########\n",
      "\n",
      "amplitude = 0.1231113444504893\n",
      "cusum = 0.5949773900243829\n",
      "eta = 4.636792954813404\n",
      "hl_amp_ratio = 3.631621322063064\n",
      "kurtosis = 1.9249414326615026\n",
      "n_points = 799\n",
      "period = 0.49933048980115363\n",
      "period_SNR = 84.48081571155676\n",
      "period_log10FAP = -38.86762250914662\n",
      "period_uncertainty = 0.00010789336929867277\n",
      "phase_cusum = 0.6418220831414452\n",
      "phase_eta = 3.814985425144154\n",
      "phi21 = -2.6750102932414683\n",
      "phi31 = -5.018557111154495\n",
      "quartile31 = 0.14703647996268465\n",
      "r21 = 0.2646708057311711\n",
      "r31 = 0.08222947568573075\n",
      "shapiro_w = 0.7751968502998352\n",
      "skewness = 1.6437095263321895\n",
      "slope_per10 = -0.061078098839870046\n",
      "slope_per90 = 0.04593324529217279\n",
      "stetson_k = 0.835660411079065\n",
      "weighted_mean = 11.583683116855237\n",
      "weighted_std = 0.10904863140878433\n",
      "Downloading Curves...\n",
      "Pulled 1 of 1\n"
     ]
    },
    {
     "name": "stderr",
     "output_type": "stream",
     "text": [
      "/Users/zoesurles/miniconda3/lib/python3.11/site-packages/sklearn/base.py:318: UserWarning: Trying to unpickle estimator DecisionTreeClassifier from version 0.24.1 when using version 1.2.2. This might lead to breaking code or invalid results. Use at your own risk. For more info please refer to:\n",
      "https://scikit-learn.org/stable/model_persistence.html#security-maintainability-limitations\n",
      "  warnings.warn(\n",
      "/Users/zoesurles/miniconda3/lib/python3.11/site-packages/sklearn/base.py:318: UserWarning: Trying to unpickle estimator RandomForestClassifier from version 0.24.1 when using version 1.2.2. This might lead to breaking code or invalid results. Use at your own risk. For more info please refer to:\n",
      "https://scikit-learn.org/stable/model_persistence.html#security-maintainability-limitations\n",
      "  warnings.warn(\n"
     ]
    },
    {
     "name": "stdout",
     "output_type": "stream",
     "text": [
      "\n",
      "\n",
      "######### Classification results #########\n",
      "\n",
      "flag = 0 (0 - classification success, 1 - suspicious period)\n",
      "class = RRL_ab\n",
      "class_probability = 1.0\n",
      "\n",
      "\n",
      "######### Lightcurve features #########\n",
      "\n",
      "amplitude = 0.3513272366144769\n",
      "cusum = 0.18992974053892528\n",
      "eta = 1.4211393190405108\n",
      "hl_amp_ratio = 0.44425191734824837\n",
      "kurtosis = 0.446226236500018\n",
      "n_points = 1959\n",
      "period = 0.5699101116513362\n",
      "period_SNR = 213.1120948210273\n",
      "period_log10FAP = -259.9627882766078\n",
      "period_uncertainty = 0.00014018780242741613\n",
      "phase_cusum = 0.3470236145184959\n",
      "phase_eta = 0.3785782047228861\n",
      "phi21 = -2.3988369963020384\n",
      "phi31 = -4.468927625070965\n",
      "quartile31 = 0.42552155234921507\n",
      "r21 = 0.43486121710274694\n",
      "r31 = 0.23131353174376207\n",
      "shapiro_w = 0.9467988014221191\n",
      "skewness = -0.4329829474426836\n",
      "slope_per10 = -0.017180229078612174\n",
      "slope_per90 = 0.016818883924075583\n",
      "stetson_k = 0.7087397518023486\n",
      "weighted_mean = 14.94728290635055\n",
      "weighted_std = 0.2938476887068847\n",
      "Downloading Curves...\n",
      "Pulled 1 of 1\n"
     ]
    },
    {
     "name": "stderr",
     "output_type": "stream",
     "text": [
      "/Users/zoesurles/miniconda3/lib/python3.11/site-packages/sklearn/base.py:318: UserWarning: Trying to unpickle estimator DecisionTreeClassifier from version 0.24.1 when using version 1.2.2. This might lead to breaking code or invalid results. Use at your own risk. For more info please refer to:\n",
      "https://scikit-learn.org/stable/model_persistence.html#security-maintainability-limitations\n",
      "  warnings.warn(\n",
      "/Users/zoesurles/miniconda3/lib/python3.11/site-packages/sklearn/base.py:318: UserWarning: Trying to unpickle estimator RandomForestClassifier from version 0.24.1 when using version 1.2.2. This might lead to breaking code or invalid results. Use at your own risk. For more info please refer to:\n",
      "https://scikit-learn.org/stable/model_persistence.html#security-maintainability-limitations\n",
      "  warnings.warn(\n"
     ]
    },
    {
     "name": "stdout",
     "output_type": "stream",
     "text": [
      "\n",
      "\n",
      "######### Classification results #########\n",
      "\n",
      "flag = 0 (0 - classification success, 1 - suspicious period)\n",
      "class = RRL_ab\n",
      "class_probability = 1.0\n",
      "\n",
      "\n",
      "######### Lightcurve features #########\n",
      "\n",
      "amplitude = 0.22884318330584413\n",
      "cusum = 0.13862541485558272\n",
      "eta = 2.4047863004569265\n",
      "hl_amp_ratio = 0.5061393578427686\n",
      "kurtosis = -0.6008343108081338\n",
      "n_points = 1173\n",
      "period = 0.6061975254370692\n",
      "period_SNR = 210.8924441443425\n",
      "period_log10FAP = -155.27873802955583\n",
      "period_uncertainty = 0.0001311775194073883\n",
      "phase_cusum = 0.32001813714144545\n",
      "phase_eta = 0.4224160520704897\n",
      "phi21 = 0.8472932970963833\n",
      "phi31 = 1.969028946057671\n",
      "quartile31 = 0.3043154679810449\n",
      "r21 = 0.4550890824876354\n",
      "r31 = 0.23377171788037523\n",
      "shapiro_w = 0.9628617763519287\n",
      "skewness = -0.46756853906668044\n",
      "slope_per10 = -0.03697578117076696\n",
      "slope_per90 = 0.03254916344810945\n",
      "stetson_k = 0.7332310655832426\n",
      "weighted_mean = 15.25461401038359\n",
      "weighted_std = 0.1935455467754724\n",
      "Downloading Curves...\n",
      "Pulled 1 of 1\n"
     ]
    },
    {
     "name": "stderr",
     "output_type": "stream",
     "text": [
      "/Users/zoesurles/miniconda3/lib/python3.11/site-packages/sklearn/base.py:318: UserWarning: Trying to unpickle estimator DecisionTreeClassifier from version 0.24.1 when using version 1.2.2. This might lead to breaking code or invalid results. Use at your own risk. For more info please refer to:\n",
      "https://scikit-learn.org/stable/model_persistence.html#security-maintainability-limitations\n",
      "  warnings.warn(\n",
      "/Users/zoesurles/miniconda3/lib/python3.11/site-packages/sklearn/base.py:318: UserWarning: Trying to unpickle estimator RandomForestClassifier from version 0.24.1 when using version 1.2.2. This might lead to breaking code or invalid results. Use at your own risk. For more info please refer to:\n",
      "https://scikit-learn.org/stable/model_persistence.html#security-maintainability-limitations\n",
      "  warnings.warn(\n"
     ]
    },
    {
     "name": "stdout",
     "output_type": "stream",
     "text": [
      "\n",
      "\n",
      "######### Classification results #########\n",
      "\n",
      "flag = 0 (0 - classification success, 1 - suspicious period)\n",
      "class = RRL_ab\n",
      "class_probability = 1.0\n",
      "\n",
      "\n",
      "######### Lightcurve features #########\n",
      "\n",
      "amplitude = 0.25571270805980323\n",
      "cusum = 0.17094546959050838\n",
      "eta = 2.2616859028447673\n",
      "hl_amp_ratio = 0.42791888669102907\n",
      "kurtosis = -0.45671716399405904\n",
      "n_points = 589\n",
      "period = 0.6488918242806714\n",
      "period_SNR = 136.18799613020585\n",
      "period_log10FAP = -73.68981277736002\n",
      "period_uncertainty = 0.00015402864113733816\n",
      "phase_cusum = 0.2637278454849599\n",
      "phase_eta = 0.5928796055026946\n",
      "phi21 = 0.8839563851827947\n",
      "phi31 = 2.1973301134574896\n",
      "quartile31 = 0.3472337638212579\n",
      "r21 = 0.3781350145618979\n",
      "r31 = 0.18604824378133808\n",
      "shapiro_w = 0.9453371167182922\n",
      "skewness = -0.5792291182732436\n",
      "slope_per10 = -0.06554857597826962\n",
      "slope_per90 = 0.07246792259935828\n",
      "stetson_k = 0.7123150286891828\n",
      "weighted_mean = 14.719077916942052\n",
      "weighted_std = 0.2237544858573173\n",
      "Downloading Curves...\n",
      "Pulled 1 of 1\n"
     ]
    },
    {
     "name": "stderr",
     "output_type": "stream",
     "text": [
      "/Users/zoesurles/miniconda3/lib/python3.11/site-packages/sklearn/base.py:318: UserWarning: Trying to unpickle estimator DecisionTreeClassifier from version 0.24.1 when using version 1.2.2. This might lead to breaking code or invalid results. Use at your own risk. For more info please refer to:\n",
      "https://scikit-learn.org/stable/model_persistence.html#security-maintainability-limitations\n",
      "  warnings.warn(\n",
      "/Users/zoesurles/miniconda3/lib/python3.11/site-packages/sklearn/base.py:318: UserWarning: Trying to unpickle estimator RandomForestClassifier from version 0.24.1 when using version 1.2.2. This might lead to breaking code or invalid results. Use at your own risk. For more info please refer to:\n",
      "https://scikit-learn.org/stable/model_persistence.html#security-maintainability-limitations\n",
      "  warnings.warn(\n"
     ]
    },
    {
     "name": "stdout",
     "output_type": "stream",
     "text": [
      "\n",
      "\n",
      "######### Classification results #########\n",
      "\n",
      "flag = 0 (0 - classification success, 1 - suspicious period)\n",
      "class = RRL_ab\n",
      "class_probability = 1.0\n",
      "\n",
      "\n",
      "######### Lightcurve features #########\n",
      "\n",
      "amplitude = 0.35812140957001815\n",
      "cusum = 0.19328106948440948\n",
      "eta = 2.0602537516726978\n",
      "hl_amp_ratio = 0.3865729284222513\n",
      "kurtosis = -0.5145102922624671\n",
      "n_points = 847\n",
      "period = 0.5796433310711436\n",
      "period_SNR = 193.40012217259633\n",
      "period_log10FAP = -110.45829947971741\n",
      "period_uncertainty = 0.0001212541535066669\n",
      "phase_cusum = 0.2690572142730805\n",
      "phase_eta = 0.2825902493570441\n",
      "phi21 = -2.411643016147332\n",
      "phi31 = -1.3377288237135152\n",
      "quartile31 = 0.4668524509173064\n",
      "r21 = 0.4575862676703084\n",
      "r31 = 0.2914600792057557\n",
      "shapiro_w = 0.9386290907859802\n",
      "skewness = -0.6548169946394189\n",
      "slope_per10 = -0.03555456003420121\n",
      "slope_per90 = 0.04217187362294613\n",
      "stetson_k = 0.6764409850013134\n",
      "weighted_mean = 15.539763621570842\n",
      "weighted_std = 0.3147425973804606\n",
      "Downloading Curves...\n",
      "Pulled 1 of 1\n"
     ]
    },
    {
     "name": "stderr",
     "output_type": "stream",
     "text": [
      "/Users/zoesurles/miniconda3/lib/python3.11/site-packages/sklearn/base.py:318: UserWarning: Trying to unpickle estimator DecisionTreeClassifier from version 0.24.1 when using version 1.2.2. This might lead to breaking code or invalid results. Use at your own risk. For more info please refer to:\n",
      "https://scikit-learn.org/stable/model_persistence.html#security-maintainability-limitations\n",
      "  warnings.warn(\n",
      "/Users/zoesurles/miniconda3/lib/python3.11/site-packages/sklearn/base.py:318: UserWarning: Trying to unpickle estimator RandomForestClassifier from version 0.24.1 when using version 1.2.2. This might lead to breaking code or invalid results. Use at your own risk. For more info please refer to:\n",
      "https://scikit-learn.org/stable/model_persistence.html#security-maintainability-limitations\n",
      "  warnings.warn(\n"
     ]
    },
    {
     "name": "stdout",
     "output_type": "stream",
     "text": [
      "\n",
      "\n",
      "######### Classification results #########\n",
      "\n",
      "flag = 0 (0 - classification success, 1 - suspicious period)\n",
      "class = RRL_ab\n",
      "class_probability = 1.0\n",
      "\n",
      "\n",
      "######### Lightcurve features #########\n",
      "\n",
      "amplitude = 0.3613545779924703\n",
      "cusum = 0.196765239919246\n",
      "eta = 1.936474093997023\n",
      "hl_amp_ratio = 0.36009001270185076\n",
      "kurtosis = -0.23956003879680532\n",
      "n_points = 758\n",
      "period = 0.5444815123050364\n",
      "period_SNR = 152.79033799186217\n",
      "period_log10FAP = -82.58018523876186\n",
      "period_uncertainty = 0.00010724051299543236\n",
      "phase_cusum = 0.3047899890842583\n",
      "phase_eta = 0.6052426406539687\n",
      "phi21 = 0.6644393089078959\n",
      "phi31 = 1.6006583205487623\n",
      "quartile31 = 0.48289547925235965\n",
      "r21 = 0.45779007484287293\n",
      "r31 = 0.29707015293258393\n",
      "shapiro_w = 0.9346495866775513\n",
      "skewness = -0.6060385900583479\n",
      "slope_per10 = -0.038631573582005606\n",
      "slope_per90 = 0.03765085227430914\n",
      "stetson_k = 0.6614796976535116\n",
      "weighted_mean = 15.508462853390112\n",
      "weighted_std = 0.3383926852727133\n",
      "Downloading Curves...\n",
      "Pulled 1 of 1\n"
     ]
    },
    {
     "name": "stderr",
     "output_type": "stream",
     "text": [
      "/Users/zoesurles/miniconda3/lib/python3.11/site-packages/sklearn/base.py:318: UserWarning: Trying to unpickle estimator DecisionTreeClassifier from version 0.24.1 when using version 1.2.2. This might lead to breaking code or invalid results. Use at your own risk. For more info please refer to:\n",
      "https://scikit-learn.org/stable/model_persistence.html#security-maintainability-limitations\n",
      "  warnings.warn(\n",
      "/Users/zoesurles/miniconda3/lib/python3.11/site-packages/sklearn/base.py:318: UserWarning: Trying to unpickle estimator RandomForestClassifier from version 0.24.1 when using version 1.2.2. This might lead to breaking code or invalid results. Use at your own risk. For more info please refer to:\n",
      "https://scikit-learn.org/stable/model_persistence.html#security-maintainability-limitations\n",
      "  warnings.warn(\n"
     ]
    },
    {
     "name": "stdout",
     "output_type": "stream",
     "text": [
      "\n",
      "\n",
      "######### Classification results #########\n",
      "\n",
      "flag = 0 (0 - classification success, 1 - suspicious period)\n",
      "class = RRL_ab\n",
      "class_probability = 1.0\n",
      "\n",
      "\n",
      "######### Lightcurve features #########\n",
      "\n",
      "amplitude = 0.417684666918026\n",
      "cusum = 0.24474230667448568\n",
      "eta = 2.0552045243891945\n",
      "hl_amp_ratio = 0.3629853734685813\n",
      "kurtosis = -0.5946381828673979\n",
      "n_points = 830\n",
      "period = 0.6612652156046563\n",
      "period_SNR = 191.70962033024273\n",
      "period_log10FAP = -113.91218835906204\n",
      "period_uncertainty = 0.0001892212713898167\n",
      "phase_cusum = 0.39513628705289383\n",
      "phase_eta = 0.1408198906079646\n",
      "phi21 = 0.722245608689208\n",
      "phi31 = 1.7974506951442368\n",
      "quartile31 = 0.5290092263600563\n",
      "r21 = 0.497822329201631\n",
      "r31 = 0.30303201334880153\n",
      "shapiro_w = 0.9222419261932373\n",
      "skewness = -0.670405984297409\n",
      "slope_per10 = -0.07107229421226163\n",
      "slope_per90 = 0.08222671182691758\n",
      "stetson_k = 0.6729422038750612\n",
      "weighted_mean = 14.89110022259476\n",
      "weighted_std = 0.3516761730119924\n",
      "Downloading Curves...\n",
      "Pulled 1 of 1\n"
     ]
    },
    {
     "name": "stderr",
     "output_type": "stream",
     "text": [
      "/Users/zoesurles/miniconda3/lib/python3.11/site-packages/sklearn/base.py:318: UserWarning: Trying to unpickle estimator DecisionTreeClassifier from version 0.24.1 when using version 1.2.2. This might lead to breaking code or invalid results. Use at your own risk. For more info please refer to:\n",
      "https://scikit-learn.org/stable/model_persistence.html#security-maintainability-limitations\n",
      "  warnings.warn(\n"
     ]
    },
    {
     "name": "stdout",
     "output_type": "stream",
     "text": [
      "\n",
      "\n",
      "######### Classification results #########\n",
      "\n",
      "flag = 0 (0 - classification success, 1 - suspicious period)\n",
      "class = RRL_c\n",
      "class_probability = 1.0\n",
      "\n",
      "\n",
      "######### Lightcurve features #########\n",
      "\n",
      "amplitude = 0.24784290146694568\n",
      "cusum = 0.17021576035406893\n",
      "eta = 2.3893712982610866\n",
      "hl_amp_ratio = 0.946448932357675\n",
      "kurtosis = -1.0818940133158437\n",
      "n_points = 1033\n",
      "period = 0.3007672595717243\n",
      "period_SNR = 225.17328121509058\n",
      "period_log10FAP = -176.51801116609374\n",
      "period_uncertainty = 3.8877237011125665e-05\n",
      "phase_cusum = 0.34422127985643525\n",
      "phase_eta = 0.4185076471252436\n",
      "phi21 = 1.1992706224488603\n",
      "phi31 = 3.287013115332402\n",
      "quartile31 = 0.34388388349331933\n",
      "r21 = 0.10989838453044917\n",
      "r31 = 0.07944797724428088\n",
      "shapiro_w = 0.9642893075942993\n",
      "skewness = 0.083168513620058\n",
      "slope_per10 = -0.021631388803142193\n",
      "slope_per90 = 0.023705766358141207\n",
      "stetson_k = 0.8324125148637812\n",
      "weighted_mean = 15.512864792724557\n",
      "weighted_std = 0.17729615677855276\n"
     ]
    },
    {
     "name": "stderr",
     "output_type": "stream",
     "text": [
      "/Users/zoesurles/miniconda3/lib/python3.11/site-packages/sklearn/base.py:318: UserWarning: Trying to unpickle estimator RandomForestClassifier from version 0.24.1 when using version 1.2.2. This might lead to breaking code or invalid results. Use at your own risk. For more info please refer to:\n",
      "https://scikit-learn.org/stable/model_persistence.html#security-maintainability-limitations\n",
      "  warnings.warn(\n"
     ]
    }
   ],
   "source": [
    "num_iterations = 1\n",
    "empty_list = []\n",
    "for i in range(140, 150):\n",
    "    if i == 8 or i == 121 or i == 141 or i == 148:\n",
    "        continue\n",
    "    search = client.cone_search(ra_deg = final_table[\"RA\"][i], dec_deg = final_table[\"Dec\"][i], radius=0.0003, catalog='aavsovsx', download=True)\n",
    "\n",
    "    savecsv = search.save(save_dir = folder_path, file_format=\"csv\")[1]\n",
    "    empty_list.append(savecsv)\n",
    "\n",
    "    new_file = pd.read_csv(savecsv, skiprows=1)\n",
    "\n",
    "    g_filter = new_file[new_file['phot_filter'] == 'g']\n",
    "    quality = g_filter[g_filter['quality'] == 'G']\n",
    "    web_format = quality[[\"jd\", \"mag\", \"mag_err\"]]\n",
    "    web_format.to_csv(savecsv.replace(\".csv\", \".txt\"), sep='\\t', index=False, header = False)\n",
    "\n",
    "    classification_model(savecsv.replace(\".csv\", \".txt\"), final_table[\"RA\"][i], final_table[\"Dec\"][i], final_table[\"Magnitude\"][i], final_table[\"Other Info\"][i], new_file[\"asas_sn_id\"][0])"
   ]
  },
  {
   "cell_type": "code",
   "execution_count": null,
   "metadata": {},
   "outputs": [],
   "source": []
  }
 ],
 "metadata": {
  "kernelspec": {
   "display_name": "base",
   "language": "python",
   "name": "python3"
  },
  "language_info": {
   "codemirror_mode": {
    "name": "ipython",
    "version": 3
   },
   "file_extension": ".py",
   "mimetype": "text/x-python",
   "name": "python",
   "nbconvert_exporter": "python",
   "pygments_lexer": "ipython3",
   "version": "3.11.7"
  }
 },
 "nbformat": 4,
 "nbformat_minor": 2
}
