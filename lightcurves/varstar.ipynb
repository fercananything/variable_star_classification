{
 "cells": [
  {
   "cell_type": "markdown",
   "metadata": {},
   "source": [
    "### **imports**"
   ]
  },
  {
   "cell_type": "code",
   "execution_count": 2,
   "metadata": {},
   "outputs": [
    {
     "name": "stdout",
     "output_type": "stream",
     "text": [
      "-------------------\n",
      "| pyFFTW detected |\n",
      "-------------------\n"
     ]
    }
   ],
   "source": [
    "import pandas as pd\n",
    "import numpy as np\n",
    "from astropy.io import ascii\n",
    "from astropy.table import QTable, Table, Column\n",
    "from astropy import units as u\n",
    "import string\n",
    "import os\n",
    "import upsilon"
   ]
  },
  {
   "cell_type": "markdown",
   "metadata": {},
   "source": [
    "### **making a table of all of the stars in the txt file**"
   ]
  },
  {
   "cell_type": "code",
   "execution_count": 3,
   "metadata": {},
   "outputs": [],
   "source": [
    "column1 = []\n",
    "column2 = []\n",
    "column3 = []\n",
    "column4 = []\n",
    "column5 = []\n",
    "\n",
    "with open('rrlyr_vsx_clean2.txt', 'r') as file:\n",
    "    for line in file:\n",
    "        components = line.split(' ', 4)\n",
    "    \n",
    "        try:\n",
    "            magnitude = float(components[3])  # Try to convert the 4th component to float\n",
    "        except ValueError:\n",
    "            continue\n",
    "\n",
    "        if magnitude < 15.5:\n",
    "            column1.append(components[0])\n",
    "            column2.append(float(components[1]))\n",
    "            column3.append(float(components[2]))\n",
    "            column4.append(magnitude)\n",
    "            column5.append(components[4].strip())\n",
    "\n",
    "final_table = QTable([column1, column2, column3, column4, column5], names = (\"Star Type\", \"RA\", \"Dec\", \"Magnitude\", \"Other Info\"))"
   ]
  },
  {
   "cell_type": "code",
   "execution_count": 4,
   "metadata": {},
   "outputs": [
    {
     "data": {
      "text/html": [
       "<div><i>QTable length=29417</i>\n",
       "<table id=\"table6053966992\" class=\"table-striped table-bordered table-condensed\">\n",
       "<thead><tr><th>Star Type</th><th>RA</th><th>Dec</th><th>Magnitude</th><th>Other Info</th></tr></thead>\n",
       "<thead><tr><th>str24</th><th>float64</th><th>float64</th><th>float64</th><th>str29</th></tr></thead>\n",
       "<tr><td>RRAB</td><td>0.01521</td><td>35.36286</td><td>12.43</td><td>GM And</td></tr>\n",
       "<tr><td>RRAB</td><td>0.01669</td><td>18.40698</td><td>15.171</td><td>CSS_J000004.0+182425</td></tr>\n",
       "<tr><td>RRAB</td><td>0.03171</td><td>34.67397</td><td>14.95</td><td>SERIV 27</td></tr>\n",
       "<tr><td>RRAB</td><td>0.06821</td><td>-72.77875</td><td>15.1</td><td>BP Tuc</td></tr>\n",
       "<tr><td>RRAB</td><td>0.099</td><td>36.3287</td><td>14.46</td><td>NSVS 6313844</td></tr>\n",
       "<tr><td>RRAB</td><td>0.1338</td><td>22.99388</td><td>14.671</td><td>CSS_J000032.1+225937</td></tr>\n",
       "<tr><td>RRAB</td><td>0.13423</td><td>-54.29512</td><td>15.26</td><td>ASASSN-V J000032.21-541742.4</td></tr>\n",
       "<tr><td>RRAB</td><td>0.14829</td><td>26.66375</td><td>12.96</td><td>GV Peg</td></tr>\n",
       "<tr><td>RRC</td><td>0.15377</td><td>-60.98439</td><td>15.18</td><td>ASASSN-V J000036.92-605903.9</td></tr>\n",
       "<tr><td>RRC</td><td>0.18471</td><td>37.84283</td><td>13.1</td><td>ROTSE1 J000044.33 +375034.2</td></tr>\n",
       "<tr><td>...</td><td>...</td><td>...</td><td>...</td><td>...</td></tr>\n",
       "<tr><td>RRAB/BL:</td><td>359.67567</td><td>41.48881</td><td>12.73</td><td>DY And</td></tr>\n",
       "<tr><td>RRC</td><td>359.73579</td><td>-44.67078</td><td>14.3</td><td>DV Phe</td></tr>\n",
       "<tr><td>RRC</td><td>359.77146</td><td>54.01686</td><td>14.2</td><td>QY Cas</td></tr>\n",
       "<tr><td>RRC</td><td>359.80239</td><td>53.94432</td><td>14.97</td><td>PS1-3PI J235912.57+535639.5</td></tr>\n",
       "<tr><td>RRAB</td><td>359.90512</td><td>-72.08878</td><td>15.29</td><td>ASASSN-V J235937.21-720519.4</td></tr>\n",
       "<tr><td>RRC</td><td>359.93546</td><td>17.65683</td><td>13.66</td><td>ASAS J235945+1739.5</td></tr>\n",
       "<tr><td>RRC</td><td>359.93652</td><td>-11.75557</td><td>14.42</td><td>ASASSN-V J235944.77-114520.0</td></tr>\n",
       "<tr><td>RRC</td><td>359.93862</td><td>-28.19131</td><td>14.93</td><td>SSS_J235945.0-281126</td></tr>\n",
       "<tr><td>RRAB</td><td>359.94269</td><td>-60.26738</td><td>15.02</td><td>ASASSN-V J235946.37-601602.6</td></tr>\n",
       "<tr><td>RRC</td><td>359.94528</td><td>37.18602</td><td>15.215</td><td>CSS_J235946.8+371110</td></tr>\n",
       "</table></div>"
      ],
      "text/plain": [
       "<QTable length=29417>\n",
       "Star Type     RA       Dec    Magnitude          Other Info         \n",
       "  str24    float64   float64   float64             str29            \n",
       "--------- --------- --------- --------- ----------------------------\n",
       "     RRAB   0.01521  35.36286     12.43                       GM And\n",
       "     RRAB   0.01669  18.40698    15.171         CSS_J000004.0+182425\n",
       "     RRAB   0.03171  34.67397     14.95                     SERIV 27\n",
       "     RRAB   0.06821 -72.77875      15.1                       BP Tuc\n",
       "     RRAB     0.099   36.3287     14.46                 NSVS 6313844\n",
       "     RRAB    0.1338  22.99388    14.671         CSS_J000032.1+225937\n",
       "     RRAB   0.13423 -54.29512     15.26 ASASSN-V J000032.21-541742.4\n",
       "     RRAB   0.14829  26.66375     12.96                       GV Peg\n",
       "      RRC   0.15377 -60.98439     15.18 ASASSN-V J000036.92-605903.9\n",
       "      RRC   0.18471  37.84283      13.1  ROTSE1 J000044.33 +375034.2\n",
       "      ...       ...       ...       ...                          ...\n",
       " RRAB/BL: 359.67567  41.48881     12.73                       DY And\n",
       "      RRC 359.73579 -44.67078      14.3                       DV Phe\n",
       "      RRC 359.77146  54.01686      14.2                       QY Cas\n",
       "      RRC 359.80239  53.94432     14.97  PS1-3PI J235912.57+535639.5\n",
       "     RRAB 359.90512 -72.08878     15.29 ASASSN-V J235937.21-720519.4\n",
       "      RRC 359.93546  17.65683     13.66          ASAS J235945+1739.5\n",
       "      RRC 359.93652 -11.75557     14.42 ASASSN-V J235944.77-114520.0\n",
       "      RRC 359.93862 -28.19131     14.93         SSS_J235945.0-281126\n",
       "     RRAB 359.94269 -60.26738     15.02 ASASSN-V J235946.37-601602.6\n",
       "      RRC 359.94528  37.18602    15.215         CSS_J235946.8+371110"
      ]
     },
     "execution_count": 4,
     "metadata": {},
     "output_type": "execute_result"
    }
   ],
   "source": [
    "final_table"
   ]
  },
  {
   "cell_type": "markdown",
   "metadata": {},
   "source": [
    "### **importing the asassn client**"
   ]
  },
  {
   "cell_type": "code",
   "execution_count": 5,
   "metadata": {},
   "outputs": [
    {
     "name": "stdout",
     "output_type": "stream",
     "text": [
      "Welcome to ASAS-SN Skypatrol!\n",
      "\n",
      "Current Deployment Version: 0.6.17 (26 JAN 2024)\n",
      "Please upgrade your client if not up to date.\n",
      "\n"
     ]
    }
   ],
   "source": [
    "from pyasassn.client import SkyPatrolClient\t\n",
    "client = SkyPatrolClient()"
   ]
  },
  {
   "cell_type": "markdown",
   "metadata": {},
   "source": [
    "### **downloading a csv file with the data from the star at a specified index**"
   ]
  },
  {
   "cell_type": "code",
   "execution_count": 6,
   "metadata": {},
   "outputs": [],
   "source": [
    "def classification_model(path, ra, dec, magnitude1, vsx_id, asassn_id):\n",
    "  # Load a classification model.\n",
    "  # (takes time, do only once if processing multiple lcs)\n",
    "  rf_model = upsilon.load_rf_model()\n",
    "\n",
    "\n",
    "  ############# Read input lc data #############\n",
    "  # Read the input lightcurve file\n",
    "  f = open(path, 'r')\n",
    "  data = np.loadtxt(f, dtype={'names': ('JD', 'mag', 'err'),'formats': ('float64', 'float64', 'float64')})\n",
    "  f.close()\n",
    "\n",
    "  # Split it into three arrays\n",
    "  date=data['JD']\n",
    "  mag=data['mag']\n",
    "  err=data['err']\n",
    "\n",
    "  # Sigma-clip the input lightcurve\n",
    "  date, mag, err = upsilon.utils.sigma_clipping(date, mag, err,  threshold=3, iteration=1)\n",
    "\n",
    "  ############# Extract lightcurve features #############\n",
    "  e_features = upsilon.ExtractFeatures(date, mag, err)\n",
    "  e_features.run()\n",
    "  features = e_features.get_features()\n",
    "\n",
    "  ############# Classify #############\n",
    "  # Classify the light curve\n",
    "  label, probability, flag = upsilon.predict(rf_model, features)\n",
    "\n",
    "  # Print results\n",
    "\n",
    "  output_file = open(path.replace('.txt', '_classification.txt'), 'w')\n",
    "  output_file.write(\"\\n\\n######### Classification results #########\\n\")\n",
    "  output_file.write(\"flag = \" + str(flag) + \" (0 - classification success, 1 - suspicious period)\\n\")\n",
    "  output_file.write(\"class = \" + str(label) + \"\\n\")\n",
    "  output_file.write(\"class_probability = \" + str(probability) + \"\\n\")\n",
    "  output_file.write(\"position = \" + str(ra) + \" \" + str(dec) + \"\\n\")\n",
    "  output_file.write(\"magnitude = \" + str(magnitude1) + \"\\n\")\n",
    "  output_file.write(\"vsx_id = \" + str(vsx_id) + \"\\n\")\n",
    "  output_file.write(\"asassn_id = \" + str(asassn_id) + \"\\n\")\n",
    "  output_file.write(\"color_string =\\n\")\n",
    "  output_file.write(\"visual_inspection_comments =\\n\")\n",
    "  output_file.close()\n",
    "\n",
    "  print(\"\\n\\n######### Classification results #########\\n\")\n",
    "  print(\"flag = \" + str(flag) + \" (0 - classification success, 1 - suspicious period)\")\n",
    "  print(\"class = \" + str(label) )\n",
    "  print(\"class_probability = \" + str(probability) )\n",
    "  print(\"\\n\\n######### Lightcurve features #########\\n\")\n",
    "\n",
    "  for feature in features:\n",
    "    print( str(feature) + \" = \" + str(features[feature]) )\n",
    "  #  print feature,\" = \",features[feature]"
   ]
  },
  {
   "cell_type": "code",
   "execution_count": 7,
   "metadata": {},
   "outputs": [],
   "source": [
    "folder_path = \"/Users/zoesurles/Desktop/variable_star_classification/downloaded_lightcurves/\""
   ]
  },
  {
   "cell_type": "code",
   "execution_count": 13,
   "metadata": {},
   "outputs": [
    {
     "name": "stdout",
     "output_type": "stream",
     "text": [
      "Downloading Curves...\n",
      "Pulled 1 of 1\n"
     ]
    },
    {
     "name": "stderr",
     "output_type": "stream",
     "text": [
      "/Users/zoesurles/miniconda3/lib/python3.11/site-packages/sklearn/base.py:318: UserWarning: Trying to unpickle estimator DecisionTreeClassifier from version 0.24.1 when using version 1.2.2. This might lead to breaking code or invalid results. Use at your own risk. For more info please refer to:\n",
      "https://scikit-learn.org/stable/model_persistence.html#security-maintainability-limitations\n",
      "  warnings.warn(\n",
      "/Users/zoesurles/miniconda3/lib/python3.11/site-packages/sklearn/base.py:318: UserWarning: Trying to unpickle estimator RandomForestClassifier from version 0.24.1 when using version 1.2.2. This might lead to breaking code or invalid results. Use at your own risk. For more info please refer to:\n",
      "https://scikit-learn.org/stable/model_persistence.html#security-maintainability-limitations\n",
      "  warnings.warn(\n"
     ]
    },
    {
     "name": "stdout",
     "output_type": "stream",
     "text": [
      "\n",
      "\n",
      "######### Classification results #########\n",
      "\n",
      "flag = 0 (0 - classification success, 1 - suspicious period)\n",
      "class = RRL_ab\n",
      "class_probability = 1.0\n",
      "\n",
      "\n",
      "######### Lightcurve features #########\n",
      "\n",
      "amplitude = 0.2629273920703576\n",
      "cusum = 0.14808905657962348\n",
      "eta = 1.9606559323782364\n",
      "hl_amp_ratio = 0.647621988388796\n",
      "kurtosis = -0.9262122525803016\n",
      "n_points = 2079\n",
      "period = 0.6041460933527569\n",
      "period_SNR = 287.05652786552736\n",
      "period_log10FAP = -302.4249547281897\n",
      "period_uncertainty = 0.00012905795945850063\n",
      "phase_cusum = 0.3156208195401954\n",
      "phase_eta = 0.3245593759821453\n",
      "phi21 = 1.0874392279023162\n",
      "phi31 = 2.4209137821874482\n",
      "quartile31 = 0.37144505560695507\n",
      "r21 = 0.4304475389972591\n",
      "r31 = 0.22957187685275504\n",
      "shapiro_w = 0.9667591452598572\n",
      "skewness = -0.27847061730084693\n",
      "slope_per10 = -0.022453948422197712\n",
      "slope_per90 = 0.020263346258141062\n",
      "stetson_k = 0.7875481249308808\n",
      "weighted_mean = 15.01876255025706\n",
      "weighted_std = 0.215915229165514\n",
      "Downloading Curves...\n",
      "Pulled 1 of 1\n"
     ]
    },
    {
     "name": "stderr",
     "output_type": "stream",
     "text": [
      "/Users/zoesurles/miniconda3/lib/python3.11/site-packages/sklearn/base.py:318: UserWarning: Trying to unpickle estimator DecisionTreeClassifier from version 0.24.1 when using version 1.2.2. This might lead to breaking code or invalid results. Use at your own risk. For more info please refer to:\n",
      "https://scikit-learn.org/stable/model_persistence.html#security-maintainability-limitations\n",
      "  warnings.warn(\n",
      "/Users/zoesurles/miniconda3/lib/python3.11/site-packages/sklearn/base.py:318: UserWarning: Trying to unpickle estimator RandomForestClassifier from version 0.24.1 when using version 1.2.2. This might lead to breaking code or invalid results. Use at your own risk. For more info please refer to:\n",
      "https://scikit-learn.org/stable/model_persistence.html#security-maintainability-limitations\n",
      "  warnings.warn(\n",
      "/Users/zoesurles/miniconda3/lib/python3.11/site-packages/numpy/core/_methods.py:173: RuntimeWarning: invalid value encountered in subtract\n",
      "  x = asanyarray(arr - arrmean)\n",
      "/Users/zoesurles/miniconda3/lib/python3.11/site-packages/upsilon/extract_features/extract_features.py:60: UserWarning: The number of data points are less than 80.\n",
      "  warnings.warn('The number of data points are less than %d.'\n",
      "/Users/zoesurles/miniconda3/lib/python3.11/site-packages/numpy/core/_methods.py:206: RuntimeWarning: Degrees of freedom <= 0 for slice\n",
      "  ret = _var(a, axis=axis, dtype=dtype, out=out, ddof=ddof,\n",
      "/Users/zoesurles/miniconda3/lib/python3.11/site-packages/numpy/core/_methods.py:163: RuntimeWarning: invalid value encountered in divide\n",
      "  arrmean = um.true_divide(arrmean, div, out=arrmean,\n",
      "/Users/zoesurles/miniconda3/lib/python3.11/site-packages/numpy/core/_methods.py:198: RuntimeWarning: invalid value encountered in scalar divide\n",
      "  ret = ret.dtype.type(ret / rcount)\n",
      "/Users/zoesurles/miniconda3/lib/python3.11/site-packages/numpy/core/fromnumeric.py:3504: RuntimeWarning: Mean of empty slice.\n",
      "  return _methods._mean(a, axis=axis, dtype=dtype,\n",
      "/Users/zoesurles/miniconda3/lib/python3.11/site-packages/numpy/core/_methods.py:129: RuntimeWarning: invalid value encountered in scalar divide\n",
      "  ret = ret.dtype.type(ret / rcount)\n",
      "/Users/zoesurles/miniconda3/lib/python3.11/site-packages/upsilon/extract_features/extract_features.py:108: RuntimeWarning: invalid value encountered in scalar divide\n",
      "  self.weighted_mean = np.sum(self.mag * self.weight) / self.weighted_sum\n",
      "/Users/zoesurles/miniconda3/lib/python3.11/site-packages/upsilon/extract_features/extract_features.py:109: RuntimeWarning: invalid value encountered in scalar divide\n",
      "  self.weighted_std = np.sqrt(np.sum((self.mag - self.weighted_mean) ** 2 \\\n",
      "/Users/zoesurles/miniconda3/lib/python3.11/site-packages/scipy/stats/_stats_py.py:1193: RuntimeWarning: Mean of empty slice.\n",
      "  mean = a.mean(axis, keepdims=True)\n",
      "/Users/zoesurles/miniconda3/lib/python3.11/site-packages/numpy/core/_methods.py:121: RuntimeWarning: invalid value encountered in divide\n",
      "  ret = um.true_divide(\n",
      "/Users/zoesurles/miniconda3/lib/python3.11/site-packages/scipy/stats/_stats_py.py:1303: RuntimeWarning: Mean of empty slice.\n",
      "  mean = a.mean(axis, keepdims=True)\n"
     ]
    },
    {
     "ename": "ValueError",
     "evalue": "Data must be at least length 3.",
     "output_type": "error",
     "traceback": [
      "\u001b[0;31m---------------------------------------------------------------------------\u001b[0m",
      "\u001b[0;31mValueError\u001b[0m                                Traceback (most recent call last)",
      "Cell \u001b[0;32mIn[13], line 21\u001b[0m\n\u001b[1;32m     18\u001b[0m web_format \u001b[38;5;241m=\u001b[39m quality[[\u001b[38;5;124m\"\u001b[39m\u001b[38;5;124mjd\u001b[39m\u001b[38;5;124m\"\u001b[39m, \u001b[38;5;124m\"\u001b[39m\u001b[38;5;124mmag\u001b[39m\u001b[38;5;124m\"\u001b[39m, \u001b[38;5;124m\"\u001b[39m\u001b[38;5;124mmag_err\u001b[39m\u001b[38;5;124m\"\u001b[39m]]\n\u001b[1;32m     19\u001b[0m web_format\u001b[38;5;241m.\u001b[39mto_csv(savecsv\u001b[38;5;241m.\u001b[39mreplace(\u001b[38;5;124m\"\u001b[39m\u001b[38;5;124m.csv\u001b[39m\u001b[38;5;124m\"\u001b[39m, \u001b[38;5;124m\"\u001b[39m\u001b[38;5;124m.txt\u001b[39m\u001b[38;5;124m\"\u001b[39m), sep\u001b[38;5;241m=\u001b[39m\u001b[38;5;124m'\u001b[39m\u001b[38;5;130;01m\\t\u001b[39;00m\u001b[38;5;124m'\u001b[39m, index\u001b[38;5;241m=\u001b[39m\u001b[38;5;28;01mFalse\u001b[39;00m, header \u001b[38;5;241m=\u001b[39m \u001b[38;5;28;01mFalse\u001b[39;00m)\n\u001b[0;32m---> 21\u001b[0m classification_model(savecsv\u001b[38;5;241m.\u001b[39mreplace(\u001b[38;5;124m\"\u001b[39m\u001b[38;5;124m.csv\u001b[39m\u001b[38;5;124m\"\u001b[39m, \u001b[38;5;124m\"\u001b[39m\u001b[38;5;124m.txt\u001b[39m\u001b[38;5;124m\"\u001b[39m), final_table[\u001b[38;5;124m\"\u001b[39m\u001b[38;5;124mRA\u001b[39m\u001b[38;5;124m\"\u001b[39m][i], final_table[\u001b[38;5;124m\"\u001b[39m\u001b[38;5;124mDec\u001b[39m\u001b[38;5;124m\"\u001b[39m][i], final_table[\u001b[38;5;124m\"\u001b[39m\u001b[38;5;124mMagnitude\u001b[39m\u001b[38;5;124m\"\u001b[39m][i], final_table[\u001b[38;5;124m\"\u001b[39m\u001b[38;5;124mOther Info\u001b[39m\u001b[38;5;124m\"\u001b[39m][i], new_file[\u001b[38;5;124m\"\u001b[39m\u001b[38;5;124masas_sn_id\u001b[39m\u001b[38;5;124m\"\u001b[39m][\u001b[38;5;241m0\u001b[39m])\n",
      "Cell \u001b[0;32mIn[6], line 23\u001b[0m, in \u001b[0;36mclassification_model\u001b[0;34m(path, ra, dec, magnitude1, vsx_id, asassn_id)\u001b[0m\n\u001b[1;32m     21\u001b[0m \u001b[38;5;66;03m############# Extract lightcurve features #############\u001b[39;00m\n\u001b[1;32m     22\u001b[0m e_features \u001b[38;5;241m=\u001b[39m upsilon\u001b[38;5;241m.\u001b[39mExtractFeatures(date, mag, err)\n\u001b[0;32m---> 23\u001b[0m e_features\u001b[38;5;241m.\u001b[39mrun()\n\u001b[1;32m     24\u001b[0m features \u001b[38;5;241m=\u001b[39m e_features\u001b[38;5;241m.\u001b[39mget_features()\n\u001b[1;32m     26\u001b[0m \u001b[38;5;66;03m############# Classify #############\u001b[39;00m\n\u001b[1;32m     27\u001b[0m \u001b[38;5;66;03m# Classify the light curve\u001b[39;00m\n",
      "File \u001b[0;32m~/miniconda3/lib/python3.11/site-packages/upsilon/extract_features/extract_features.py:83\u001b[0m, in \u001b[0;36mExtractFeatures.run\u001b[0;34m(self)\u001b[0m\n\u001b[1;32m     79\u001b[0m \u001b[38;5;250m\u001b[39m\u001b[38;5;124;03m\"\"\"Run feature extraction modules.\"\"\"\u001b[39;00m\n\u001b[1;32m     81\u001b[0m \u001b[38;5;66;03m# shallow_run must be executed prior to deep_run\u001b[39;00m\n\u001b[1;32m     82\u001b[0m \u001b[38;5;66;03m# since shallow_run calculates several values needed for deep_run.\u001b[39;00m\n\u001b[0;32m---> 83\u001b[0m \u001b[38;5;28mself\u001b[39m\u001b[38;5;241m.\u001b[39mshallow_run()\n\u001b[1;32m     84\u001b[0m \u001b[38;5;28mself\u001b[39m\u001b[38;5;241m.\u001b[39mdeep_run()\n",
      "File \u001b[0;32m~/miniconda3/lib/python3.11/site-packages/upsilon/extract_features/extract_features.py:117\u001b[0m, in \u001b[0;36mExtractFeatures.shallow_run\u001b[0;34m(self)\u001b[0m\n\u001b[1;32m    114\u001b[0m \u001b[38;5;28mself\u001b[39m\u001b[38;5;241m.\u001b[39mkurtosis \u001b[38;5;241m=\u001b[39m ss\u001b[38;5;241m.\u001b[39mkurtosis(\u001b[38;5;28mself\u001b[39m\u001b[38;5;241m.\u001b[39mmag)\n\u001b[1;32m    116\u001b[0m \u001b[38;5;66;03m# Normalization-test. Shapiro-Wilk test.\u001b[39;00m\n\u001b[0;32m--> 117\u001b[0m shapiro \u001b[38;5;241m=\u001b[39m ss\u001b[38;5;241m.\u001b[39mshapiro(\u001b[38;5;28mself\u001b[39m\u001b[38;5;241m.\u001b[39mmag)\n\u001b[1;32m    118\u001b[0m \u001b[38;5;28mself\u001b[39m\u001b[38;5;241m.\u001b[39mshapiro_w \u001b[38;5;241m=\u001b[39m shapiro[\u001b[38;5;241m0\u001b[39m]\n\u001b[1;32m    119\u001b[0m \u001b[38;5;66;03m# self.shapiro_log10p = np.log10(shapiro[1])\u001b[39;00m\n\u001b[1;32m    120\u001b[0m \n\u001b[1;32m    121\u001b[0m \u001b[38;5;66;03m# Percentile features.\u001b[39;00m\n",
      "File \u001b[0;32m~/miniconda3/lib/python3.11/site-packages/scipy/stats/_morestats.py:1869\u001b[0m, in \u001b[0;36mshapiro\u001b[0;34m(x)\u001b[0m\n\u001b[1;32m   1867\u001b[0m N \u001b[38;5;241m=\u001b[39m \u001b[38;5;28mlen\u001b[39m(x)\n\u001b[1;32m   1868\u001b[0m \u001b[38;5;28;01mif\u001b[39;00m N \u001b[38;5;241m<\u001b[39m \u001b[38;5;241m3\u001b[39m:\n\u001b[0;32m-> 1869\u001b[0m     \u001b[38;5;28;01mraise\u001b[39;00m \u001b[38;5;167;01mValueError\u001b[39;00m(\u001b[38;5;124m\"\u001b[39m\u001b[38;5;124mData must be at least length 3.\u001b[39m\u001b[38;5;124m\"\u001b[39m)\n\u001b[1;32m   1871\u001b[0m x \u001b[38;5;241m=\u001b[39m x \u001b[38;5;241m-\u001b[39m np\u001b[38;5;241m.\u001b[39mmedian(x)\n\u001b[1;32m   1873\u001b[0m a \u001b[38;5;241m=\u001b[39m zeros(N, \u001b[38;5;124m'\u001b[39m\u001b[38;5;124mf\u001b[39m\u001b[38;5;124m'\u001b[39m)\n",
      "\u001b[0;31mValueError\u001b[0m: Data must be at least length 3."
     ]
    }
   ],
   "source": [
    "num_iterations = 1\n",
    "empty_list = []\n",
    "for i in range(6686, 10000):\n",
    "\n",
    "    try:\n",
    "        search = client.cone_search(ra_deg = final_table[\"RA\"][i], dec_deg = final_table[\"Dec\"][i], radius=0.0003, catalog='aavsovsx', download=True)\n",
    "    except:\n",
    "        print(\"\\n ################################################## error in index\", i, \"\\n\")\n",
    "        continue\n",
    "\n",
    "    savecsv = search.save(save_dir = folder_path, file_format=\"csv\")[1]\n",
    "    empty_list.append(savecsv)\n",
    "\n",
    "    new_file = pd.read_csv(savecsv, skiprows=1)\n",
    "\n",
    "    g_filter = new_file[new_file['phot_filter'] == 'g']\n",
    "    quality = g_filter[g_filter['quality'] == 'G']\n",
    "    web_format = quality[[\"jd\", \"mag\", \"mag_err\"]]\n",
    "    web_format.to_csv(savecsv.replace(\".csv\", \".txt\"), sep='\\t', index=False, header = False)\n",
    "\n",
    "    classification_model(savecsv.replace(\".csv\", \".txt\"), final_table[\"RA\"][i], final_table[\"Dec\"][i], final_table[\"Magnitude\"][i], final_table[\"Other Info\"][i], new_file[\"asas_sn_id\"][0])"
   ]
  },
  {
   "cell_type": "code",
   "execution_count": null,
   "metadata": {},
   "outputs": [],
   "source": []
  }
 ],
 "metadata": {
  "kernelspec": {
   "display_name": "base",
   "language": "python",
   "name": "python3"
  },
  "language_info": {
   "codemirror_mode": {
    "name": "ipython",
    "version": 3
   },
   "file_extension": ".py",
   "mimetype": "text/x-python",
   "name": "python",
   "nbconvert_exporter": "python",
   "pygments_lexer": "ipython3",
   "version": "3.11.7"
  }
 },
 "nbformat": 4,
 "nbformat_minor": 2
}
