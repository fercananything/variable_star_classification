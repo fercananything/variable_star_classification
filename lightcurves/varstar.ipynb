{
 "cells": [
  {
   "cell_type": "markdown",
   "metadata": {},
   "source": [
    "### **imports**"
   ]
  },
  {
   "cell_type": "code",
   "execution_count": 27,
   "metadata": {},
   "outputs": [],
   "source": [
    "import pandas as pd\n",
    "import numpy as np\n",
    "from astropy.io import ascii\n",
    "from astropy.table import QTable, Table, Column\n",
    "from astropy import units as u\n",
    "import string\n",
    "import upsilon"
   ]
  },
  {
   "cell_type": "markdown",
   "metadata": {},
   "source": [
    "### **making a table of all of the stars in the txt file**"
   ]
  },
  {
   "cell_type": "code",
   "execution_count": 2,
   "metadata": {},
   "outputs": [],
   "source": [
    "column1 = []\n",
    "column2 = []\n",
    "column3 = []\n",
    "column4 = []\n",
    "\n",
    "with open('rrlyr_vsx_clean.txt', 'r') as file:\n",
    "    for line in file:\n",
    "        empty = []\n",
    "        components = line.split(' ', 3)\n",
    "    \n",
    "        column1.append(components[0])\n",
    "        column2.append(float(components[1]))\n",
    "        column3.append(float(components[2]))\n",
    "        column4.append(components[3].strip())\n",
    "\n",
    "# column2 = column2 * u.deg\n",
    "# column3 = column3 * u.deg\n",
    "\n",
    "final_table = QTable([column1, column2, column3, column4], names = (\"Star Type\", \"RA\", \"Dec\", \"Other Info\"))"
   ]
  },
  {
   "cell_type": "code",
   "execution_count": 3,
   "metadata": {},
   "outputs": [
    {
     "data": {
      "text/html": [
       "<div><i>QTable length=145154</i>\n",
       "<table id=\"table6039971024\" class=\"table-striped table-bordered table-condensed\">\n",
       "<thead><tr><th>Star Type</th><th>RA</th><th>Dec</th><th>Other Info</th></tr></thead>\n",
       "<thead><tr><th>str24</th><th>float64</th><th>float64</th><th>str30</th></tr></thead>\n",
       "<tr><td>RRAB</td><td>0.01307</td><td>-2.43007</td><td>PS1-3PI J000003.12-022548.2</td></tr>\n",
       "<tr><td>RRAB</td><td>0.01521</td><td>35.36286</td><td>GM And</td></tr>\n",
       "<tr><td>RRAB</td><td>0.01669</td><td>18.40698</td><td>CSS_J000004.0+182425</td></tr>\n",
       "<tr><td>RRAB</td><td>0.02771</td><td>56.65331</td><td>V1023 Cas</td></tr>\n",
       "<tr><td>RRAB</td><td>0.03171</td><td>34.67397</td><td>SERIV 27</td></tr>\n",
       "<tr><td>RRAB</td><td>0.03901</td><td>5.58986</td><td>CSS_J000009.3+053523</td></tr>\n",
       "<tr><td>RRAB</td><td>0.04274</td><td>-2.51629</td><td>PS1-3PI J000010.25-023058.6</td></tr>\n",
       "<tr><td>RRAB</td><td>0.04331</td><td>-21.92086</td><td>CSS 120828:000010-215515</td></tr>\n",
       "<tr><td>RRAB</td><td>0.04782</td><td>62.71524</td><td>Gaia DR2 430046902041301376</td></tr>\n",
       "<tr><td>RRAB</td><td>0.06821</td><td>-72.77875</td><td>BP Tuc</td></tr>\n",
       "<tr><td>...</td><td>...</td><td>...</td><td>...</td></tr>\n",
       "<tr><td>RRC</td><td>359.93862</td><td>-28.19131</td><td>SSS_J235945.0-281126</td></tr>\n",
       "<tr><td>RRAB</td><td>359.942</td><td>46.45651</td><td>PS1-3PI J235946.07+462723.4</td></tr>\n",
       "<tr><td>RRAB</td><td>359.94269</td><td>-60.26738</td><td>ASASSN-V J235946.37-601602.6</td></tr>\n",
       "<tr><td>RRC</td><td>359.94528</td><td>37.18602</td><td>CSS_J235946.8+371110</td></tr>\n",
       "<tr><td>RRAB</td><td>359.95981</td><td>-18.15708</td><td>PS1-3PI J235950.34-180925.4</td></tr>\n",
       "<tr><td>RRC</td><td>359.96926</td><td>-7.01093</td><td>PS1-3PI J235952.62-070039.3</td></tr>\n",
       "<tr><td>RRAB</td><td>359.97391</td><td>17.33493</td><td>PS1-3PI J235953.72+172005.7</td></tr>\n",
       "<tr><td>RRAB</td><td>359.97879</td><td>-24.95662</td><td>PS1-3PI J235954.90-245723.8</td></tr>\n",
       "<tr><td>RRC</td><td>359.99107</td><td>-7.45278</td><td>PS1-3PI J235957.85-072710.0</td></tr>\n",
       "<tr><td>RRC</td><td>359.99135</td><td>40.38302</td><td>PS1-3PI J235957.93+402258.8</td></tr>\n",
       "</table></div>"
      ],
      "text/plain": [
       "<QTable length=145154>\n",
       "Star Type     RA       Dec             Other Info         \n",
       "  str24    float64   float64             str30            \n",
       "--------- --------- --------- ----------------------------\n",
       "     RRAB   0.01307  -2.43007  PS1-3PI J000003.12-022548.2\n",
       "     RRAB   0.01521  35.36286                       GM And\n",
       "     RRAB   0.01669  18.40698         CSS_J000004.0+182425\n",
       "     RRAB   0.02771  56.65331                    V1023 Cas\n",
       "     RRAB   0.03171  34.67397                     SERIV 27\n",
       "     RRAB   0.03901   5.58986         CSS_J000009.3+053523\n",
       "     RRAB   0.04274  -2.51629  PS1-3PI J000010.25-023058.6\n",
       "     RRAB   0.04331 -21.92086     CSS 120828:000010-215515\n",
       "     RRAB   0.04782  62.71524  Gaia DR2 430046902041301376\n",
       "     RRAB   0.06821 -72.77875                       BP Tuc\n",
       "      ...       ...       ...                          ...\n",
       "      RRC 359.93862 -28.19131         SSS_J235945.0-281126\n",
       "     RRAB   359.942  46.45651  PS1-3PI J235946.07+462723.4\n",
       "     RRAB 359.94269 -60.26738 ASASSN-V J235946.37-601602.6\n",
       "      RRC 359.94528  37.18602         CSS_J235946.8+371110\n",
       "     RRAB 359.95981 -18.15708  PS1-3PI J235950.34-180925.4\n",
       "      RRC 359.96926  -7.01093  PS1-3PI J235952.62-070039.3\n",
       "     RRAB 359.97391  17.33493  PS1-3PI J235953.72+172005.7\n",
       "     RRAB 359.97879 -24.95662  PS1-3PI J235954.90-245723.8\n",
       "      RRC 359.99107  -7.45278  PS1-3PI J235957.85-072710.0\n",
       "      RRC 359.99135  40.38302  PS1-3PI J235957.93+402258.8"
      ]
     },
     "execution_count": 3,
     "metadata": {},
     "output_type": "execute_result"
    }
   ],
   "source": [
    "final_table"
   ]
  },
  {
   "cell_type": "markdown",
   "metadata": {},
   "source": [
    "### **importing the asassn client**"
   ]
  },
  {
   "cell_type": "code",
   "execution_count": 10,
   "metadata": {},
   "outputs": [
    {
     "name": "stdout",
     "output_type": "stream",
     "text": [
      "Welcome to ASAS-SN Skypatrol!\n",
      "\n",
      "Current Deployment Version: 0.6.17 (26 JAN 2024)\n",
      "Please upgrade your client if not up to date.\n",
      "\n"
     ]
    }
   ],
   "source": [
    "from pyasassn.client import SkyPatrolClient\t\n",
    "client = SkyPatrolClient()"
   ]
  },
  {
   "cell_type": "markdown",
   "metadata": {},
   "source": [
    "### **downloading a csv file with the data from the star at a specified index**"
   ]
  },
  {
   "cell_type": "code",
   "execution_count": 20,
   "metadata": {},
   "outputs": [],
   "source": [
    "folder_path = \"/Users/zoesurles/Desktop/variable_star_classification/downloaded_lightcurves/\""
   ]
  },
  {
   "cell_type": "code",
   "execution_count": 39,
   "metadata": {},
   "outputs": [],
   "source": [
    "def classification_model(path, ra, dec, vsx_id, asassn_id):\n",
    "  # Load a classification model.\n",
    "  # (takes time, do only once if processing multiple lcs)\n",
    "  rf_model = upsilon.load_rf_model()\n",
    "\n",
    "\n",
    "  ############# Read input lc data #############\n",
    "  # Read the input lightcurve file\n",
    "  f = open(path, 'r')\n",
    "  data = np.loadtxt(f, dtype={'names': ('JD', 'mag', 'err'),'formats': ('float64', 'float64', 'float64')})\n",
    "  f.close()\n",
    "\n",
    "  # Split it into three arrays\n",
    "  date=data['JD']\n",
    "  mag=data['mag']\n",
    "  err=data['err']\n",
    "\n",
    "  # Sigma-clip the input lightcurve\n",
    "  date, mag, err = upsilon.utils.sigma_clipping(date, mag, err,  threshold=3, iteration=1)\n",
    "\n",
    "  ############# Extract lightcurve features #############\n",
    "  e_features = upsilon.ExtractFeatures(date, mag, err)\n",
    "  e_features.run()\n",
    "  features = e_features.get_features()\n",
    "\n",
    "  ############# Classify #############\n",
    "  # Classify the light curve\n",
    "  label, probability, flag = upsilon.predict(rf_model, features)\n",
    "\n",
    "  # Print results\n",
    "\n",
    "  output_file = open(path.replace('.txt', '_classification.txt'), 'w')\n",
    "  output_file.write(\"\\n\\n######### Classification results #########\\n\")\n",
    "  output_file.write(\"flag = \" + str(flag) + \" (0 - classification success, 1 - suspicious period)\\n\")\n",
    "  output_file.write(\"class = \" + str(label) + \"\\n\")\n",
    "  output_file.write(\"class_probability = \" + str(probability) + \"\\n\")\n",
    "  output_file.write(\"position = \" + str(ra) + \" \" + str(dec) + \"\\n\")\n",
    "  output_file.write(\"vsx_id = \" + str(vsx_id) + \"\\n\")\n",
    "  output_file.write(\"asassn_id = \" + str(asassn_id) + \"\\n\")\n",
    "  output_file.close()\n",
    "\n",
    "  print(\"\\n\\n######### Classification results #########\\n\")\n",
    "  print(\"flag = \" + str(flag) + \" (0 - classification success, 1 - suspicious period)\")\n",
    "  print(\"class = \" + str(label) )\n",
    "  print(\"class_probability = \" + str(probability) )\n",
    "  print(\"\\n\\n######### Lightcurve features #########\\n\")\n",
    "\n",
    "  for feature in features:\n",
    "    print( str(feature) + \" = \" + str(features[feature]) )\n",
    "  #  print feature,\" = \",features[feature]"
   ]
  },
  {
   "cell_type": "code",
   "execution_count": 41,
   "metadata": {},
   "outputs": [
    {
     "name": "stdout",
     "output_type": "stream",
     "text": [
      "Downloading Curves...\n",
      "Pulled 1 of 1\n"
     ]
    },
    {
     "name": "stderr",
     "output_type": "stream",
     "text": [
      "/Users/zoesurles/miniconda3/lib/python3.11/site-packages/sklearn/base.py:318: UserWarning: Trying to unpickle estimator DecisionTreeClassifier from version 0.24.1 when using version 1.2.2. This might lead to breaking code or invalid results. Use at your own risk. For more info please refer to:\n",
      "https://scikit-learn.org/stable/model_persistence.html#security-maintainability-limitations\n",
      "  warnings.warn(\n",
      "/Users/zoesurles/miniconda3/lib/python3.11/site-packages/sklearn/base.py:318: UserWarning: Trying to unpickle estimator RandomForestClassifier from version 0.24.1 when using version 1.2.2. This might lead to breaking code or invalid results. Use at your own risk. For more info please refer to:\n",
      "https://scikit-learn.org/stable/model_persistence.html#security-maintainability-limitations\n",
      "  warnings.warn(\n"
     ]
    },
    {
     "name": "stdout",
     "output_type": "stream",
     "text": [
      "\n",
      "\n",
      "######### Classification results #########\n",
      "\n",
      "flag = 0 (0 - classification success, 1 - suspicious period)\n",
      "class = RRL_ab\n",
      "class_probability = 0.88\n",
      "\n",
      "\n",
      "######### Lightcurve features #########\n",
      "\n",
      "amplitude = 0.33576400320037264\n",
      "cusum = 0.13057498116667463\n",
      "eta = 1.8372295759321078\n",
      "hl_amp_ratio = 0.7415104682932441\n",
      "kurtosis = -0.5529804139751473\n",
      "n_points = 896\n",
      "period = 0.4936273709306785\n",
      "period_SNR = 106.25647083917974\n",
      "period_log10FAP = -47.92730871672018\n",
      "period_uncertainty = 0.00010553607329547021\n",
      "phase_cusum = 0.2202706923195133\n",
      "phase_eta = 1.4730283715912005\n",
      "phi21 = 0.2547161606071446\n",
      "phi31 = 1.2291766835529498\n",
      "quartile31 = 0.731348768429612\n",
      "r21 = 0.43460568255198984\n",
      "r31 = 0.2713391933460415\n",
      "shapiro_w = 0.9767159223556519\n",
      "skewness = -0.38398688043539236\n",
      "slope_per10 = -0.008432668821191371\n",
      "slope_per90 = 0.007441519285166582\n",
      "stetson_k = 0.6638592376996094\n",
      "weighted_mean = 17.29078943759845\n",
      "weighted_std = 0.4382569858916419\n",
      "Downloading Curves...\n",
      "Pulled 1 of 1\n"
     ]
    },
    {
     "name": "stderr",
     "output_type": "stream",
     "text": [
      "/Users/zoesurles/miniconda3/lib/python3.11/site-packages/sklearn/base.py:318: UserWarning: Trying to unpickle estimator DecisionTreeClassifier from version 0.24.1 when using version 1.2.2. This might lead to breaking code or invalid results. Use at your own risk. For more info please refer to:\n",
      "https://scikit-learn.org/stable/model_persistence.html#security-maintainability-limitations\n",
      "  warnings.warn(\n",
      "/Users/zoesurles/miniconda3/lib/python3.11/site-packages/sklearn/base.py:318: UserWarning: Trying to unpickle estimator RandomForestClassifier from version 0.24.1 when using version 1.2.2. This might lead to breaking code or invalid results. Use at your own risk. For more info please refer to:\n",
      "https://scikit-learn.org/stable/model_persistence.html#security-maintainability-limitations\n",
      "  warnings.warn(\n"
     ]
    },
    {
     "name": "stdout",
     "output_type": "stream",
     "text": [
      "\n",
      "\n",
      "######### Classification results #########\n",
      "\n",
      "flag = 0 (0 - classification success, 1 - suspicious period)\n",
      "class = RRL_ab\n",
      "class_probability = 0.97\n",
      "\n",
      "\n",
      "######### Lightcurve features #########\n",
      "\n",
      "amplitude = 0.3432799329059622\n",
      "cusum = 0.1452776746557756\n",
      "eta = 2.5032121771222386\n",
      "hl_amp_ratio = 0.3752540817315546\n",
      "kurtosis = -0.8239731458557591\n",
      "n_points = 548\n",
      "period = 0.7067830026597548\n",
      "period_SNR = 136.323076028037\n",
      "period_log10FAP = -79.52952372617999\n",
      "period_uncertainty = 0.00025304222789990227\n",
      "phase_cusum = 0.3270529745835165\n",
      "phase_eta = 0.3073737948909103\n",
      "phi21 = 0.7616105986457724\n",
      "phi31 = 4.672091901915031\n",
      "quartile31 = 0.5005662300894382\n",
      "r21 = 0.36856251711608334\n",
      "r31 = 0.2740004452797228\n",
      "shapiro_w = 0.8901732563972473\n",
      "skewness = -0.6636568203032644\n",
      "slope_per10 = -0.08311948503485267\n",
      "slope_per90 = 0.12945126232614182\n",
      "stetson_k = 0.7491324538122004\n",
      "weighted_mean = 13.092348996917007\n",
      "weighted_std = 0.28710942582204807\n",
      "Downloading Curves...\n",
      "Pulled 1 of 1\n"
     ]
    },
    {
     "name": "stderr",
     "output_type": "stream",
     "text": [
      "/Users/zoesurles/miniconda3/lib/python3.11/site-packages/sklearn/base.py:318: UserWarning: Trying to unpickle estimator DecisionTreeClassifier from version 0.24.1 when using version 1.2.2. This might lead to breaking code or invalid results. Use at your own risk. For more info please refer to:\n",
      "https://scikit-learn.org/stable/model_persistence.html#security-maintainability-limitations\n",
      "  warnings.warn(\n",
      "/Users/zoesurles/miniconda3/lib/python3.11/site-packages/sklearn/base.py:318: UserWarning: Trying to unpickle estimator RandomForestClassifier from version 0.24.1 when using version 1.2.2. This might lead to breaking code or invalid results. Use at your own risk. For more info please refer to:\n",
      "https://scikit-learn.org/stable/model_persistence.html#security-maintainability-limitations\n",
      "  warnings.warn(\n"
     ]
    },
    {
     "name": "stdout",
     "output_type": "stream",
     "text": [
      "\n",
      "\n",
      "######### Classification results #########\n",
      "\n",
      "flag = 0 (0 - classification success, 1 - suspicious period)\n",
      "class = RRL_ab\n",
      "class_probability = 1.0\n",
      "\n",
      "\n",
      "######### Lightcurve features #########\n",
      "\n",
      "amplitude = 0.1232423590727151\n",
      "cusum = 0.07297790512002132\n",
      "eta = 1.950067932686292\n",
      "hl_amp_ratio = 0.528598428925746\n",
      "kurtosis = -0.15884420656422904\n",
      "n_points = 714\n",
      "period = 0.4850785323756956\n",
      "period_SNR = 156.13226520718797\n",
      "period_log10FAP = -81.11474893593616\n",
      "period_uncertainty = 0.00010147379267899659\n",
      "phase_cusum = 0.21635598963561906\n",
      "phase_eta = 0.8528476553749813\n",
      "phi21 = -2.5746686059722883\n",
      "phi31 = -1.8861333979157895\n",
      "quartile31 = 0.1559388913663824\n",
      "r21 = 0.36476704576255525\n",
      "r31 = 0.14180897051166658\n",
      "shapiro_w = 0.9504188895225525\n",
      "skewness = -0.7122921248506956\n",
      "slope_per10 = -0.05250410427320134\n",
      "slope_per90 = 0.05578336530605501\n",
      "stetson_k = 0.7341563301505658\n",
      "weighted_mean = 13.921673855963016\n",
      "weighted_std = 0.1110267747987192\n",
      "Downloading Curves...\n",
      "Pulled 1 of 1\n"
     ]
    },
    {
     "name": "stderr",
     "output_type": "stream",
     "text": [
      "/Users/zoesurles/miniconda3/lib/python3.11/site-packages/sklearn/base.py:318: UserWarning: Trying to unpickle estimator DecisionTreeClassifier from version 0.24.1 when using version 1.2.2. This might lead to breaking code or invalid results. Use at your own risk. For more info please refer to:\n",
      "https://scikit-learn.org/stable/model_persistence.html#security-maintainability-limitations\n",
      "  warnings.warn(\n",
      "/Users/zoesurles/miniconda3/lib/python3.11/site-packages/sklearn/base.py:318: UserWarning: Trying to unpickle estimator RandomForestClassifier from version 0.24.1 when using version 1.2.2. This might lead to breaking code or invalid results. Use at your own risk. For more info please refer to:\n",
      "https://scikit-learn.org/stable/model_persistence.html#security-maintainability-limitations\n",
      "  warnings.warn(\n"
     ]
    },
    {
     "name": "stdout",
     "output_type": "stream",
     "text": [
      "\n",
      "\n",
      "######### Classification results #########\n",
      "\n",
      "flag = 1 (0 - classification success, 1 - suspicious period)\n",
      "class = EB_ESD\n",
      "class_probability = 0.31\n",
      "\n",
      "\n",
      "######### Lightcurve features #########\n",
      "\n",
      "amplitude = 0.0601404883964961\n",
      "cusum = 0.37323090609784637\n",
      "eta = 1.0055800906390062\n",
      "hl_amp_ratio = 0.6194317122533876\n",
      "kurtosis = 0.09621984998459254\n",
      "n_points = 453\n",
      "period = 0.9997052328546377\n",
      "period_SNR = 69.33980963044654\n",
      "period_log10FAP = -28.93092743668683\n",
      "period_uncertainty = 0.0005705151224009719\n",
      "phase_cusum = 0.21278000820042667\n",
      "phase_eta = 1.4281972905939377\n",
      "phi21 = -3.558202959582374\n",
      "phi31 = -4.577157850963905\n",
      "quartile31 = 0.08298446379010471\n",
      "r21 = 0.3182324743746061\n",
      "r31 = 0.08538793151690534\n",
      "shapiro_w = 0.9841779470443726\n",
      "skewness = -0.36802234080393875\n",
      "slope_per10 = -0.30710423050666635\n",
      "slope_per90 = 0.2943987099835373\n",
      "stetson_k = 0.724940070331493\n",
      "weighted_mean = 14.878064779943065\n",
      "weighted_std = 0.05833948138669103\n",
      "Downloading Curves...\n",
      "Pulled 1 of 1\n"
     ]
    },
    {
     "name": "stderr",
     "output_type": "stream",
     "text": [
      "/Users/zoesurles/miniconda3/lib/python3.11/site-packages/sklearn/base.py:318: UserWarning: Trying to unpickle estimator DecisionTreeClassifier from version 0.24.1 when using version 1.2.2. This might lead to breaking code or invalid results. Use at your own risk. For more info please refer to:\n",
      "https://scikit-learn.org/stable/model_persistence.html#security-maintainability-limitations\n",
      "  warnings.warn(\n"
     ]
    },
    {
     "name": "stdout",
     "output_type": "stream",
     "text": [
      "\n",
      "\n",
      "######### Classification results #########\n",
      "\n",
      "flag = 0 (0 - classification success, 1 - suspicious period)\n",
      "class = RRL_ab\n",
      "class_probability = 1.0\n",
      "\n",
      "\n",
      "######### Lightcurve features #########\n",
      "\n",
      "amplitude = 0.47169546291458164\n",
      "cusum = 0.309062937555019\n",
      "eta = 1.8669104190563452\n",
      "hl_amp_ratio = 0.3124018295480004\n",
      "kurtosis = -0.4193325941458528\n",
      "n_points = 543\n",
      "period = 0.46197284192571736\n",
      "period_SNR = 125.8601819428668\n",
      "period_log10FAP = -65.98128593791847\n",
      "period_uncertainty = 9.267258987280536e-05\n",
      "phase_cusum = 0.32929803539105806\n",
      "phase_eta = 0.4682973095720427\n",
      "phi21 = 0.518777939233599\n",
      "phi31 = 1.3643490162560412\n",
      "quartile31 = 0.6198908129808256\n",
      "r21 = 0.42847678584203114\n",
      "r31 = 0.2842978299081692\n",
      "shapiro_w = 0.9052363038063049\n",
      "skewness = -0.8032336837892786\n",
      "slope_per10 = -0.026789237936296863\n",
      "slope_per90 = 0.033965564312094486\n",
      "stetson_k = 0.6232290966226436\n",
      "weighted_mean = 15.890647032534282\n",
      "weighted_std = 0.44133324832001314\n"
     ]
    },
    {
     "name": "stderr",
     "output_type": "stream",
     "text": [
      "/Users/zoesurles/miniconda3/lib/python3.11/site-packages/sklearn/base.py:318: UserWarning: Trying to unpickle estimator RandomForestClassifier from version 0.24.1 when using version 1.2.2. This might lead to breaking code or invalid results. Use at your own risk. For more info please refer to:\n",
      "https://scikit-learn.org/stable/model_persistence.html#security-maintainability-limitations\n",
      "  warnings.warn(\n"
     ]
    }
   ],
   "source": [
    "num_iterations = 5\n",
    "empty_list = []\n",
    "for i in range(num_iterations):\n",
    "    search = client.cone_search(ra_deg = final_table[\"RA\"][i], dec_deg = final_table[\"Dec\"][i], radius=0.0003, catalog='master_list', download=True)\n",
    "\n",
    "    savecsv = search.save(save_dir = folder_path, file_format=\"csv\")[1]\n",
    "    empty_list.append(savecsv)\n",
    "\n",
    "    new_file = pd.read_csv(savecsv, skiprows=1)\n",
    "\n",
    "    g_filter = new_file[new_file['phot_filter'] == 'g']\n",
    "    web_format = g_filter[[\"jd\", \"mag\", \"mag_err\"]]\n",
    "    web_format.to_csv(savecsv.replace(\".csv\", \".txt\"), sep='\\t', index=False, header = False)\n",
    "\n",
    "    classification_model(savecsv.replace(\".csv\", \".txt\"), final_table[\"RA\"][i], final_table[\"Dec\"][i], final_table[\"Other Info\"][i], new_file[\"asas_sn_id\"][0])"
   ]
  },
  {
   "cell_type": "code",
   "execution_count": null,
   "metadata": {},
   "outputs": [],
   "source": []
  }
 ],
 "metadata": {
  "kernelspec": {
   "display_name": "base",
   "language": "python",
   "name": "python3"
  },
  "language_info": {
   "codemirror_mode": {
    "name": "ipython",
    "version": 3
   },
   "file_extension": ".py",
   "mimetype": "text/x-python",
   "name": "python",
   "nbconvert_exporter": "python",
   "pygments_lexer": "ipython3",
   "version": "3.11.7"
  }
 },
 "nbformat": 4,
 "nbformat_minor": 2
}
