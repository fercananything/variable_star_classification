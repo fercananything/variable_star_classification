{
 "cells": [
  {
   "cell_type": "markdown",
   "metadata": {},
   "source": [
    "### **imports**"
   ]
  },
  {
   "cell_type": "code",
   "execution_count": 87,
   "metadata": {},
   "outputs": [],
   "source": [
    "import pandas as pd\n",
    "import numpy as np\n",
    "from astropy.io import ascii\n",
    "from astropy.table import QTable, Table, Column\n",
    "from astropy import units as u\n",
    "import string\n",
    "import os\n",
    "import upsilon"
   ]
  },
  {
   "cell_type": "markdown",
   "metadata": {},
   "source": [
    "### **making a table of all of the stars in the txt file**"
   ]
  },
  {
   "cell_type": "code",
   "execution_count": 88,
   "metadata": {},
   "outputs": [],
   "source": [
    "column1 = []\n",
    "column2 = []\n",
    "column3 = []\n",
    "column4 = []\n",
    "column5 = []\n",
    "\n",
    "with open('rrlyr_vsx_clean2.txt', 'r') as file:\n",
    "    for line in file:\n",
    "        components = line.split(' ', 4)\n",
    "    \n",
    "        try:\n",
    "            magnitude = float(components[3])  # Try to convert the 4th component to float\n",
    "        except ValueError:\n",
    "            continue\n",
    "\n",
    "        if magnitude < 15.5:\n",
    "            column1.append(components[0])\n",
    "            column2.append(float(components[1]))\n",
    "            column3.append(float(components[2]))\n",
    "            column4.append(magnitude)\n",
    "            column5.append(components[4].strip())\n",
    "\n",
    "final_table = QTable([column1, column2, column3, column4, column5], names = (\"Star Type\", \"RA\", \"Dec\", \"Magnitude\", \"Other Info\"))"
   ]
  },
  {
   "cell_type": "code",
   "execution_count": 89,
   "metadata": {},
   "outputs": [
    {
     "data": {
      "text/html": [
       "<div><i>QTable length=29417</i>\n",
       "<table id=\"table5640572688\" class=\"table-striped table-bordered table-condensed\">\n",
       "<thead><tr><th>Star Type</th><th>RA</th><th>Dec</th><th>Magnitude</th><th>Other Info</th></tr></thead>\n",
       "<thead><tr><th>str24</th><th>float64</th><th>float64</th><th>float64</th><th>str29</th></tr></thead>\n",
       "<tr><td>RRAB</td><td>0.01521</td><td>35.36286</td><td>12.43</td><td>GM And</td></tr>\n",
       "<tr><td>RRAB</td><td>0.01669</td><td>18.40698</td><td>15.171</td><td>CSS_J000004.0+182425</td></tr>\n",
       "<tr><td>RRAB</td><td>0.03171</td><td>34.67397</td><td>14.95</td><td>SERIV 27</td></tr>\n",
       "<tr><td>RRAB</td><td>0.06821</td><td>-72.77875</td><td>15.1</td><td>BP Tuc</td></tr>\n",
       "<tr><td>RRAB</td><td>0.099</td><td>36.3287</td><td>14.46</td><td>NSVS 6313844</td></tr>\n",
       "<tr><td>RRAB</td><td>0.1338</td><td>22.99388</td><td>14.671</td><td>CSS_J000032.1+225937</td></tr>\n",
       "<tr><td>RRAB</td><td>0.13423</td><td>-54.29512</td><td>15.26</td><td>ASASSN-V J000032.21-541742.4</td></tr>\n",
       "<tr><td>RRAB</td><td>0.14829</td><td>26.66375</td><td>12.96</td><td>GV Peg</td></tr>\n",
       "<tr><td>RRC</td><td>0.15377</td><td>-60.98439</td><td>15.18</td><td>ASASSN-V J000036.92-605903.9</td></tr>\n",
       "<tr><td>RRC</td><td>0.18471</td><td>37.84283</td><td>13.1</td><td>ROTSE1 J000044.33 +375034.2</td></tr>\n",
       "<tr><td>...</td><td>...</td><td>...</td><td>...</td><td>...</td></tr>\n",
       "<tr><td>RRAB/BL:</td><td>359.67567</td><td>41.48881</td><td>12.73</td><td>DY And</td></tr>\n",
       "<tr><td>RRC</td><td>359.73579</td><td>-44.67078</td><td>14.3</td><td>DV Phe</td></tr>\n",
       "<tr><td>RRC</td><td>359.77146</td><td>54.01686</td><td>14.2</td><td>QY Cas</td></tr>\n",
       "<tr><td>RRC</td><td>359.80239</td><td>53.94432</td><td>14.97</td><td>PS1-3PI J235912.57+535639.5</td></tr>\n",
       "<tr><td>RRAB</td><td>359.90512</td><td>-72.08878</td><td>15.29</td><td>ASASSN-V J235937.21-720519.4</td></tr>\n",
       "<tr><td>RRC</td><td>359.93546</td><td>17.65683</td><td>13.66</td><td>ASAS J235945+1739.5</td></tr>\n",
       "<tr><td>RRC</td><td>359.93652</td><td>-11.75557</td><td>14.42</td><td>ASASSN-V J235944.77-114520.0</td></tr>\n",
       "<tr><td>RRC</td><td>359.93862</td><td>-28.19131</td><td>14.93</td><td>SSS_J235945.0-281126</td></tr>\n",
       "<tr><td>RRAB</td><td>359.94269</td><td>-60.26738</td><td>15.02</td><td>ASASSN-V J235946.37-601602.6</td></tr>\n",
       "<tr><td>RRC</td><td>359.94528</td><td>37.18602</td><td>15.215</td><td>CSS_J235946.8+371110</td></tr>\n",
       "</table></div>"
      ],
      "text/plain": [
       "<QTable length=29417>\n",
       "Star Type     RA       Dec    Magnitude          Other Info         \n",
       "  str24    float64   float64   float64             str29            \n",
       "--------- --------- --------- --------- ----------------------------\n",
       "     RRAB   0.01521  35.36286     12.43                       GM And\n",
       "     RRAB   0.01669  18.40698    15.171         CSS_J000004.0+182425\n",
       "     RRAB   0.03171  34.67397     14.95                     SERIV 27\n",
       "     RRAB   0.06821 -72.77875      15.1                       BP Tuc\n",
       "     RRAB     0.099   36.3287     14.46                 NSVS 6313844\n",
       "     RRAB    0.1338  22.99388    14.671         CSS_J000032.1+225937\n",
       "     RRAB   0.13423 -54.29512     15.26 ASASSN-V J000032.21-541742.4\n",
       "     RRAB   0.14829  26.66375     12.96                       GV Peg\n",
       "      RRC   0.15377 -60.98439     15.18 ASASSN-V J000036.92-605903.9\n",
       "      RRC   0.18471  37.84283      13.1  ROTSE1 J000044.33 +375034.2\n",
       "      ...       ...       ...       ...                          ...\n",
       " RRAB/BL: 359.67567  41.48881     12.73                       DY And\n",
       "      RRC 359.73579 -44.67078      14.3                       DV Phe\n",
       "      RRC 359.77146  54.01686      14.2                       QY Cas\n",
       "      RRC 359.80239  53.94432     14.97  PS1-3PI J235912.57+535639.5\n",
       "     RRAB 359.90512 -72.08878     15.29 ASASSN-V J235937.21-720519.4\n",
       "      RRC 359.93546  17.65683     13.66          ASAS J235945+1739.5\n",
       "      RRC 359.93652 -11.75557     14.42 ASASSN-V J235944.77-114520.0\n",
       "      RRC 359.93862 -28.19131     14.93         SSS_J235945.0-281126\n",
       "     RRAB 359.94269 -60.26738     15.02 ASASSN-V J235946.37-601602.6\n",
       "      RRC 359.94528  37.18602    15.215         CSS_J235946.8+371110"
      ]
     },
     "execution_count": 89,
     "metadata": {},
     "output_type": "execute_result"
    }
   ],
   "source": [
    "final_table"
   ]
  },
  {
   "cell_type": "markdown",
   "metadata": {},
   "source": [
    "### **importing the asassn client**"
   ]
  },
  {
   "cell_type": "code",
   "execution_count": 90,
   "metadata": {},
   "outputs": [
    {
     "name": "stdout",
     "output_type": "stream",
     "text": [
      "Welcome to ASAS-SN Skypatrol!\n",
      "\n",
      "Current Deployment Version: 0.6.17 (26 JAN 2024)\n",
      "Please upgrade your client if not up to date.\n",
      "\n"
     ]
    }
   ],
   "source": [
    "from pyasassn.client import SkyPatrolClient\t\n",
    "client = SkyPatrolClient()"
   ]
  },
  {
   "cell_type": "markdown",
   "metadata": {},
   "source": [
    "### **downloading a csv file with the data from the star at a specified index**"
   ]
  },
  {
   "cell_type": "code",
   "execution_count": 91,
   "metadata": {},
   "outputs": [],
   "source": [
    "def classification_model(path, ra, dec, magnitude1, vsx_id, asassn_id):\n",
    "  # Load a classification model.\n",
    "  # (takes time, do only once if processing multiple lcs)\n",
    "  rf_model = upsilon.load_rf_model()\n",
    "\n",
    "\n",
    "  ############# Read input lc data #############\n",
    "  # Read the input lightcurve file\n",
    "  f = open(path, 'r')\n",
    "  data = np.loadtxt(f, dtype={'names': ('JD', 'mag', 'err'),'formats': ('float64', 'float64', 'float64')})\n",
    "  f.close()\n",
    "\n",
    "  # Split it into three arrays\n",
    "  date=data['JD']\n",
    "  mag=data['mag']\n",
    "  err=data['err']\n",
    "\n",
    "  # Sigma-clip the input lightcurve\n",
    "  date, mag, err = upsilon.utils.sigma_clipping(date, mag, err,  threshold=3, iteration=1)\n",
    "\n",
    "  ############# Extract lightcurve features #############\n",
    "  e_features = upsilon.ExtractFeatures(date, mag, err)\n",
    "  e_features.run()\n",
    "  features = e_features.get_features()\n",
    "\n",
    "  ############# Classify #############\n",
    "  # Classify the light curve\n",
    "  label, probability, flag = upsilon.predict(rf_model, features)\n",
    "\n",
    "  # Print results\n",
    "\n",
    "  output_file = open(path.replace('.txt', '_classification.txt'), 'w')\n",
    "  output_file.write(\"\\n\\n######### Classification results #########\\n\")\n",
    "  output_file.write(\"flag = \" + str(flag) + \" (0 - classification success, 1 - suspicious period)\\n\")\n",
    "  output_file.write(\"class = \" + str(label) + \"\\n\")\n",
    "  output_file.write(\"class_probability = \" + str(probability) + \"\\n\")\n",
    "  output_file.write(\"position = \" + str(ra) + \" \" + str(dec) + \"\\n\")\n",
    "  output_file.write(\"magnitude = \" + str(magnitude1) + \"\\n\")\n",
    "  output_file.write(\"vsx_id = \" + str(vsx_id) + \"\\n\")\n",
    "  output_file.write(\"asassn_id = \" + str(asassn_id) + \"\\n\")\n",
    "  output_file.close()\n",
    "\n",
    "  print(\"\\n\\n######### Classification results #########\\n\")\n",
    "  print(\"flag = \" + str(flag) + \" (0 - classification success, 1 - suspicious period)\")\n",
    "  print(\"class = \" + str(label) )\n",
    "  print(\"class_probability = \" + str(probability) )\n",
    "  print(\"\\n\\n######### Lightcurve features #########\\n\")\n",
    "\n",
    "  for feature in features:\n",
    "    print( str(feature) + \" = \" + str(features[feature]) )\n",
    "  #  print feature,\" = \",features[feature]"
   ]
  },
  {
   "cell_type": "code",
   "execution_count": 92,
   "metadata": {},
   "outputs": [],
   "source": [
    "folder_path_csv = \"/Users/zoesurles/Desktop/variable_star_classification/downloaded_lightcurves/\"\n",
    "folder_path_txt = \"/Users/zoesurles/Desktop/variable_star_classification/downloaded_lightcurves/txtfiles\""
   ]
  },
  {
   "cell_type": "code",
   "execution_count": 93,
   "metadata": {},
   "outputs": [
    {
     "name": "stdout",
     "output_type": "stream",
     "text": [
      "Downloading Curves...\n",
      "Pulled 1 of 1\n"
     ]
    },
    {
     "name": "stderr",
     "output_type": "stream",
     "text": [
      "/Users/zoesurles/miniconda3/lib/python3.11/site-packages/sklearn/base.py:318: UserWarning: Trying to unpickle estimator DecisionTreeClassifier from version 0.24.1 when using version 1.2.2. This might lead to breaking code or invalid results. Use at your own risk. For more info please refer to:\n",
      "https://scikit-learn.org/stable/model_persistence.html#security-maintainability-limitations\n",
      "  warnings.warn(\n",
      "/Users/zoesurles/miniconda3/lib/python3.11/site-packages/sklearn/base.py:318: UserWarning: Trying to unpickle estimator RandomForestClassifier from version 0.24.1 when using version 1.2.2. This might lead to breaking code or invalid results. Use at your own risk. For more info please refer to:\n",
      "https://scikit-learn.org/stable/model_persistence.html#security-maintainability-limitations\n",
      "  warnings.warn(\n"
     ]
    },
    {
     "name": "stdout",
     "output_type": "stream",
     "text": [
      "\n",
      "\n",
      "######### Classification results #########\n",
      "\n",
      "flag = 0 (0 - classification success, 1 - suspicious period)\n",
      "class = RRL_ab\n",
      "class_probability = 0.97\n",
      "\n",
      "\n",
      "######### Lightcurve features #########\n",
      "\n",
      "amplitude = 0.3432799329059622\n",
      "cusum = 0.1452776746557756\n",
      "eta = 2.5032121771222386\n",
      "hl_amp_ratio = 0.3752540817315546\n",
      "kurtosis = -0.8239731458557591\n",
      "n_points = 548\n",
      "period = 0.7067830026597548\n",
      "period_SNR = 136.323076028037\n",
      "period_log10FAP = -79.52952372617999\n",
      "period_uncertainty = 0.00025304222789990227\n",
      "phase_cusum = 0.3270529745835165\n",
      "phase_eta = 0.3073737948909103\n",
      "phi21 = 0.7616105986457724\n",
      "phi31 = 4.672091901915031\n",
      "quartile31 = 0.5005662300894382\n",
      "r21 = 0.36856251711608334\n",
      "r31 = 0.2740004452797228\n",
      "shapiro_w = 0.8901732563972473\n",
      "skewness = -0.6636568203032644\n",
      "slope_per10 = -0.08311948503485267\n",
      "slope_per90 = 0.12945126232614182\n",
      "stetson_k = 0.7491324538122004\n",
      "weighted_mean = 13.092348996917007\n",
      "weighted_std = 0.28710942582204807\n",
      "Downloading Curves...\n",
      "Pulled 1 of 1\n"
     ]
    },
    {
     "name": "stderr",
     "output_type": "stream",
     "text": [
      "/Users/zoesurles/miniconda3/lib/python3.11/site-packages/sklearn/base.py:318: UserWarning: Trying to unpickle estimator DecisionTreeClassifier from version 0.24.1 when using version 1.2.2. This might lead to breaking code or invalid results. Use at your own risk. For more info please refer to:\n",
      "https://scikit-learn.org/stable/model_persistence.html#security-maintainability-limitations\n",
      "  warnings.warn(\n",
      "/Users/zoesurles/miniconda3/lib/python3.11/site-packages/sklearn/base.py:318: UserWarning: Trying to unpickle estimator RandomForestClassifier from version 0.24.1 when using version 1.2.2. This might lead to breaking code or invalid results. Use at your own risk. For more info please refer to:\n",
      "https://scikit-learn.org/stable/model_persistence.html#security-maintainability-limitations\n",
      "  warnings.warn(\n"
     ]
    },
    {
     "name": "stdout",
     "output_type": "stream",
     "text": [
      "\n",
      "\n",
      "######### Classification results #########\n",
      "\n",
      "flag = 0 (0 - classification success, 1 - suspicious period)\n",
      "class = RRL_ab\n",
      "class_probability = 1.0\n",
      "\n",
      "\n",
      "######### Lightcurve features #########\n",
      "\n",
      "amplitude = 0.1232423590727151\n",
      "cusum = 0.07297790512002132\n",
      "eta = 1.950067932686292\n",
      "hl_amp_ratio = 0.528598428925746\n",
      "kurtosis = -0.15884420656422904\n",
      "n_points = 714\n",
      "period = 0.4850785323756956\n",
      "period_SNR = 156.13226520718797\n",
      "period_log10FAP = -81.11474893593616\n",
      "period_uncertainty = 0.00010147379267899659\n",
      "phase_cusum = 0.21635598963561906\n",
      "phase_eta = 0.8528476553749813\n",
      "phi21 = -2.5746686059722883\n",
      "phi31 = -1.8861333979157895\n",
      "quartile31 = 0.1559388913663824\n",
      "r21 = 0.36476704576255525\n",
      "r31 = 0.14180897051166658\n",
      "shapiro_w = 0.9504188895225525\n",
      "skewness = -0.7122921248506956\n",
      "slope_per10 = -0.05250410427320134\n",
      "slope_per90 = 0.05578336530605501\n",
      "stetson_k = 0.7341563301505658\n",
      "weighted_mean = 13.921673855963016\n",
      "weighted_std = 0.1110267747987192\n",
      "Downloading Curves...\n",
      "Pulled 1 of 1\n"
     ]
    },
    {
     "name": "stderr",
     "output_type": "stream",
     "text": [
      "/Users/zoesurles/miniconda3/lib/python3.11/site-packages/sklearn/base.py:318: UserWarning: Trying to unpickle estimator DecisionTreeClassifier from version 0.24.1 when using version 1.2.2. This might lead to breaking code or invalid results. Use at your own risk. For more info please refer to:\n",
      "https://scikit-learn.org/stable/model_persistence.html#security-maintainability-limitations\n",
      "  warnings.warn(\n",
      "/Users/zoesurles/miniconda3/lib/python3.11/site-packages/sklearn/base.py:318: UserWarning: Trying to unpickle estimator RandomForestClassifier from version 0.24.1 when using version 1.2.2. This might lead to breaking code or invalid results. Use at your own risk. For more info please refer to:\n",
      "https://scikit-learn.org/stable/model_persistence.html#security-maintainability-limitations\n",
      "  warnings.warn(\n"
     ]
    },
    {
     "name": "stdout",
     "output_type": "stream",
     "text": [
      "\n",
      "\n",
      "######### Classification results #########\n",
      "\n",
      "flag = 0 (0 - classification success, 1 - suspicious period)\n",
      "class = RRL_ab\n",
      "class_probability = 1.0\n",
      "\n",
      "\n",
      "######### Lightcurve features #########\n",
      "\n",
      "amplitude = 0.47169546291458164\n",
      "cusum = 0.309062937555019\n",
      "eta = 1.8669104190563452\n",
      "hl_amp_ratio = 0.3124018295480004\n",
      "kurtosis = -0.4193325941458528\n",
      "n_points = 543\n",
      "period = 0.46197284192571736\n",
      "period_SNR = 125.8601819428668\n",
      "period_log10FAP = -65.98128593791847\n",
      "period_uncertainty = 9.267258987280536e-05\n",
      "phase_cusum = 0.32929803539105806\n",
      "phase_eta = 0.4682973095720427\n",
      "phi21 = 0.518777939233599\n",
      "phi31 = 1.3643490162560412\n",
      "quartile31 = 0.6198908129808256\n",
      "r21 = 0.42847678584203114\n",
      "r31 = 0.2842978299081692\n",
      "shapiro_w = 0.9052363038063049\n",
      "skewness = -0.8032336837892786\n",
      "slope_per10 = -0.026789237936296863\n",
      "slope_per90 = 0.033965564312094486\n",
      "stetson_k = 0.6232290966226436\n",
      "weighted_mean = 15.890647032534282\n",
      "weighted_std = 0.44133324832001314\n",
      "Downloading Curves...\n",
      "Pulled 1 of 1\n"
     ]
    },
    {
     "name": "stderr",
     "output_type": "stream",
     "text": [
      "/Users/zoesurles/miniconda3/lib/python3.11/site-packages/sklearn/base.py:318: UserWarning: Trying to unpickle estimator DecisionTreeClassifier from version 0.24.1 when using version 1.2.2. This might lead to breaking code or invalid results. Use at your own risk. For more info please refer to:\n",
      "https://scikit-learn.org/stable/model_persistence.html#security-maintainability-limitations\n",
      "  warnings.warn(\n",
      "/Users/zoesurles/miniconda3/lib/python3.11/site-packages/sklearn/base.py:318: UserWarning: Trying to unpickle estimator RandomForestClassifier from version 0.24.1 when using version 1.2.2. This might lead to breaking code or invalid results. Use at your own risk. For more info please refer to:\n",
      "https://scikit-learn.org/stable/model_persistence.html#security-maintainability-limitations\n",
      "  warnings.warn(\n"
     ]
    },
    {
     "name": "stdout",
     "output_type": "stream",
     "text": [
      "\n",
      "\n",
      "######### Classification results #########\n",
      "\n",
      "flag = 0 (0 - classification success, 1 - suspicious period)\n",
      "class = RRL_ab\n",
      "class_probability = 1.0\n",
      "\n",
      "\n",
      "######### Lightcurve features #########\n",
      "\n",
      "amplitude = 0.19424881679051437\n",
      "cusum = 0.10203171570624923\n",
      "eta = 2.1385363382664044\n",
      "hl_amp_ratio = 0.34783602651267503\n",
      "kurtosis = -0.425316126805952\n",
      "n_points = 1345\n",
      "period = 0.5946316313563619\n",
      "period_SNR = 190.3815055463475\n",
      "period_log10FAP = -154.61411390613216\n",
      "period_uncertainty = 0.00012776786800899886\n",
      "phase_cusum = 0.22778930507736841\n",
      "phase_eta = 0.6449250545463119\n",
      "phi21 = 0.6221185914306218\n",
      "phi31 = 1.5312682374527329\n",
      "quartile31 = 0.272544941719552\n",
      "r21 = 0.4554864187272973\n",
      "r31 = 0.21240426867259737\n",
      "shapiro_w = 0.917834460735321\n",
      "skewness = -0.7488185263220661\n",
      "slope_per10 = -0.038623994788294834\n",
      "slope_per90 = 0.03716606990882367\n",
      "stetson_k = 0.690935119329278\n",
      "weighted_mean = 14.789870649314969\n",
      "weighted_std = 0.18273211269978998\n",
      "Downloading Curves...\n",
      "Pulled 1 of 1\n"
     ]
    },
    {
     "name": "stderr",
     "output_type": "stream",
     "text": [
      "/Users/zoesurles/miniconda3/lib/python3.11/site-packages/sklearn/base.py:318: UserWarning: Trying to unpickle estimator DecisionTreeClassifier from version 0.24.1 when using version 1.2.2. This might lead to breaking code or invalid results. Use at your own risk. For more info please refer to:\n",
      "https://scikit-learn.org/stable/model_persistence.html#security-maintainability-limitations\n",
      "  warnings.warn(\n"
     ]
    },
    {
     "name": "stdout",
     "output_type": "stream",
     "text": [
      "\n",
      "\n",
      "######### Classification results #########\n",
      "\n",
      "flag = 0 (0 - classification success, 1 - suspicious period)\n",
      "class = RRL_ab\n",
      "class_probability = 1.0\n",
      "\n",
      "\n",
      "######### Lightcurve features #########\n",
      "\n",
      "amplitude = 0.3004413947793003\n",
      "cusum = 0.1579172765827649\n",
      "eta = 1.9304232673660537\n",
      "hl_amp_ratio = 0.4030983101451894\n",
      "kurtosis = -0.9110018909155841\n",
      "n_points = 1277\n",
      "period = 0.5624707955811346\n",
      "period_SNR = 194.21730612171257\n",
      "period_log10FAP = -192.36346740342373\n",
      "period_uncertainty = 0.0001373219797624614\n",
      "phase_cusum = 0.32607715405769583\n",
      "phase_eta = 0.1226486584230441\n",
      "phi21 = -2.3955298731269594\n",
      "phi31 = -4.385137668990532\n",
      "quartile31 = 0.4299983326988741\n",
      "r21 = 0.47569186043605977\n",
      "r31 = 0.2972135341682631\n",
      "shapiro_w = 0.9123263359069824\n",
      "skewness = -0.6012567716176801\n",
      "slope_per10 = -0.05503448590386949\n",
      "slope_per90 = 0.044849735211121525\n",
      "stetson_k = 0.7195868431584528\n",
      "weighted_mean = 14.439427666940363\n",
      "weighted_std = 0.26253166278345197\n"
     ]
    },
    {
     "name": "stderr",
     "output_type": "stream",
     "text": [
      "/Users/zoesurles/miniconda3/lib/python3.11/site-packages/sklearn/base.py:318: UserWarning: Trying to unpickle estimator RandomForestClassifier from version 0.24.1 when using version 1.2.2. This might lead to breaking code or invalid results. Use at your own risk. For more info please refer to:\n",
      "https://scikit-learn.org/stable/model_persistence.html#security-maintainability-limitations\n",
      "  warnings.warn(\n"
     ]
    }
   ],
   "source": [
    "num_iterations = 5\n",
    "empty_list = []\n",
    "for i in range(num_iterations):\n",
    "    if i == 8:\n",
    "        continue\n",
    "    search = client.cone_search(ra_deg = final_table[\"RA\"][i], dec_deg = final_table[\"Dec\"][i], radius=0.0003, catalog='aavsovsx', download=True)\n",
    "\n",
    "    savecsv = search.save(save_dir = folder_path_csv, file_format=\"csv\")[1]\n",
    "    empty_list.append(savecsv)\n",
    "\n",
    "    new_file = pd.read_csv(savecsv, skiprows=1)\n",
    "\n",
    "    g_filter = new_file[new_file['phot_filter'] == 'g']\n",
    "    web_format = g_filter[[\"jd\", \"mag\", \"mag_err\"]]\n",
    "    web_format.to_csv(savecsv.replace(\".csv\", \".txt\"), sep='\\t', index=False, header = False)\n",
    "\n",
    "    classification_model(savecsv.replace(\".csv\", \".txt\"), final_table[\"RA\"][i], final_table[\"Dec\"][i], final_table[\"Magnitude\"][i], final_table[\"Other Info\"][i], new_file[\"asas_sn_id\"][0])"
   ]
  },
  {
   "cell_type": "code",
   "execution_count": null,
   "metadata": {},
   "outputs": [],
   "source": []
  }
 ],
 "metadata": {
  "kernelspec": {
   "display_name": "base",
   "language": "python",
   "name": "python3"
  },
  "language_info": {
   "codemirror_mode": {
    "name": "ipython",
    "version": 3
   },
   "file_extension": ".py",
   "mimetype": "text/x-python",
   "name": "python",
   "nbconvert_exporter": "python",
   "pygments_lexer": "ipython3",
   "version": "3.11.7"
  }
 },
 "nbformat": 4,
 "nbformat_minor": 2
}
